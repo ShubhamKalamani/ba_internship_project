{
  "nbformat": 4,
  "nbformat_minor": 0,
  "metadata": {
    "colab": {
      "provenance": [],
      "toc_visible": true,
      "include_colab_link": true
    },
    "kernelspec": {
      "name": "python3",
      "display_name": "Python 3"
    },
    "language_info": {
      "name": "python"
    }
  },
  "cells": [
    {
      "cell_type": "markdown",
      "metadata": {
        "id": "view-in-github",
        "colab_type": "text"
      },
      "source": [
        "<a href=\"https://colab.research.google.com/github/ShubhamKalamani/ba_internship_project/blob/main/BA_Internship_Project3.ipynb\" target=\"_parent\"><img src=\"https://colab.research.google.com/assets/colab-badge.svg\" alt=\"Open In Colab\"/></a>"
      ]
    },
    {
      "cell_type": "markdown",
      "source": [
        "**Movie Recommendation**"
      ],
      "metadata": {
        "id": "O972Cr4cusuv"
      }
    },
    {
      "cell_type": "markdown",
      "source": [
        "Recommender System is a system that seeks to predict or filter preferences according to the user's choices. Recommender systems are utilized in a variety of areas including movies, music, news, books, research articles, search queries, social tags, and products in general.\n",
        "\n",
        "Recommender systems produce a list of recommendations in any of the two ways -\n",
        "\n",
        "Collaborative filtering: Collaborative filtering approaches build a model from the user's past behavior (i.e. items purchased or searched by the user) as well as similar decisions made by other users. This model is then used to predict items (or ratings for items) that users may have an interest in\n",
        "\n",
        "Content-based filtering: Content-based filtering approaches uses a series of discrete characteristics of an item in order to recommend additional items with similar properties. Content-based filtering methods are totally based on a description of the item and a profile of the user's preferences. It recommends items based on the user's past preferences. Let's develop a basic recommendation system using Python and Pandas."
      ],
      "metadata": {
        "id": "hBG8gAYR6e_H"
      }
    },
    {
      "cell_type": "markdown",
      "source": [
        "**Import Library**"
      ],
      "metadata": {
        "id": "sRXzahqfuwII"
      }
    },
    {
      "cell_type": "code",
      "execution_count": 1,
      "metadata": {
        "id": "Eu6uHd26uqhf"
      },
      "outputs": [],
      "source": [
        "import pandas as pd"
      ]
    },
    {
      "cell_type": "code",
      "source": [
        "import numpy as np"
      ],
      "metadata": {
        "id": "-9BeXuR0u0bR"
      },
      "execution_count": 2,
      "outputs": []
    },
    {
      "cell_type": "code",
      "source": [
        "df=pd.read_csv ('https://raw.githubusercontent.com/YBI-Foundation/Dataset/main/Movies%20Recommendation.csv')"
      ],
      "metadata": {
        "id": "s2vpzXH9u0ej"
      },
      "execution_count": 3,
      "outputs": []
    },
    {
      "cell_type": "code",
      "source": [
        "df.head()"
      ],
      "metadata": {
        "colab": {
          "base_uri": "https://localhost:8080/",
          "height": 716
        },
        "id": "I99J-1aYu0io",
        "outputId": "51c4dde7-d27c-45f3-eecb-7ab501afd752"
      },
      "execution_count": 4,
      "outputs": [
        {
          "output_type": "execute_result",
          "data": {
            "text/plain": [
              "   Movie_ID      Movie_Title                       Movie_Genre Movie_Language  \\\n",
              "0         1       Four Rooms                      Crime Comedy             en   \n",
              "1         2        Star Wars  Adventure Action Science Fiction             en   \n",
              "2         3     Finding Nemo                  Animation Family             en   \n",
              "3         4     Forrest Gump              Comedy Drama Romance             en   \n",
              "4         5  American Beauty                             Drama             en   \n",
              "\n",
              "   Movie_Budget  Movie_Popularity Movie_Release_Date  Movie_Revenue  \\\n",
              "0       4000000         22.876230         09-12-1995        4300000   \n",
              "1      11000000        126.393695         25-05-1977      775398007   \n",
              "2      94000000         85.688789         30-05-2003      940335536   \n",
              "3      55000000        138.133331         06-07-1994      677945399   \n",
              "4      15000000         80.878605         15-09-1999      356296601   \n",
              "\n",
              "   Movie_Runtime  Movie_Vote  ...  \\\n",
              "0           98.0         6.5  ...   \n",
              "1          121.0         8.1  ...   \n",
              "2          100.0         7.6  ...   \n",
              "3          142.0         8.2  ...   \n",
              "4          122.0         7.9  ...   \n",
              "\n",
              "                                      Movie_Homepage  \\\n",
              "0                                                NaN   \n",
              "1  http://www.starwars.com/films/star-wars-episod...   \n",
              "2              http://movies.disney.com/finding-nemo   \n",
              "3                                                NaN   \n",
              "4                      http://www.dreamworks.com/ab/   \n",
              "\n",
              "                                      Movie_Keywords  \\\n",
              "0          hotel new year's eve witch bet hotel room   \n",
              "1        android galaxy hermit death star lightsaber   \n",
              "2  father son relationship harbor underwater fish...   \n",
              "3  vietnam veteran hippie mentally disabled runni...   \n",
              "4  male nudity female nudity adultery midlife cri...   \n",
              "\n",
              "                                      Movie_Overview  \\\n",
              "0  It's Ted the Bellhop's first night on the job....   \n",
              "1  Princess Leia is captured and held hostage by ...   \n",
              "2  Nemo, an adventurous young clownfish, is unexp...   \n",
              "3  A man with a low IQ has accomplished great thi...   \n",
              "4  Lester Burnham, a depressed suburban father in...   \n",
              "\n",
              "                              Movie_Production_House  \\\n",
              "0  [{\"name\": \"Miramax Films\", \"id\": 14}, {\"name\":...   \n",
              "1  [{\"name\": \"Lucasfilm\", \"id\": 1}, {\"name\": \"Twe...   \n",
              "2     [{\"name\": \"Pixar Animation Studios\", \"id\": 3}]   \n",
              "3          [{\"name\": \"Paramount Pictures\", \"id\": 4}]   \n",
              "4  [{\"name\": \"DreamWorks SKG\", \"id\": 27}, {\"name\"...   \n",
              "\n",
              "                            Movie_Production_Country  \\\n",
              "0  [{\"iso_3166_1\": \"US\", \"name\": \"United States o...   \n",
              "1  [{\"iso_3166_1\": \"US\", \"name\": \"United States o...   \n",
              "2  [{\"iso_3166_1\": \"US\", \"name\": \"United States o...   \n",
              "3  [{\"iso_3166_1\": \"US\", \"name\": \"United States o...   \n",
              "4  [{\"iso_3166_1\": \"US\", \"name\": \"United States o...   \n",
              "\n",
              "                      Movie_Spoken_Language  \\\n",
              "0  [{\"iso_639_1\": \"en\", \"name\": \"English\"}]   \n",
              "1  [{\"iso_639_1\": \"en\", \"name\": \"English\"}]   \n",
              "2  [{\"iso_639_1\": \"en\", \"name\": \"English\"}]   \n",
              "3  [{\"iso_639_1\": \"en\", \"name\": \"English\"}]   \n",
              "4  [{\"iso_639_1\": \"en\", \"name\": \"English\"}]   \n",
              "\n",
              "                                       Movie_Tagline  \\\n",
              "0  Twelve outrageous guests. Four scandalous requ...   \n",
              "1       A long time ago in a galaxy far, far away...   \n",
              "2  There are 3.7 trillion fish in the ocean, they...   \n",
              "3  The world will never be the same, once you've ...   \n",
              "4                                       Look closer.   \n",
              "\n",
              "                                          Movie_Cast  \\\n",
              "0  Tim Roth Antonio Banderas Jennifer Beals Madon...   \n",
              "1  Mark Hamill Harrison Ford Carrie Fisher Peter ...   \n",
              "2  Albert Brooks Ellen DeGeneres Alexander Gould ...   \n",
              "3  Tom Hanks Robin Wright Gary Sinise Mykelti Wil...   \n",
              "4  Kevin Spacey Annette Bening Thora Birch Wes Be...   \n",
              "\n",
              "                                          Movie_Crew   Movie_Director  \n",
              "0  [{'name': 'Allison Anders', 'gender': 1, 'depa...   Allison Anders  \n",
              "1  [{'name': 'George Lucas', 'gender': 2, 'depart...     George Lucas  \n",
              "2  [{'name': 'Andrew Stanton', 'gender': 2, 'depa...   Andrew Stanton  \n",
              "3  [{'name': 'Alan Silvestri', 'gender': 2, 'depa...  Robert Zemeckis  \n",
              "4  [{'name': 'Thomas Newman', 'gender': 2, 'depar...       Sam Mendes  \n",
              "\n",
              "[5 rows x 21 columns]"
            ],
            "text/html": [
              "\n",
              "  <div id=\"df-473dc73a-6a25-435a-a5f7-f1af34103ea6\">\n",
              "    <div class=\"colab-df-container\">\n",
              "      <div>\n",
              "<style scoped>\n",
              "    .dataframe tbody tr th:only-of-type {\n",
              "        vertical-align: middle;\n",
              "    }\n",
              "\n",
              "    .dataframe tbody tr th {\n",
              "        vertical-align: top;\n",
              "    }\n",
              "\n",
              "    .dataframe thead th {\n",
              "        text-align: right;\n",
              "    }\n",
              "</style>\n",
              "<table border=\"1\" class=\"dataframe\">\n",
              "  <thead>\n",
              "    <tr style=\"text-align: right;\">\n",
              "      <th></th>\n",
              "      <th>Movie_ID</th>\n",
              "      <th>Movie_Title</th>\n",
              "      <th>Movie_Genre</th>\n",
              "      <th>Movie_Language</th>\n",
              "      <th>Movie_Budget</th>\n",
              "      <th>Movie_Popularity</th>\n",
              "      <th>Movie_Release_Date</th>\n",
              "      <th>Movie_Revenue</th>\n",
              "      <th>Movie_Runtime</th>\n",
              "      <th>Movie_Vote</th>\n",
              "      <th>...</th>\n",
              "      <th>Movie_Homepage</th>\n",
              "      <th>Movie_Keywords</th>\n",
              "      <th>Movie_Overview</th>\n",
              "      <th>Movie_Production_House</th>\n",
              "      <th>Movie_Production_Country</th>\n",
              "      <th>Movie_Spoken_Language</th>\n",
              "      <th>Movie_Tagline</th>\n",
              "      <th>Movie_Cast</th>\n",
              "      <th>Movie_Crew</th>\n",
              "      <th>Movie_Director</th>\n",
              "    </tr>\n",
              "  </thead>\n",
              "  <tbody>\n",
              "    <tr>\n",
              "      <th>0</th>\n",
              "      <td>1</td>\n",
              "      <td>Four Rooms</td>\n",
              "      <td>Crime Comedy</td>\n",
              "      <td>en</td>\n",
              "      <td>4000000</td>\n",
              "      <td>22.876230</td>\n",
              "      <td>09-12-1995</td>\n",
              "      <td>4300000</td>\n",
              "      <td>98.0</td>\n",
              "      <td>6.5</td>\n",
              "      <td>...</td>\n",
              "      <td>NaN</td>\n",
              "      <td>hotel new year's eve witch bet hotel room</td>\n",
              "      <td>It's Ted the Bellhop's first night on the job....</td>\n",
              "      <td>[{\"name\": \"Miramax Films\", \"id\": 14}, {\"name\":...</td>\n",
              "      <td>[{\"iso_3166_1\": \"US\", \"name\": \"United States o...</td>\n",
              "      <td>[{\"iso_639_1\": \"en\", \"name\": \"English\"}]</td>\n",
              "      <td>Twelve outrageous guests. Four scandalous requ...</td>\n",
              "      <td>Tim Roth Antonio Banderas Jennifer Beals Madon...</td>\n",
              "      <td>[{'name': 'Allison Anders', 'gender': 1, 'depa...</td>\n",
              "      <td>Allison Anders</td>\n",
              "    </tr>\n",
              "    <tr>\n",
              "      <th>1</th>\n",
              "      <td>2</td>\n",
              "      <td>Star Wars</td>\n",
              "      <td>Adventure Action Science Fiction</td>\n",
              "      <td>en</td>\n",
              "      <td>11000000</td>\n",
              "      <td>126.393695</td>\n",
              "      <td>25-05-1977</td>\n",
              "      <td>775398007</td>\n",
              "      <td>121.0</td>\n",
              "      <td>8.1</td>\n",
              "      <td>...</td>\n",
              "      <td>http://www.starwars.com/films/star-wars-episod...</td>\n",
              "      <td>android galaxy hermit death star lightsaber</td>\n",
              "      <td>Princess Leia is captured and held hostage by ...</td>\n",
              "      <td>[{\"name\": \"Lucasfilm\", \"id\": 1}, {\"name\": \"Twe...</td>\n",
              "      <td>[{\"iso_3166_1\": \"US\", \"name\": \"United States o...</td>\n",
              "      <td>[{\"iso_639_1\": \"en\", \"name\": \"English\"}]</td>\n",
              "      <td>A long time ago in a galaxy far, far away...</td>\n",
              "      <td>Mark Hamill Harrison Ford Carrie Fisher Peter ...</td>\n",
              "      <td>[{'name': 'George Lucas', 'gender': 2, 'depart...</td>\n",
              "      <td>George Lucas</td>\n",
              "    </tr>\n",
              "    <tr>\n",
              "      <th>2</th>\n",
              "      <td>3</td>\n",
              "      <td>Finding Nemo</td>\n",
              "      <td>Animation Family</td>\n",
              "      <td>en</td>\n",
              "      <td>94000000</td>\n",
              "      <td>85.688789</td>\n",
              "      <td>30-05-2003</td>\n",
              "      <td>940335536</td>\n",
              "      <td>100.0</td>\n",
              "      <td>7.6</td>\n",
              "      <td>...</td>\n",
              "      <td>http://movies.disney.com/finding-nemo</td>\n",
              "      <td>father son relationship harbor underwater fish...</td>\n",
              "      <td>Nemo, an adventurous young clownfish, is unexp...</td>\n",
              "      <td>[{\"name\": \"Pixar Animation Studios\", \"id\": 3}]</td>\n",
              "      <td>[{\"iso_3166_1\": \"US\", \"name\": \"United States o...</td>\n",
              "      <td>[{\"iso_639_1\": \"en\", \"name\": \"English\"}]</td>\n",
              "      <td>There are 3.7 trillion fish in the ocean, they...</td>\n",
              "      <td>Albert Brooks Ellen DeGeneres Alexander Gould ...</td>\n",
              "      <td>[{'name': 'Andrew Stanton', 'gender': 2, 'depa...</td>\n",
              "      <td>Andrew Stanton</td>\n",
              "    </tr>\n",
              "    <tr>\n",
              "      <th>3</th>\n",
              "      <td>4</td>\n",
              "      <td>Forrest Gump</td>\n",
              "      <td>Comedy Drama Romance</td>\n",
              "      <td>en</td>\n",
              "      <td>55000000</td>\n",
              "      <td>138.133331</td>\n",
              "      <td>06-07-1994</td>\n",
              "      <td>677945399</td>\n",
              "      <td>142.0</td>\n",
              "      <td>8.2</td>\n",
              "      <td>...</td>\n",
              "      <td>NaN</td>\n",
              "      <td>vietnam veteran hippie mentally disabled runni...</td>\n",
              "      <td>A man with a low IQ has accomplished great thi...</td>\n",
              "      <td>[{\"name\": \"Paramount Pictures\", \"id\": 4}]</td>\n",
              "      <td>[{\"iso_3166_1\": \"US\", \"name\": \"United States o...</td>\n",
              "      <td>[{\"iso_639_1\": \"en\", \"name\": \"English\"}]</td>\n",
              "      <td>The world will never be the same, once you've ...</td>\n",
              "      <td>Tom Hanks Robin Wright Gary Sinise Mykelti Wil...</td>\n",
              "      <td>[{'name': 'Alan Silvestri', 'gender': 2, 'depa...</td>\n",
              "      <td>Robert Zemeckis</td>\n",
              "    </tr>\n",
              "    <tr>\n",
              "      <th>4</th>\n",
              "      <td>5</td>\n",
              "      <td>American Beauty</td>\n",
              "      <td>Drama</td>\n",
              "      <td>en</td>\n",
              "      <td>15000000</td>\n",
              "      <td>80.878605</td>\n",
              "      <td>15-09-1999</td>\n",
              "      <td>356296601</td>\n",
              "      <td>122.0</td>\n",
              "      <td>7.9</td>\n",
              "      <td>...</td>\n",
              "      <td>http://www.dreamworks.com/ab/</td>\n",
              "      <td>male nudity female nudity adultery midlife cri...</td>\n",
              "      <td>Lester Burnham, a depressed suburban father in...</td>\n",
              "      <td>[{\"name\": \"DreamWorks SKG\", \"id\": 27}, {\"name\"...</td>\n",
              "      <td>[{\"iso_3166_1\": \"US\", \"name\": \"United States o...</td>\n",
              "      <td>[{\"iso_639_1\": \"en\", \"name\": \"English\"}]</td>\n",
              "      <td>Look closer.</td>\n",
              "      <td>Kevin Spacey Annette Bening Thora Birch Wes Be...</td>\n",
              "      <td>[{'name': 'Thomas Newman', 'gender': 2, 'depar...</td>\n",
              "      <td>Sam Mendes</td>\n",
              "    </tr>\n",
              "  </tbody>\n",
              "</table>\n",
              "<p>5 rows × 21 columns</p>\n",
              "</div>\n",
              "      <button class=\"colab-df-convert\" onclick=\"convertToInteractive('df-473dc73a-6a25-435a-a5f7-f1af34103ea6')\"\n",
              "              title=\"Convert this dataframe to an interactive table.\"\n",
              "              style=\"display:none;\">\n",
              "        \n",
              "  <svg xmlns=\"http://www.w3.org/2000/svg\" height=\"24px\"viewBox=\"0 0 24 24\"\n",
              "       width=\"24px\">\n",
              "    <path d=\"M0 0h24v24H0V0z\" fill=\"none\"/>\n",
              "    <path d=\"M18.56 5.44l.94 2.06.94-2.06 2.06-.94-2.06-.94-.94-2.06-.94 2.06-2.06.94zm-11 1L8.5 8.5l.94-2.06 2.06-.94-2.06-.94L8.5 2.5l-.94 2.06-2.06.94zm10 10l.94 2.06.94-2.06 2.06-.94-2.06-.94-.94-2.06-.94 2.06-2.06.94z\"/><path d=\"M17.41 7.96l-1.37-1.37c-.4-.4-.92-.59-1.43-.59-.52 0-1.04.2-1.43.59L10.3 9.45l-7.72 7.72c-.78.78-.78 2.05 0 2.83L4 21.41c.39.39.9.59 1.41.59.51 0 1.02-.2 1.41-.59l7.78-7.78 2.81-2.81c.8-.78.8-2.07 0-2.86zM5.41 20L4 18.59l7.72-7.72 1.47 1.35L5.41 20z\"/>\n",
              "  </svg>\n",
              "      </button>\n",
              "      \n",
              "  <style>\n",
              "    .colab-df-container {\n",
              "      display:flex;\n",
              "      flex-wrap:wrap;\n",
              "      gap: 12px;\n",
              "    }\n",
              "\n",
              "    .colab-df-convert {\n",
              "      background-color: #E8F0FE;\n",
              "      border: none;\n",
              "      border-radius: 50%;\n",
              "      cursor: pointer;\n",
              "      display: none;\n",
              "      fill: #1967D2;\n",
              "      height: 32px;\n",
              "      padding: 0 0 0 0;\n",
              "      width: 32px;\n",
              "    }\n",
              "\n",
              "    .colab-df-convert:hover {\n",
              "      background-color: #E2EBFA;\n",
              "      box-shadow: 0px 1px 2px rgba(60, 64, 67, 0.3), 0px 1px 3px 1px rgba(60, 64, 67, 0.15);\n",
              "      fill: #174EA6;\n",
              "    }\n",
              "\n",
              "    [theme=dark] .colab-df-convert {\n",
              "      background-color: #3B4455;\n",
              "      fill: #D2E3FC;\n",
              "    }\n",
              "\n",
              "    [theme=dark] .colab-df-convert:hover {\n",
              "      background-color: #434B5C;\n",
              "      box-shadow: 0px 1px 3px 1px rgba(0, 0, 0, 0.15);\n",
              "      filter: drop-shadow(0px 1px 2px rgba(0, 0, 0, 0.3));\n",
              "      fill: #FFFFFF;\n",
              "    }\n",
              "  </style>\n",
              "\n",
              "      <script>\n",
              "        const buttonEl =\n",
              "          document.querySelector('#df-473dc73a-6a25-435a-a5f7-f1af34103ea6 button.colab-df-convert');\n",
              "        buttonEl.style.display =\n",
              "          google.colab.kernel.accessAllowed ? 'block' : 'none';\n",
              "\n",
              "        async function convertToInteractive(key) {\n",
              "          const element = document.querySelector('#df-473dc73a-6a25-435a-a5f7-f1af34103ea6');\n",
              "          const dataTable =\n",
              "            await google.colab.kernel.invokeFunction('convertToInteractive',\n",
              "                                                     [key], {});\n",
              "          if (!dataTable) return;\n",
              "\n",
              "          const docLinkHtml = 'Like what you see? Visit the ' +\n",
              "            '<a target=\"_blank\" href=https://colab.research.google.com/notebooks/data_table.ipynb>data table notebook</a>'\n",
              "            + ' to learn more about interactive tables.';\n",
              "          element.innerHTML = '';\n",
              "          dataTable['output_type'] = 'display_data';\n",
              "          await google.colab.output.renderOutput(dataTable, element);\n",
              "          const docLink = document.createElement('div');\n",
              "          docLink.innerHTML = docLinkHtml;\n",
              "          element.appendChild(docLink);\n",
              "        }\n",
              "      </script>\n",
              "    </div>\n",
              "  </div>\n",
              "  "
            ]
          },
          "metadata": {},
          "execution_count": 4
        }
      ]
    },
    {
      "cell_type": "code",
      "source": [
        "df.info()"
      ],
      "metadata": {
        "colab": {
          "base_uri": "https://localhost:8080/"
        },
        "id": "zmePRyCWu0nF",
        "outputId": "9c7fb389-9d8a-4b0d-879e-bddf3f807b98"
      },
      "execution_count": 5,
      "outputs": [
        {
          "output_type": "stream",
          "name": "stdout",
          "text": [
            "<class 'pandas.core.frame.DataFrame'>\n",
            "RangeIndex: 4760 entries, 0 to 4759\n",
            "Data columns (total 21 columns):\n",
            " #   Column                    Non-Null Count  Dtype  \n",
            "---  ------                    --------------  -----  \n",
            " 0   Movie_ID                  4760 non-null   int64  \n",
            " 1   Movie_Title               4760 non-null   object \n",
            " 2   Movie_Genre               4760 non-null   object \n",
            " 3   Movie_Language            4760 non-null   object \n",
            " 4   Movie_Budget              4760 non-null   int64  \n",
            " 5   Movie_Popularity          4760 non-null   float64\n",
            " 6   Movie_Release_Date        4760 non-null   object \n",
            " 7   Movie_Revenue             4760 non-null   int64  \n",
            " 8   Movie_Runtime             4758 non-null   float64\n",
            " 9   Movie_Vote                4760 non-null   float64\n",
            " 10  Movie_Vote_Count          4760 non-null   int64  \n",
            " 11  Movie_Homepage            1699 non-null   object \n",
            " 12  Movie_Keywords            4373 non-null   object \n",
            " 13  Movie_Overview            4757 non-null   object \n",
            " 14  Movie_Production_House    4760 non-null   object \n",
            " 15  Movie_Production_Country  4760 non-null   object \n",
            " 16  Movie_Spoken_Language     4760 non-null   object \n",
            " 17  Movie_Tagline             3942 non-null   object \n",
            " 18  Movie_Cast                4733 non-null   object \n",
            " 19  Movie_Crew                4760 non-null   object \n",
            " 20  Movie_Director            4738 non-null   object \n",
            "dtypes: float64(3), int64(4), object(14)\n",
            "memory usage: 781.1+ KB\n"
          ]
        }
      ]
    },
    {
      "cell_type": "code",
      "source": [
        "df.shape"
      ],
      "metadata": {
        "colab": {
          "base_uri": "https://localhost:8080/"
        },
        "id": "YWqLN193u0qU",
        "outputId": "c891b4bf-89ee-46d2-cb24-f4e210d23acb"
      },
      "execution_count": 6,
      "outputs": [
        {
          "output_type": "execute_result",
          "data": {
            "text/plain": [
              "(4760, 21)"
            ]
          },
          "metadata": {},
          "execution_count": 6
        }
      ]
    },
    {
      "cell_type": "code",
      "source": [
        "df.columns"
      ],
      "metadata": {
        "colab": {
          "base_uri": "https://localhost:8080/"
        },
        "id": "G8f-izVju0te",
        "outputId": "d53bcbd7-e406-4e96-d850-cf367806242e"
      },
      "execution_count": 7,
      "outputs": [
        {
          "output_type": "execute_result",
          "data": {
            "text/plain": [
              "Index(['Movie_ID', 'Movie_Title', 'Movie_Genre', 'Movie_Language',\n",
              "       'Movie_Budget', 'Movie_Popularity', 'Movie_Release_Date',\n",
              "       'Movie_Revenue', 'Movie_Runtime', 'Movie_Vote', 'Movie_Vote_Count',\n",
              "       'Movie_Homepage', 'Movie_Keywords', 'Movie_Overview',\n",
              "       'Movie_Production_House', 'Movie_Production_Country',\n",
              "       'Movie_Spoken_Language', 'Movie_Tagline', 'Movie_Cast', 'Movie_Crew',\n",
              "       'Movie_Director'],\n",
              "      dtype='object')"
            ]
          },
          "metadata": {},
          "execution_count": 7
        }
      ]
    },
    {
      "cell_type": "markdown",
      "source": [
        "Get Feature selection"
      ],
      "metadata": {
        "id": "j4r3OIuUvbNH"
      }
    },
    {
      "cell_type": "code",
      "source": [
        "df_features=df[['Movie_Genre','Movie_Keywords','Movie_Tagline', 'Movie_Cast','Movie_Director']].fillna('df_features.shape')"
      ],
      "metadata": {
        "id": "VL_ftoB9u0wQ"
      },
      "execution_count": 8,
      "outputs": []
    },
    {
      "cell_type": "code",
      "source": [
        "df_features.shape"
      ],
      "metadata": {
        "colab": {
          "base_uri": "https://localhost:8080/"
        },
        "id": "Q6E33fWSu0ze",
        "outputId": "5649f52d-3098-4f47-9f2b-9cb76c36e416"
      },
      "execution_count": 9,
      "outputs": [
        {
          "output_type": "execute_result",
          "data": {
            "text/plain": [
              "(4760, 5)"
            ]
          },
          "metadata": {},
          "execution_count": 9
        }
      ]
    },
    {
      "cell_type": "code",
      "source": [
        "df_features"
      ],
      "metadata": {
        "colab": {
          "base_uri": "https://localhost:8080/",
          "height": 624
        },
        "id": "zxftAWRSu02k",
        "outputId": "7a0fb181-cf74-4c50-8f8b-4e7607ed1d1c"
      },
      "execution_count": 10,
      "outputs": [
        {
          "output_type": "execute_result",
          "data": {
            "text/plain": [
              "                           Movie_Genre  \\\n",
              "0                         Crime Comedy   \n",
              "1     Adventure Action Science Fiction   \n",
              "2                     Animation Family   \n",
              "3                 Comedy Drama Romance   \n",
              "4                                Drama   \n",
              "...                                ...   \n",
              "4755                            Horror   \n",
              "4756               Comedy Family Drama   \n",
              "4757                    Thriller Drama   \n",
              "4758                            Family   \n",
              "4759                       Documentary   \n",
              "\n",
              "                                         Movie_Keywords  \\\n",
              "0             hotel new year's eve witch bet hotel room   \n",
              "1           android galaxy hermit death star lightsaber   \n",
              "2     father son relationship harbor underwater fish...   \n",
              "3     vietnam veteran hippie mentally disabled runni...   \n",
              "4     male nudity female nudity adultery midlife cri...   \n",
              "...                                                 ...   \n",
              "4755                                  df_features.shape   \n",
              "4756                                  df_features.shape   \n",
              "4757                     christian film sex trafficking   \n",
              "4758                                  df_features.shape   \n",
              "4759  music actors legendary perfomer classic hollyw...   \n",
              "\n",
              "                                          Movie_Tagline  \\\n",
              "0     Twelve outrageous guests. Four scandalous requ...   \n",
              "1          A long time ago in a galaxy far, far away...   \n",
              "2     There are 3.7 trillion fish in the ocean, they...   \n",
              "3     The world will never be the same, once you've ...   \n",
              "4                                          Look closer.   \n",
              "...                                                 ...   \n",
              "4755                The hot spot where Satan's waitin'.   \n",
              "4756           It’s better to stand out than to fit in.   \n",
              "4757           She never knew it could happen to her...   \n",
              "4758                                  df_features.shape   \n",
              "4759                                  df_features.shape   \n",
              "\n",
              "                                             Movie_Cast     Movie_Director  \n",
              "0     Tim Roth Antonio Banderas Jennifer Beals Madon...     Allison Anders  \n",
              "1     Mark Hamill Harrison Ford Carrie Fisher Peter ...       George Lucas  \n",
              "2     Albert Brooks Ellen DeGeneres Alexander Gould ...     Andrew Stanton  \n",
              "3     Tom Hanks Robin Wright Gary Sinise Mykelti Wil...    Robert Zemeckis  \n",
              "4     Kevin Spacey Annette Bening Thora Birch Wes Be...         Sam Mendes  \n",
              "...                                                 ...                ...  \n",
              "4755  Lisa Hart Carroll Michael Des Barres Paul Drak...         Pece Dingo  \n",
              "4756  Roni Akurati Brighton Sharbino Jason Lee Anjul...       Frank Lotito  \n",
              "4757  Nicole Smolen Kim Baldwin Ariana Stephens Brys...       Jaco Booyens  \n",
              "4758                                  df_features.shape  df_features.shape  \n",
              "4759                                    Tony Oppedisano  Simon Napier-Bell  \n",
              "\n",
              "[4760 rows x 5 columns]"
            ],
            "text/html": [
              "\n",
              "  <div id=\"df-1079da67-0460-414f-bedc-db703d548dfb\">\n",
              "    <div class=\"colab-df-container\">\n",
              "      <div>\n",
              "<style scoped>\n",
              "    .dataframe tbody tr th:only-of-type {\n",
              "        vertical-align: middle;\n",
              "    }\n",
              "\n",
              "    .dataframe tbody tr th {\n",
              "        vertical-align: top;\n",
              "    }\n",
              "\n",
              "    .dataframe thead th {\n",
              "        text-align: right;\n",
              "    }\n",
              "</style>\n",
              "<table border=\"1\" class=\"dataframe\">\n",
              "  <thead>\n",
              "    <tr style=\"text-align: right;\">\n",
              "      <th></th>\n",
              "      <th>Movie_Genre</th>\n",
              "      <th>Movie_Keywords</th>\n",
              "      <th>Movie_Tagline</th>\n",
              "      <th>Movie_Cast</th>\n",
              "      <th>Movie_Director</th>\n",
              "    </tr>\n",
              "  </thead>\n",
              "  <tbody>\n",
              "    <tr>\n",
              "      <th>0</th>\n",
              "      <td>Crime Comedy</td>\n",
              "      <td>hotel new year's eve witch bet hotel room</td>\n",
              "      <td>Twelve outrageous guests. Four scandalous requ...</td>\n",
              "      <td>Tim Roth Antonio Banderas Jennifer Beals Madon...</td>\n",
              "      <td>Allison Anders</td>\n",
              "    </tr>\n",
              "    <tr>\n",
              "      <th>1</th>\n",
              "      <td>Adventure Action Science Fiction</td>\n",
              "      <td>android galaxy hermit death star lightsaber</td>\n",
              "      <td>A long time ago in a galaxy far, far away...</td>\n",
              "      <td>Mark Hamill Harrison Ford Carrie Fisher Peter ...</td>\n",
              "      <td>George Lucas</td>\n",
              "    </tr>\n",
              "    <tr>\n",
              "      <th>2</th>\n",
              "      <td>Animation Family</td>\n",
              "      <td>father son relationship harbor underwater fish...</td>\n",
              "      <td>There are 3.7 trillion fish in the ocean, they...</td>\n",
              "      <td>Albert Brooks Ellen DeGeneres Alexander Gould ...</td>\n",
              "      <td>Andrew Stanton</td>\n",
              "    </tr>\n",
              "    <tr>\n",
              "      <th>3</th>\n",
              "      <td>Comedy Drama Romance</td>\n",
              "      <td>vietnam veteran hippie mentally disabled runni...</td>\n",
              "      <td>The world will never be the same, once you've ...</td>\n",
              "      <td>Tom Hanks Robin Wright Gary Sinise Mykelti Wil...</td>\n",
              "      <td>Robert Zemeckis</td>\n",
              "    </tr>\n",
              "    <tr>\n",
              "      <th>4</th>\n",
              "      <td>Drama</td>\n",
              "      <td>male nudity female nudity adultery midlife cri...</td>\n",
              "      <td>Look closer.</td>\n",
              "      <td>Kevin Spacey Annette Bening Thora Birch Wes Be...</td>\n",
              "      <td>Sam Mendes</td>\n",
              "    </tr>\n",
              "    <tr>\n",
              "      <th>...</th>\n",
              "      <td>...</td>\n",
              "      <td>...</td>\n",
              "      <td>...</td>\n",
              "      <td>...</td>\n",
              "      <td>...</td>\n",
              "    </tr>\n",
              "    <tr>\n",
              "      <th>4755</th>\n",
              "      <td>Horror</td>\n",
              "      <td>df_features.shape</td>\n",
              "      <td>The hot spot where Satan's waitin'.</td>\n",
              "      <td>Lisa Hart Carroll Michael Des Barres Paul Drak...</td>\n",
              "      <td>Pece Dingo</td>\n",
              "    </tr>\n",
              "    <tr>\n",
              "      <th>4756</th>\n",
              "      <td>Comedy Family Drama</td>\n",
              "      <td>df_features.shape</td>\n",
              "      <td>It’s better to stand out than to fit in.</td>\n",
              "      <td>Roni Akurati Brighton Sharbino Jason Lee Anjul...</td>\n",
              "      <td>Frank Lotito</td>\n",
              "    </tr>\n",
              "    <tr>\n",
              "      <th>4757</th>\n",
              "      <td>Thriller Drama</td>\n",
              "      <td>christian film sex trafficking</td>\n",
              "      <td>She never knew it could happen to her...</td>\n",
              "      <td>Nicole Smolen Kim Baldwin Ariana Stephens Brys...</td>\n",
              "      <td>Jaco Booyens</td>\n",
              "    </tr>\n",
              "    <tr>\n",
              "      <th>4758</th>\n",
              "      <td>Family</td>\n",
              "      <td>df_features.shape</td>\n",
              "      <td>df_features.shape</td>\n",
              "      <td>df_features.shape</td>\n",
              "      <td>df_features.shape</td>\n",
              "    </tr>\n",
              "    <tr>\n",
              "      <th>4759</th>\n",
              "      <td>Documentary</td>\n",
              "      <td>music actors legendary perfomer classic hollyw...</td>\n",
              "      <td>df_features.shape</td>\n",
              "      <td>Tony Oppedisano</td>\n",
              "      <td>Simon Napier-Bell</td>\n",
              "    </tr>\n",
              "  </tbody>\n",
              "</table>\n",
              "<p>4760 rows × 5 columns</p>\n",
              "</div>\n",
              "      <button class=\"colab-df-convert\" onclick=\"convertToInteractive('df-1079da67-0460-414f-bedc-db703d548dfb')\"\n",
              "              title=\"Convert this dataframe to an interactive table.\"\n",
              "              style=\"display:none;\">\n",
              "        \n",
              "  <svg xmlns=\"http://www.w3.org/2000/svg\" height=\"24px\"viewBox=\"0 0 24 24\"\n",
              "       width=\"24px\">\n",
              "    <path d=\"M0 0h24v24H0V0z\" fill=\"none\"/>\n",
              "    <path d=\"M18.56 5.44l.94 2.06.94-2.06 2.06-.94-2.06-.94-.94-2.06-.94 2.06-2.06.94zm-11 1L8.5 8.5l.94-2.06 2.06-.94-2.06-.94L8.5 2.5l-.94 2.06-2.06.94zm10 10l.94 2.06.94-2.06 2.06-.94-2.06-.94-.94-2.06-.94 2.06-2.06.94z\"/><path d=\"M17.41 7.96l-1.37-1.37c-.4-.4-.92-.59-1.43-.59-.52 0-1.04.2-1.43.59L10.3 9.45l-7.72 7.72c-.78.78-.78 2.05 0 2.83L4 21.41c.39.39.9.59 1.41.59.51 0 1.02-.2 1.41-.59l7.78-7.78 2.81-2.81c.8-.78.8-2.07 0-2.86zM5.41 20L4 18.59l7.72-7.72 1.47 1.35L5.41 20z\"/>\n",
              "  </svg>\n",
              "      </button>\n",
              "      \n",
              "  <style>\n",
              "    .colab-df-container {\n",
              "      display:flex;\n",
              "      flex-wrap:wrap;\n",
              "      gap: 12px;\n",
              "    }\n",
              "\n",
              "    .colab-df-convert {\n",
              "      background-color: #E8F0FE;\n",
              "      border: none;\n",
              "      border-radius: 50%;\n",
              "      cursor: pointer;\n",
              "      display: none;\n",
              "      fill: #1967D2;\n",
              "      height: 32px;\n",
              "      padding: 0 0 0 0;\n",
              "      width: 32px;\n",
              "    }\n",
              "\n",
              "    .colab-df-convert:hover {\n",
              "      background-color: #E2EBFA;\n",
              "      box-shadow: 0px 1px 2px rgba(60, 64, 67, 0.3), 0px 1px 3px 1px rgba(60, 64, 67, 0.15);\n",
              "      fill: #174EA6;\n",
              "    }\n",
              "\n",
              "    [theme=dark] .colab-df-convert {\n",
              "      background-color: #3B4455;\n",
              "      fill: #D2E3FC;\n",
              "    }\n",
              "\n",
              "    [theme=dark] .colab-df-convert:hover {\n",
              "      background-color: #434B5C;\n",
              "      box-shadow: 0px 1px 3px 1px rgba(0, 0, 0, 0.15);\n",
              "      filter: drop-shadow(0px 1px 2px rgba(0, 0, 0, 0.3));\n",
              "      fill: #FFFFFF;\n",
              "    }\n",
              "  </style>\n",
              "\n",
              "      <script>\n",
              "        const buttonEl =\n",
              "          document.querySelector('#df-1079da67-0460-414f-bedc-db703d548dfb button.colab-df-convert');\n",
              "        buttonEl.style.display =\n",
              "          google.colab.kernel.accessAllowed ? 'block' : 'none';\n",
              "\n",
              "        async function convertToInteractive(key) {\n",
              "          const element = document.querySelector('#df-1079da67-0460-414f-bedc-db703d548dfb');\n",
              "          const dataTable =\n",
              "            await google.colab.kernel.invokeFunction('convertToInteractive',\n",
              "                                                     [key], {});\n",
              "          if (!dataTable) return;\n",
              "\n",
              "          const docLinkHtml = 'Like what you see? Visit the ' +\n",
              "            '<a target=\"_blank\" href=https://colab.research.google.com/notebooks/data_table.ipynb>data table notebook</a>'\n",
              "            + ' to learn more about interactive tables.';\n",
              "          element.innerHTML = '';\n",
              "          dataTable['output_type'] = 'display_data';\n",
              "          await google.colab.output.renderOutput(dataTable, element);\n",
              "          const docLink = document.createElement('div');\n",
              "          docLink.innerHTML = docLinkHtml;\n",
              "          element.appendChild(docLink);\n",
              "        }\n",
              "      </script>\n",
              "    </div>\n",
              "  </div>\n",
              "  "
            ]
          },
          "metadata": {},
          "execution_count": 10
        }
      ]
    },
    {
      "cell_type": "code",
      "source": [
        "x=df_features['Movie_Genre']+ ''+ df_features['Movie_Keywords']+''+ df_features['Movie_Tagline']+''+ df_features['Movie_Cast']+''+ df_features['Movie_Director']"
      ],
      "metadata": {
        "id": "DJ2CCn2zu05e"
      },
      "execution_count": 11,
      "outputs": []
    },
    {
      "cell_type": "code",
      "source": [
        "x"
      ],
      "metadata": {
        "colab": {
          "base_uri": "https://localhost:8080/"
        },
        "id": "C4-hCkgPu08x",
        "outputId": "9ecd80c9-0c61-4679-a4f3-cc89d9d0a167"
      },
      "execution_count": 12,
      "outputs": [
        {
          "output_type": "execute_result",
          "data": {
            "text/plain": [
              "0       Crime Comedyhotel new year's eve witch bet hot...\n",
              "1       Adventure Action Science Fictionandroid galaxy...\n",
              "2       Animation Familyfather son relationship harbor...\n",
              "3       Comedy Drama Romancevietnam veteran hippie men...\n",
              "4       Dramamale nudity female nudity adultery midlif...\n",
              "                              ...                        \n",
              "4755    Horrordf_features.shapeThe hot spot where Sata...\n",
              "4756    Comedy Family Dramadf_features.shapeIt’s bette...\n",
              "4757    Thriller Dramachristian film sex traffickingSh...\n",
              "4758    Familydf_features.shapedf_features.shapedf_fea...\n",
              "4759    Documentarymusic actors legendary perfomer cla...\n",
              "Length: 4760, dtype: object"
            ]
          },
          "metadata": {},
          "execution_count": 12
        }
      ]
    },
    {
      "cell_type": "code",
      "source": [
        "x.shape"
      ],
      "metadata": {
        "colab": {
          "base_uri": "https://localhost:8080/"
        },
        "id": "ae2Ithvku1AT",
        "outputId": "42a70521-a4de-4f54-ffd6-206c0dd85dd2"
      },
      "execution_count": 13,
      "outputs": [
        {
          "output_type": "execute_result",
          "data": {
            "text/plain": [
              "(4760,)"
            ]
          },
          "metadata": {},
          "execution_count": 13
        }
      ]
    },
    {
      "cell_type": "markdown",
      "source": [
        "**Get feature text conversion to tokens**"
      ],
      "metadata": {
        "id": "ldCYExYpwBoD"
      }
    },
    {
      "cell_type": "code",
      "source": [
        "from sklearn.feature_extraction.text import TfidfVectorizer"
      ],
      "metadata": {
        "id": "qOka7NLTu1Dx"
      },
      "execution_count": 14,
      "outputs": []
    },
    {
      "cell_type": "code",
      "source": [
        "Tfidf=TfidfVectorizer()"
      ],
      "metadata": {
        "id": "0fBKxBIzu1G6"
      },
      "execution_count": 15,
      "outputs": []
    },
    {
      "cell_type": "code",
      "source": [
        "x=Tfidf.fit_transform(x)"
      ],
      "metadata": {
        "id": "bsIW0aANu1J4"
      },
      "execution_count": 16,
      "outputs": []
    },
    {
      "cell_type": "code",
      "source": [
        "x.shape"
      ],
      "metadata": {
        "colab": {
          "base_uri": "https://localhost:8080/"
        },
        "id": "giVAhyBLu1Ns",
        "outputId": "acd1f106-1e63-4306-e9a4-5fbbd4e407ef"
      },
      "execution_count": 17,
      "outputs": [
        {
          "output_type": "execute_result",
          "data": {
            "text/plain": [
              "(4760, 27591)"
            ]
          },
          "metadata": {},
          "execution_count": 17
        }
      ]
    },
    {
      "cell_type": "code",
      "source": [
        "print(x)"
      ],
      "metadata": {
        "colab": {
          "base_uri": "https://localhost:8080/"
        },
        "id": "doCmp_ZKu1S3",
        "outputId": "2429de9d-656b-40ea-da15-afefc97cd551"
      },
      "execution_count": 18,
      "outputs": [
        {
          "output_type": "stream",
          "name": "stdout",
          "text": [
            "  (0, 1013)\t0.16196019146631543\n",
            "  (0, 24923)\t0.1954632929283795\n",
            "  (0, 15491)\t0.14205053053187272\n",
            "  (0, 15201)\t0.17099186675469502\n",
            "  (0, 2114)\t0.18002354204307464\n",
            "  (0, 12963)\t0.09914387783149516\n",
            "  (0, 1869)\t0.14106037409792174\n",
            "  (0, 1199)\t0.13920306109638164\n",
            "  (0, 20732)\t0.14205053053187272\n",
            "  (0, 24839)\t0.11357423942624927\n",
            "  (0, 14595)\t0.091376722056839\n",
            "  (0, 17730)\t0.06200430666985742\n",
            "  (0, 26865)\t0.175053052455033\n",
            "  (0, 9482)\t0.08712552095655665\n",
            "  (0, 26803)\t0.1116831168780693\n",
            "  (0, 13052)\t0.13748876529263096\n",
            "  (0, 24280)\t0.10726395493180996\n",
            "  (0, 17824)\t0.07278761942152372\n",
            "  (0, 6088)\t0.11970212451073885\n",
            "  (0, 9318)\t0.11757910435818826\n",
            "  (0, 11633)\t0.20134029899961134\n",
            "  (0, 12454)\t0.1530338818199682\n",
            "  (0, 2274)\t0.1954632929283795\n",
            "  (0, 14823)\t0.1537691763994982\n",
            "  (0, 17828)\t0.08579029869987485\n",
            "  :\t:\n",
            "  (4757, 21591)\t0.1646400247918531\n",
            "  (4757, 17422)\t0.18881341937258544\n",
            "  (4757, 9214)\t0.1411164779725638\n",
            "  (4757, 13828)\t0.2330831990045816\n",
            "  (4757, 11435)\t0.17321388936472645\n",
            "  (4757, 13704)\t0.1776312353410007\n",
            "  (4757, 24406)\t0.10947784435203887\n",
            "  (4757, 24884)\t0.09744940789814222\n",
            "  (4757, 12730)\t0.12400374714145113\n",
            "  (4757, 17354)\t0.1489085353667712\n",
            "  (4758, 8483)\t0.3868492093363469\n",
            "  (4758, 21816)\t0.8232611595827996\n",
            "  (4758, 21672)\t0.4154380246898779\n",
            "  (4759, 17860)\t0.31788279505334266\n",
            "  (4759, 22239)\t0.31788279505334266\n",
            "  (4759, 22622)\t0.31788279505334266\n",
            "  (4759, 18471)\t0.31788279505334266\n",
            "  (4759, 6800)\t0.31788279505334266\n",
            "  (4759, 337)\t0.3031945426368836\n",
            "  (4759, 14394)\t0.3031945426368836\n",
            "  (4759, 11810)\t0.2633965568642675\n",
            "  (4759, 4426)\t0.2676633283410286\n",
            "  (4759, 17185)\t0.2927730616971856\n",
            "  (4759, 9635)\t0.2067404672990171\n",
            "  (4759, 2267)\t0.20351828344079165\n"
          ]
        }
      ]
    },
    {
      "cell_type": "markdown",
      "source": [
        "**Get Similarity Scoreusing cosine similarity**"
      ],
      "metadata": {
        "id": "AGUpA1QSwV1O"
      }
    },
    {
      "cell_type": "code",
      "source": [
        "from sklearn.metrics.pairwise import cosine_similarity"
      ],
      "metadata": {
        "id": "CRd6RQW0wWLp"
      },
      "execution_count": 19,
      "outputs": []
    },
    {
      "cell_type": "code",
      "source": [
        "Similarity_Score=cosine_similarity(x)"
      ],
      "metadata": {
        "id": "KwIUNOZ4wZrn"
      },
      "execution_count": 20,
      "outputs": []
    },
    {
      "cell_type": "code",
      "source": [
        "Similarity_Score"
      ],
      "metadata": {
        "colab": {
          "base_uri": "https://localhost:8080/"
        },
        "id": "xqUSgydxwZu4",
        "outputId": "9ec4dca6-2755-46b3-b6d3-70bdf107221d"
      },
      "execution_count": 21,
      "outputs": [
        {
          "output_type": "execute_result",
          "data": {
            "text/plain": [
              "array([[1.        , 0.01438634, 0.03806553, ..., 0.        , 0.        ,\n",
              "        0.        ],\n",
              "       [0.01438634, 1.        , 0.00844751, ..., 0.        , 0.        ,\n",
              "        0.        ],\n",
              "       [0.03806553, 0.00844751, 1.        , ..., 0.        , 0.        ,\n",
              "        0.        ],\n",
              "       ...,\n",
              "       [0.        , 0.        , 0.        , ..., 1.        , 0.        ,\n",
              "        0.        ],\n",
              "       [0.        , 0.        , 0.        , ..., 0.        , 1.        ,\n",
              "        0.        ],\n",
              "       [0.        , 0.        , 0.        , ..., 0.        , 0.        ,\n",
              "        1.        ]])"
            ]
          },
          "metadata": {},
          "execution_count": 21
        }
      ]
    },
    {
      "cell_type": "code",
      "source": [
        "Similarity_Score.shape"
      ],
      "metadata": {
        "colab": {
          "base_uri": "https://localhost:8080/"
        },
        "id": "TFZYxQd8wZyG",
        "outputId": "04dc586a-109c-4460-b34f-ce78b4b4d988"
      },
      "execution_count": 22,
      "outputs": [
        {
          "output_type": "execute_result",
          "data": {
            "text/plain": [
              "(4760, 4760)"
            ]
          },
          "metadata": {},
          "execution_count": 22
        }
      ]
    },
    {
      "cell_type": "markdown",
      "source": [
        "\n",
        "**Get movie name**"
      ],
      "metadata": {
        "id": "mcaIDjUswlxw"
      }
    },
    {
      "cell_type": "code",
      "source": [
        "Favourite_Movie_Name=input('Enter your favourite movie name:')"
      ],
      "metadata": {
        "id": "2gqgh7EgwZ4F"
      },
      "execution_count": null,
      "outputs": []
    },
    {
      "cell_type": "code",
      "source": [
        "All_Movie_Title_List=df['Movie_Title'].tolist()"
      ],
      "metadata": {
        "id": "qbbgQSi-wZ7I"
      },
      "execution_count": null,
      "outputs": []
    },
    {
      "cell_type": "code",
      "source": [
        "import difflib"
      ],
      "metadata": {
        "id": "CivWR-YDw3ow"
      },
      "execution_count": null,
      "outputs": []
    },
    {
      "cell_type": "code",
      "source": [
        "Movie_Recommendation=difflib.get_close_matches(Favourite_Movie_Name,All_Movie_Title_List)\n",
        "print(Movie_Recommendation)"
      ],
      "metadata": {
        "id": "5g-G5abZw3wo"
      },
      "execution_count": null,
      "outputs": []
    },
    {
      "cell_type": "code",
      "source": [
        "Close_Match=Movie_Recommendation[0]\n",
        "print(Close_Match)"
      ],
      "metadata": {
        "id": "AhSD7SxWw31k"
      },
      "execution_count": null,
      "outputs": []
    },
    {
      "cell_type": "code",
      "source": [
        "Index_of_Close_Match_Movie = df[df.Movie_Title == Close_Match]['Movie_ID'].values[0]\n",
        "print(Index_of_Close_Match_Movie)"
      ],
      "metadata": {
        "id": "0ByYx36Lw35c"
      },
      "execution_count": null,
      "outputs": []
    },
    {
      "cell_type": "code",
      "source": [
        "Recommendation_Score = list(enumerate(Similarity_Score[Index_of_Close_Match_Movie]))\n",
        "print(Recommendation_Score)"
      ],
      "metadata": {
        "id": "wRJvHTkKw38n",
        "outputId": "d60a37f9-f9e9-488b-9abb-23e4c3781c92",
        "colab": {
          "base_uri": "https://localhost:8080/"
        }
      },
      "execution_count": null,
      "outputs": [
        {
          "output_type": "stream",
          "name": "stdout",
          "text": [
            "[(0, 0.0), (1, 0.06429685118958649), (2, 0.0), (3, 0.013041474969240822), (4, 0.03035741418272463), (5, 0.015699280043407534), (6, 0.0215566590558908), (7, 0.00886289167654926), (8, 0.0038490160448571816), (9, 0.0), (10, 0.0129800300376362), (11, 0.0038130354687194237), (12, 0.004038221262774217), (13, 0.0), (14, 0.0), (15, 0.022399592565858665), (16, 0.0031878753787510663), (17, 0.0), (18, 0.02473637288356536), (19, 0.024503724825785545), (20, 0.0), (21, 0.0041421352421780544), (22, 0.00797249751605367), (23, 0.003816534922439385), (24, 0.0), (25, 0.012765157384443825), (26, 0.0), (27, 0.00820531399692895), (28, 0.019999063387987473), (29, 0.0035563740187922964), (30, 0.03032267430600174), (31, 0.034092675884566236), (32, 0.0034008687812971477), (33, 0.026370490828768963), (34, 0.003875793031274401), (35, 0.0), (36, 0.010423722839825856), (37, 0.029619203775842855), (38, 0.0), (39, 0.020409860507970848), (40, 0.0), (41, 0.003955085622373121), (42, 0.0), (43, 0.0), (44, 0.0031157938294610003), (45, 0.019677903967522982), (46, 0.04098649132314258), (47, 0.0), (48, 0.004045555121834954), (49, 0.011158156380284567), (50, 0.0), (51, 0.0038066935925596076), (52, 0.003474800725876089), (53, 0.011294378893919375), (54, 0.0), (55, 0.0), (56, 0.0), (57, 0.0), (58, 0.0), (59, 0.0), (60, 0.0031839908840529296), (61, 0.0603861173477549), (62, 0.004072851755349485), (63, 0.0031044925215648177), (64, 0.01833845730918381), (65, 0.020408777523523314), (66, 0.0), (67, 0.018936980873095675), (68, 0.028141133593155843), (69, 0.02362359758931764), (70, 0.0), (71, 0.0037375515817977376), (72, 0.0), (73, 0.007565641848624144), (74, 0.0124917995251198), (75, 0.07068085542754039), (76, 0.017874078020654743), (77, 0.006113499496904052), (78, 0.01775516093911712), (79, 0.011548203685598155), (80, 0.018726769179896602), (81, 0.0), (82, 0.0), (83, 0.0), (84, 0.031026917449024714), (85, 0.0035426578397752405), (86, 0.0), (87, 0.060064910162579636), (88, 0.0), (89, 0.0), (90, 0.02092222709957785), (91, 0.035611292886224784), (92, 0.0034192614160128243), (93, 0.021079036759073327), (94, 0.019354367355240147), (95, 0.02141619572751496), (96, 0.02568229400013068), (97, 0.0032041098066398193), (98, 0.0), (99, 0.0), (100, 0.0), (101, 0.0), (102, 0.008774386620438144), (103, 0.0033377333244783897), (104, 0.0036085389486979905), (105, 0.022594260303686938), (106, 0.0), (107, 0.004116997136912923), (108, 0.03962101637755374), (109, 0.003607889570780972), (110, 0.0), (111, 0.0034209972424164184), (112, 0.0035850672123745805), (113, 0.0030208951207924073), (114, 0.0036028457321881685), (115, 0.023518162741750216), (116, 0.003478642337840994), (117, 0.0), (118, 0.0), (119, 0.0035359029104549237), (120, 0.0037830392760103784), (121, 0.0034257938727690652), (122, 0.02078367953912795), (123, 0.0), (124, 0.003358315041562165), (125, 0.047938295307727384), (126, 0.0035559997561530276), (127, 0.0035173770892527475), (128, 0.00895722255281469), (129, 0.010740676657192421), (130, 0.0), (131, 0.0), (132, 0.0034768475550094107), (133, 0.011691296983823806), (134, 0.0), (135, 0.01997615991170012), (136, 0.0033627665788146595), (137, 0.0), (138, 0.0), (139, 0.0), (140, 0.0), (141, 0.0), (142, 0.003090725510944902), (143, 0.0), (144, 0.0), (145, 0.0), (146, 0.0), (147, 0.0032733987542131167), (148, 0.0), (149, 0.0033031060688501123), (150, 0.008020438550428494), (151, 0.00845827728305358), (152, 0.05118455334294567), (153, 0.0), (154, 0.021224538406804116), (155, 0.0), (156, 0.0029869499241701332), (157, 0.0), (158, 0.0), (159, 0.0), (160, 0.007408153027296974), (161, 0.0033007696471623483), (162, 0.0), (163, 0.0), (164, 0.0), (165, 0.0031847105294594185), (166, 0.0033036194602611554), (167, 0.0), (168, 0.0), (169, 0.0037423460534460776), (170, 0.011260898441263566), (171, 0.020465698280545522), (172, 0.0), (173, 0.003760402094339301), (174, 0.0036293498674932045), (175, 0.0), (176, 0.0), (177, 0.0), (178, 0.02769254866504954), (179, 0.0), (180, 0.0), (181, 0.022615649689704982), (182, 0.0), (183, 0.003347424364263053), (184, 0.0033391820359142265), (185, 0.0), (186, 0.0098678307176093), (187, 0.029638812427782636), (188, 0.011817384748966663), (189, 0.02084389850464146), (190, 0.003177402749202581), (191, 0.01884455569339153), (192, 0.0038477924957657753), (193, 0.003734083516602196), (194, 0.003220276680680816), (195, 0.003145056757636253), (196, 0.0), (197, 0.0034733948069914293), (198, 0.015287294248552092), (199, 0.0033283799651455132), (200, 0.003404395680201841), (201, 0.0), (202, 0.0024137859526844655), (203, 0.0), (204, 0.027489908519030413), (205, 0.012049981235655254), (206, 0.016959637887040267), (207, 0.0), (208, 0.004081456558697922), (209, 0.0), (210, 0.00387508162419623), (211, 0.0), (212, 0.0), (213, 0.0), (214, 0.0), (215, 0.014526097135473127), (216, 0.0037928667291294385), (217, 0.0), (218, 0.0033824925255252812), (219, 0.0), (220, 0.02163966920288967), (221, 0.0035185429519411227), (222, 0.0032376582734873894), (223, 0.0), (224, 0.0028797951644234207), (225, 0.0), (226, 0.0), (227, 0.0038023313880048764), (228, 0.012007781066898317), (229, 0.021585359417482738), (230, 0.0), (231, 0.023438932280778688), (232, 0.024037563003949332), (233, 0.0), (234, 0.00690869920179613), (235, 0.0), (236, 0.003440791933528925), (237, 0.00934139992740024), (238, 0.043937367213496864), (239, 0.0), (240, 0.010828845289334239), (241, 0.043347739902652005), (242, 0.0032276945825668217), (243, 0.002606881329573426), (244, 0.011830920865865303), (245, 0.0), (246, 0.0), (247, 0.0), (248, 0.0), (249, 0.08591342169994606), (250, 0.0), (251, 0.003239915672478875), (252, 0.022229154672891785), (253, 0.0), (254, 0.0), (255, 0.0038420974551212363), (256, 0.02355004299284664), (257, 0.018658938017456515), (258, 0.020051059987066897), (259, 0.0390102037752794), (260, 0.03824485491510163), (261, 0.03785990082090088), (262, 0.0), (263, 0.02956369033141741), (264, 0.03132219600247775), (265, 0.0), (266, 0.0028241994325202257), (267, 0.003273537685794195), (268, 0.0), (269, 0.0031441745375780676), (270, 0.003705501957976658), (271, 0.002904765857248478), (272, 0.0), (273, 0.0), (274, 0.00414658145571661), (275, 0.0), (276, 0.0034860260981886527), (277, 0.019781739520191872), (278, 0.0), (279, 0.028291386808032455), (280, 0.003694502619398717), (281, 0.0), (282, 0.026158841901672024), (283, 0.017529945828240242), (284, 0.011951569431121356), (285, 0.03999954912915086), (286, 0.0033190446248991764), (287, 0.0), (288, 0.0), (289, 0.0), (290, 0.0), (291, 0.01064486047516652), (292, 0.0), (293, 0.0), (294, 0.0), (295, 0.0), (296, 0.002874321410520058), (297, 0.0), (298, 0.0), (299, 0.012137169504911215), (300, 0.0), (301, 0.0), (302, 0.010453518727982721), (303, 0.05654829684414853), (304, 0.0), (305, 0.0), (306, 0.0), (307, 0.043836715780425944), (308, 0.0), (309, 0.002982020232450598), (310, 0.022260062493599003), (311, 0.01123409132151017), (312, 0.0), (313, 0.0), (314, 0.006913632597038212), (315, 0.0), (316, 0.030279099383664344), (317, 0.0), (318, 0.0039677408099667985), (319, 0.0), (320, 0.0), (321, 0.0), (322, 0.022434436497489232), (323, 0.020884891402351287), (324, 0.0), (325, 0.003494739320404829), (326, 0.004258183459204288), (327, 0.0), (328, 0.0), (329, 0.0), (330, 0.002568003551000244), (331, 0.0), (332, 0.0), (333, 0.0185053070463751), (334, 0.010091625185211048), (335, 0.0), (336, 0.0), (337, 0.0), (338, 0.0), (339, 0.031974878131792984), (340, 0.0), (341, 0.0), (342, 0.003914776971867152), (343, 0.03527707898247685), (344, 0.0), (345, 0.0), (346, 0.0), (347, 0.02089379933733545), (348, 0.003595747680630124), (349, 0.037227530117475864), (350, 0.028971750457673147), (351, 0.0029152236300418427), (352, 0.0), (353, 0.0036439649159845104), (354, 0.021685985687575293), (355, 0.0034344929665616345), (356, 0.0034770618816523393), (357, 0.013576175018635363), (358, 0.0035455236157067712), (359, 0.003427315193332143), (360, 0.0), (361, 0.0), (362, 0.03500696792737895), (363, 0.0), (364, 0.03404731997767392), (365, 0.0), (366, 0.0), (367, 0.019480326082074263), (368, 0.009309176375804199), (369, 0.006296340280269954), (370, 0.0036346649971031823), (371, 0.003925528411717121), (372, 0.0034495080503136074), (373, 0.003546828661299069), (374, 0.003555067468279657), (375, 0.06193495535706402), (376, 0.027365533312221885), (377, 0.0), (378, 0.021351325730141923), (379, 0.01875448288891545), (380, 0.02337140229370203), (381, 0.018507979266008057), (382, 0.011135831799717598), (383, 0.0), (384, 0.0), (385, 0.025142995827187167), (386, 0.0), (387, 0.003695190303757576), (388, 0.01446536804187214), (389, 0.030615568880360558), (390, 0.0186514255521932), (391, 0.0), (392, 0.054856619105740995), (393, 0.0), (394, 0.006743028823695494), (395, 0.0), (396, 0.0), (397, 0.019396805594960487), (398, 0.0), (399, 0.021542457969896834), (400, 0.003610106885301531), (401, 0.027115841837996205), (402, 0.0), (403, 0.003180812809364691), (404, 0.0), (405, 0.02186755392425658), (406, 0.003608641985739193), (407, 0.00293223446813527), (408, 0.0034667195299410373), (409, 0.01093938155617737), (410, 0.003313418157772364), (411, 0.0), (412, 0.0), (413, 0.008367614501668051), (414, 0.0), (415, 0.0), (416, 0.0033343894010592926), (417, 0.0), (418, 0.0), (419, 0.00409904920737384), (420, 0.0), (421, 0.0), (422, 0.0), (423, 0.012128751665312909), (424, 0.0), (425, 0.0), (426, 0.0), (427, 0.008042237997313326), (428, 0.014398534860574092), (429, 0.00384623551146975), (430, 0.012183865746143926), (431, 0.017321693983473597), (432, 0.0), (433, 0.021584085830524097), (434, 0.0034361214317279133), (435, 0.0), (436, 0.004298423101112224), (437, 0.003528293537952056), (438, 0.02699026462956999), (439, 0.01992503943907243), (440, 0.016960202362706175), (441, 0.0031051046460707564), (442, 0.0031049036184005894), (443, 0.004107346945465035), (444, 0.0), (445, 0.0), (446, 0.0), (447, 0.0), (448, 0.004318078786646967), (449, 0.010870283779117347), (450, 0.003911254489842671), (451, 0.0), (452, 0.002815477345621292), (453, 0.009593144067636632), (454, 0.0), (455, 0.002581867520785885), (456, 0.0038849935273578004), (457, 0.0033158638819714014), (458, 0.004152200306521886), (459, 0.0), (460, 0.020594191569918152), (461, 0.0), (462, 0.0), (463, 0.0033009176361107895), (464, 0.0037090114952137783), (465, 0.003377567419180325), (466, 0.0), (467, 0.03209975367539985), (468, 0.0), (469, 0.03658359246647686), (470, 0.0038622978614085523), (471, 0.003491474697709691), (472, 0.025954004865687108), (473, 0.0), (474, 0.0), (475, 0.0013221278665360844), (476, 0.0), (477, 0.0), (478, 0.0), (479, 0.003755629771974908), (480, 0.04600210121348564), (481, 0.016462536610848025), (482, 0.0037084863680942833), (483, 0.012296530366143877), (484, 0.04117031639860487), (485, 0.0), (486, 0.0), (487, 0.011480562917666587), (488, 0.0034164477595280737), (489, 0.0), (490, 0.0036296481692232917), (491, 0.009195639269739755), (492, 0.0076345889380604855), (493, 0.016166711256580948), (494, 0.0), (495, 0.003335252410759321), (496, 0.003203327328632043), (497, 0.0392495164671116), (498, 0.09211988449908068), (499, 0.0), (500, 0.010974974711535223), (501, 0.0), (502, 0.003739779698186432), (503, 0.011950965020489378), (504, 0.0037310709419049568), (505, 0.030554535563337745), (506, 0.009415087183017198), (507, 0.0), (508, 0.0), (509, 0.024823744660771137), (510, 0.0029208726489794805), (511, 0.007452338230490133), (512, 0.0), (513, 0.0), (514, 0.0), (515, 0.003367920636601231), (516, 0.008116080366723887), (517, 0.00845573306453542), (518, 0.0), (519, 0.0032775078352855922), (520, 0.0), (521, 0.0), (522, 0.014821649210099005), (523, 0.0), (524, 0.0), (525, 0.0), (526, 0.0), (527, 0.0), (528, 0.0), (529, 0.0), (530, 0.0), (531, 0.0), (532, 0.0), (533, 0.003964486907447339), (534, 0.028377661491391072), (535, 0.0), (536, 0.0), (537, 0.059147178130215104), (538, 0.0), (539, 0.0), (540, 0.0), (541, 0.0), (542, 0.03595711960972618), (543, 0.03767705952228063), (544, 0.0), (545, 0.0584824976263072), (546, 0.06324670107859287), (547, 0.003115779881642953), (548, 0.0), (549, 0.0), (550, 0.0), (551, 0.003811089700832942), (552, 0.012325638553465636), (553, 0.015051685656127845), (554, 0.007930782181086019), (555, 0.024154193114912046), (556, 0.0), (557, 0.0), (558, 0.003328733463490267), (559, 0.0), (560, 0.0), (561, 0.006072422314677954), (562, 0.028261808218112), (563, 0.013949576523595644), (564, 0.0037577547998834133), (565, 0.018878369748577185), (566, 0.0031634423368944245), (567, 0.02014274204719721), (568, 0.0), (569, 0.0), (570, 0.0), (571, 0.002881022128478969), (572, 0.008052862605934468), (573, 0.0), (574, 0.0), (575, 0.0), (576, 0.0039692462947592405), (577, 0.033819431441654044), (578, 0.014667627377115858), (579, 0.0037718370935068486), (580, 0.003778574349102553), (581, 0.0), (582, 0.0), (583, 0.0), (584, 0.0038637479360210543), (585, 0.0), (586, 0.0), (587, 0.004048495781604593), (588, 0.003749538718387795), (589, 0.0034488820497380703), (590, 0.0033695121099628677), (591, 0.022806084387044206), (592, 0.0), (593, 0.0), (594, 0.024748985822306054), (595, 0.0), (596, 0.004035149263747698), (597, 0.0), (598, 0.0035592577821225426), (599, 0.04047926299613934), (600, 0.03958401344612314), (601, 0.007156215988487614), (602, 0.00701233555328737), (603, 0.021760978639551856), (604, 0.0033121511387268587), (605, 0.04192266075005899), (606, 0.025709960475674632), (607, 0.020855904427496026), (608, 0.014132199304791749), (609, 0.012297729329973986), (610, 0.0), (611, 0.0031745853679698874), (612, 0.003972721658893165), (613, 0.007970776389759467), (614, 0.01354698005371335), (615, 0.0), (616, 0.0030435685314820146), (617, 0.003223454509674416), (618, 0.0), (619, 0.053969088674811004), (620, 0.0), (621, 0.0), (622, 0.003784934577126), (623, 0.004031460506409873), (624, 0.010851170035864527), (625, 0.07211144663211204), (626, 0.0031308606932902616), (627, 0.0046915671379143585), (628, 0.0036223871864476333), (629, 0.0), (630, 0.0), (631, 0.0), (632, 0.0), (633, 0.011505404471733828), (634, 0.0), (635, 0.0), (636, 0.003749784357934445), (637, 0.0037043345345939105), (638, 0.014360042464098676), (639, 0.0), (640, 0.0), (641, 0.0027978409701644473), (642, 0.0031979451737389254), (643, 0.00349392002881146), (644, 0.003729210808751512), (645, 0.0), (646, 0.0), (647, 0.0), (648, 0.0), (649, 0.031220880697193854), (650, 0.0), (651, 0.0035547466655709227), (652, 0.003800582839242828), (653, 0.013356200950749117), (654, 0.0), (655, 0.0034485529784431565), (656, 0.008402067099752903), (657, 0.0032586967561241214), (658, 0.0), (659, 0.0142411505623804), (660, 0.015424106726407365), (661, 0.0), (662, 0.0), (663, 0.037852770693217075), (664, 0.0), (665, 0.0), (666, 0.008930327995704932), (667, 0.0), (668, 0.0), (669, 0.024639877609925316), (670, 0.0043898470498868695), (671, 0.0), (672, 0.003263090098710659), (673, 0.016775420896641066), (674, 0.008176956078239067), (675, 0.0), (676, 0.014635863500018852), (677, 0.0), (678, 0.035962940313988605), (679, 0.0), (680, 0.0), (681, 0.09346006341344354), (682, 0.0), (683, 0.0), (684, 0.01184901824986937), (685, 0.0), (686, 0.0382834114609704), (687, 0.013173781655811668), (688, 0.004002023187174683), (689, 0.003553493920744804), (690, 0.0), (691, 0.0), (692, 0.020439443744650055), (693, 0.003553595640171921), (694, 0.03494294276119125), (695, 0.0), (696, 0.015319675259170284), (697, 0.01533938238692143), (698, 0.0036523339415741626), (699, 0.0), (700, 0.0), (701, 0.004100363849217653), (702, 0.007790863944786016), (703, 0.013815915110694849), (704, 0.0), (705, 0.0032509696017182853), (706, 0.009647723000733214), (707, 0.012975835712500263), (708, 0.0), (709, 0.0), (710, 0.010827934545665673), (711, 0.0), (712, 0.003176003175516641), (713, 0.0), (714, 0.0), (715, 0.0), (716, 0.004046714312036042), (717, 0.0), (718, 0.0), (719, 0.00305793828681213), (720, 0.0), (721, 0.004105484656833105), (722, 0.003298456903935528), (723, 0.0), (724, 0.0), (725, 0.0), (726, 0.0), (727, 0.003580272970523727), (728, 0.0038785044739099214), (729, 0.017062396119583635), (730, 0.0), (731, 0.011070523374354171), (732, 0.003159932194076067), (733, 0.02139120283717822), (734, 0.003427848663828373), (735, 0.005053141129780618), (736, 0.0), (737, 0.0), (738, 0.0), (739, 0.004088595698928803), (740, 0.0), (741, 0.0), (742, 0.003444618954666942), (743, 0.0038273751933061255), (744, 0.0033343454150530465), (745, 0.019118213492459825), (746, 0.0), (747, 0.008752601500420553), (748, 0.033780027322355646), (749, 0.0036536676767559622), (750, 0.024343891701794372), (751, 0.009461614652494977), (752, 0.0), (753, 0.0), (754, 0.0), (755, 0.003705774599044081), (756, 0.0071485452044442194), (757, 0.023489700664814255), (758, 0.011370025510363625), (759, 0.0), (760, 0.014161422011412293), (761, 0.0036974925637117424), (762, 0.01817370995928229), (763, 0.00756006611283879), (764, 0.0), (765, 0.0), (766, 0.0), (767, 0.0), (768, 0.0), (769, 0.050592864105662175), (770, 0.0), (771, 0.0), (772, 0.0), (773, 0.0), (774, 0.003897787598935444), (775, 0.0), (776, 0.0075286695341295826), (777, 0.013827933265024286), (778, 0.0423979975277228), (779, 0.0), (780, 0.050107892973382306), (781, 0.0), (782, 0.0), (783, 0.003781549259834731), (784, 0.0), (785, 0.0), (786, 0.0), (787, 0.002302390586828519), (788, 0.0033798217121730587), (789, 0.0), (790, 0.023147658857354477), (791, 0.0), (792, 0.0038710663355614404), (793, 0.0), (794, 0.0037307781761752087), (795, 0.0), (796, 0.0031391207333484085), (797, 0.0), (798, 0.014982853057305037), (799, 0.003599753498786675), (800, 0.003255767850761359), (801, 0.0), (802, 0.022710447458973354), (803, 0.057977572848570316), (804, 0.014294404114091809), (805, 0.0), (806, 0.0036474355841537302), (807, 0.0), (808, 0.023556559735192027), (809, 0.0), (810, 0.01052595475709114), (811, 0.0), (812, 0.007710396027596059), (813, 0.004216181527811916), (814, 0.0), (815, 0.0032738443823467707), (816, 0.0032035862539396137), (817, 0.012257522097013206), (818, 0.0035424946807120277), (819, 0.0), (820, 0.0), (821, 0.0), (822, 0.0), (823, 0.0), (824, 0.028910890234803633), (825, 0.0), (826, 0.003842051305772844), (827, 0.0), (828, 0.0), (829, 0.034393613224848664), (830, 0.01639049312626616), (831, 0.0027554955748344667), (832, 0.0036816191162153543), (833, 0.011523432693474864), (834, 0.01187695830655768), (835, 0.011431559267898182), (836, 0.0257523561666923), (837, 0.009568132316637858), (838, 0.0035355811159381314), (839, 0.0), (840, 0.0), (841, 0.0), (842, 0.0), (843, 0.003048423406892903), (844, 0.03779254300938024), (845, 0.0), (846, 0.0), (847, 0.004103933367755489), (848, 0.0), (849, 0.0), (850, 0.015652360583923067), (851, 0.0033092259786579956), (852, 0.003545705885321505), (853, 0.0), (854, 0.04199929845612508), (855, 0.03319284163804222), (856, 0.0032681546445267884), (857, 0.004101284688478147), (858, 0.0025768329991686157), (859, 0.0), (860, 0.00409845996542001), (861, 0.01310723961559143), (862, 0.0), (863, 0.010563018176741167), (864, 0.0036568438109467415), (865, 0.003877322709013328), (866, 0.003479396496398065), (867, 0.003663685857896418), (868, 0.0), (869, 0.0), (870, 0.0035617441133405795), (871, 0.0037782104655454812), (872, 0.012433959512865252), (873, 0.028088375446931168), (874, 0.0), (875, 0.024129900755540487), (876, 0.00392305448640554), (877, 0.017031631260298708), (878, 0.0035129664657510017), (879, 0.0038438440921800265), (880, 0.0035245997997088146), (881, 0.0), (882, 0.0), (883, 0.0), (884, 0.0), (885, 0.010906432575742175), (886, 0.024892713491104987), (887, 0.0), (888, 0.003961472232306489), (889, 0.0), (890, 0.0), (891, 0.02211358226121343), (892, 0.0), (893, 0.0), (894, 0.003637061047436867), (895, 0.0), (896, 0.0039171083217642575), (897, 0.003712596801465578), (898, 0.0), (899, 0.0), (900, 0.02760982778935438), (901, 0.0), (902, 0.02109098693872859), (903, 0.012049154806193375), (904, 0.0), (905, 0.0), (906, 0.0), (907, 0.003467463419642505), (908, 0.0), (909, 0.0), (910, 0.003361933855264759), (911, 0.048626851021688317), (912, 0.007186448361969218), (913, 0.021932676150194043), (914, 0.0), (915, 0.0), (916, 0.030124795363744992), (917, 0.0), (918, 0.021598930214210776), (919, 0.028758088494979243), (920, 0.0), (921, 0.022904360428776305), (922, 0.0), (923, 0.015404609384150277), (924, 0.0031165837611094697), (925, 0.004117350468036679), (926, 0.0), (927, 0.0), (928, 0.0), (929, 0.0028172519455504806), (930, 0.003843346495867001), (931, 0.02329545708823317), (932, 0.01863721867088388), (933, 0.0), (934, 0.0033881981552682868), (935, 0.0), (936, 0.013722810787342336), (937, 0.004189290663880023), (938, 0.0), (939, 0.010955452703660822), (940, 0.057157059965474884), (941, 0.0), (942, 0.0030136412000511047), (943, 0.0), (944, 0.003359987851052851), (945, 0.0), (946, 0.01223632801455272), (947, 0.0049842915582276074), (948, 0.0), (949, 0.0), (950, 0.0), (951, 0.0033240350603730815), (952, 0.0257748982128898), (953, 0.0029515563040885765), (954, 0.0), (955, 0.0), (956, 0.0), (957, 0.0033180958744949023), (958, 0.04915030091058383), (959, 0.0036015436230547727), (960, 0.0), (961, 0.012920772748563188), (962, 0.003549891132928714), (963, 0.01100195740563016), (964, 0.0), (965, 0.0), (966, 0.0035851966360771694), (967, 0.004018951647756373), (968, 0.0033445902142935327), (969, 0.003652558260145837), (970, 0.0), (971, 0.0), (972, 0.0), (973, 0.0), (974, 0.0), (975, 0.003458555596465244), (976, 0.0), (977, 0.022176576156217837), (978, 0.0), (979, 0.010229021210814489), (980, 0.003725617335073889), (981, 0.048560618901613554), (982, 0.04733976714836788), (983, 0.0), (984, 0.027485671581371076), (985, 0.004212921639470756), (986, 0.0037527763382908834), (987, 0.012610394462953523), (988, 0.014763462282029249), (989, 0.0035477876376394336), (990, 0.0), (991, 0.0038743187401509803), (992, 0.021550941538548758), (993, 0.011538849924176925), (994, 0.0), (995, 0.0), (996, 0.0), (997, 0.018971211246585906), (998, 0.0040113461805146855), (999, 0.02880528462089662), (1000, 0.0033578765319598395), (1001, 0.0034926957247734796), (1002, 0.034773551270450606), (1003, 0.008814517274260336), (1004, 0.0), (1005, 0.0029091227976974434), (1006, 0.003808917606184086), (1007, 0.003984807537756043), (1008, 0.01045595589770089), (1009, 0.0034300068889571494), (1010, 0.0), (1011, 0.022913263144012357), (1012, 0.0), (1013, 0.020546936620819377), (1014, 0.009252640068864022), (1015, 0.0038023807361049792), (1016, 0.04178211688704058), (1017, 0.003668872847141355), (1018, 0.0), (1019, 0.0035908259852437657), (1020, 0.003573320037962758), (1021, 0.003569215368579714), (1022, 0.008014805273378642), (1023, 0.0041200588540421055), (1024, 0.0), (1025, 0.029925435613757226), (1026, 0.003575673178311452), (1027, 0.014852444182143154), (1028, 0.0), (1029, 0.045865840758686716), (1030, 0.003528375875432364), (1031, 0.008450481632705946), (1032, 0.0), (1033, 0.0), (1034, 0.025776343157609037), (1035, 0.003647852299810943), (1036, 0.0), (1037, 0.0), (1038, 0.0), (1039, 0.0), (1040, 0.0031178777759309872), (1041, 0.0034288788066465575), (1042, 0.0), (1043, 0.0), (1044, 0.015294060381985043), (1045, 0.0), (1046, 0.035263782172445565), (1047, 0.011687702052941527), (1048, 0.0), (1049, 0.004185112447824254), (1050, 0.003253060928390282), (1051, 0.0), (1052, 0.014586946441451374), (1053, 0.018216040856213374), (1054, 0.010644705470285181), (1055, 0.007447059969165071), (1056, 0.021471320323136228), (1057, 0.021843695954628137), (1058, 0.03653213908780026), (1059, 0.0), (1060, 0.00354637535338684), (1061, 0.0), (1062, 0.0), (1063, 0.0), (1064, 0.004328470050184503), (1065, 0.0033565222896439354), (1066, 0.007626189671463911), (1067, 0.0), (1068, 0.0), (1069, 0.009243154342478846), (1070, 0.0), (1071, 0.048369029798275454), (1072, 0.0), (1073, 0.0), (1074, 0.030268879989738033), (1075, 0.003673537809239602), (1076, 0.0), (1077, 0.0036107837275938144), (1078, 0.003138804543791825), (1079, 0.0033816216503998074), (1080, 0.013753043413141985), (1081, 0.011456263999844639), (1082, 0.03141279209125034), (1083, 0.02452178642922876), (1084, 0.0035039815277272744), (1085, 0.0), (1086, 0.0), (1087, 0.0), (1088, 0.003165797830432582), (1089, 0.0), (1090, 0.0), (1091, 0.02297460764242653), (1092, 0.021883218735342914), (1093, 0.0), (1094, 0.0), (1095, 0.007259748960872586), (1096, 0.0), (1097, 0.02222804546964524), (1098, 0.0), (1099, 0.0), (1100, 0.0), (1101, 0.008289205994347367), (1102, 0.003663354000246897), (1103, 0.01251148271134102), (1104, 0.0), (1105, 0.0), (1106, 0.0), (1107, 0.0034073515212750495), (1108, 0.021621256085398187), (1109, 0.004082227035711986), (1110, 0.0), (1111, 0.00809315994175834), (1112, 0.0), (1113, 0.025416168087768844), (1114, 0.0), (1115, 0.0), (1116, 0.0), (1117, 0.011151364930284789), (1118, 0.0), (1119, 0.0040453698111962404), (1120, 0.05261572370604256), (1121, 0.0), (1122, 0.0037733278884716573), (1123, 0.0035834299290079955), (1124, 0.0), (1125, 0.0), (1126, 0.0), (1127, 0.0), (1128, 0.0), (1129, 0.04699480764872089), (1130, 0.022644447795139216), (1131, 0.0037356464714049025), (1132, 0.014569765494390262), (1133, 0.0), (1134, 0.007200742314985744), (1135, 0.0), (1136, 0.0032689677798604165), (1137, 0.10817196796439864), (1138, 0.029154909244441307), (1139, 0.0), (1140, 0.037985028684956394), (1141, 0.004014351455354405), (1142, 0.0), (1143, 0.013586463100329661), (1144, 0.0), (1145, 0.0), (1146, 0.021209834734453085), (1147, 0.0), (1148, 0.0), (1149, 0.0), (1150, 0.008382804678814632), (1151, 0.020698561940465626), (1152, 0.0), (1153, 0.008959190967853213), (1154, 0.04470924914781007), (1155, 0.0), (1156, 0.0), (1157, 0.0105727755068869), (1158, 0.0), (1159, 0.03225821123886504), (1160, 0.003563298890876419), (1161, 0.003466557943717887), (1162, 0.0), (1163, 0.0037112120976073902), (1164, 0.018595511856937842), (1165, 0.0), (1166, 0.0), (1167, 0.0), (1168, 0.0), (1169, 0.03457264325882848), (1170, 0.0036144251715417215), (1171, 0.0074514972213537605), (1172, 0.0), (1173, 0.0), (1174, 0.0), (1175, 0.0036761849682876453), (1176, 0.003752449130281853), (1177, 0.0144408037510952), (1178, 0.022619375842471565), (1179, 0.003730866263652043), (1180, 0.0), (1181, 0.0), (1182, 0.003778008226260249), (1183, 0.0034939496737452637), (1184, 0.004151719339919839), (1185, 0.01239229330574183), (1186, 0.003263294213683637), (1187, 0.0369512359354061), (1188, 0.016216553498429355), (1189, 0.0), (1190, 0.0), (1191, 0.003663551180402472), (1192, 0.0037162426757094027), (1193, 0.0), (1194, 0.0), (1195, 0.020771209034719223), (1196, 0.011556149325511892), (1197, 0.010600833310505282), (1198, 0.0), (1199, 0.023675172310425704), (1200, 0.0), (1201, 0.0), (1202, 0.003102322462473087), (1203, 0.0), (1204, 0.011370692161162687), (1205, 0.008500419620701843), (1206, 0.003435509451963649), (1207, 0.0), (1208, 0.00447659070000013), (1209, 0.0033764627663662224), (1210, 0.0), (1211, 0.0), (1212, 0.006946716877949821), (1213, 0.0), (1214, 0.01937354000787643), (1215, 0.0031692497326925514), (1216, 0.0033017564437734506), (1217, 0.024973692662756466), (1218, 0.0), (1219, 0.0033213049772631903), (1220, 0.0034706188163811397), (1221, 0.009736549333657422), (1222, 0.0), (1223, 0.003744186971276613), (1224, 0.0039036509269772405), (1225, 0.003896542806990137), (1226, 0.0), (1227, 0.0), (1228, 0.0), (1229, 0.00384138987075141), (1230, 0.02012116321271358), (1231, 0.0), (1232, 0.003743036678315798), (1233, 0.00820508894677148), (1234, 0.012007644574888439), (1235, 0.0), (1236, 0.020924109672686056), (1237, 0.0032601382729839424), (1238, 0.0), (1239, 0.0), (1240, 0.0), (1241, 0.003159325415307586), (1242, 0.0), (1243, 0.0), (1244, 0.0), (1245, 0.011431802812638848), (1246, 0.0), (1247, 0.00358188048975105), (1248, 0.014838474209235756), (1249, 0.007230327771263222), (1250, 0.020683140709275304), (1251, 0.003260676655704932), (1252, 0.0037020703219444477), (1253, 0.0), (1254, 0.0), (1255, 0.014388458628297393), (1256, 0.0080804565736497), (1257, 0.003601971208473536), (1258, 0.0), (1259, 0.0), (1260, 0.0), (1261, 0.040000928529397066), (1262, 0.00807442746104447), (1263, 0.0), (1264, 0.004288995846809989), (1265, 0.05861386905665847), (1266, 0.0), (1267, 0.0), (1268, 0.0), (1269, 0.008135521039892095), (1270, 0.0), (1271, 0.011857464174262387), (1272, 0.0), (1273, 0.003345045326057668), (1274, 0.0), (1275, 0.004097594622291396), (1276, 0.0), (1277, 0.0), (1278, 0.06040229957958611), (1279, 0.02736449622180332), (1280, 0.0227769435519987), (1281, 0.04948267969415908), (1282, 0.0), (1283, 0.0), (1284, 0.0), (1285, 0.030697911680849434), (1286, 0.003811274306391153), (1287, 0.0), (1288, 0.0), (1289, 0.02720490496514702), (1290, 0.023791736979073844), (1291, 0.0), (1292, 0.010847327971136257), (1293, 0.0), (1294, 0.0), (1295, 0.043674676508828766), (1296, 0.00674986632544031), (1297, 0.0), (1298, 0.011432553960160234), (1299, 0.0), (1300, 0.0), (1301, 0.0), (1302, 0.0), (1303, 0.0029673578232941532), (1304, 0.0), (1305, 0.0030413934077439275), (1306, 0.002696306584854783), (1307, 0.031079765037964325), (1308, 0.00341076733838263), (1309, 0.028088894900429217), (1310, 0.0), (1311, 0.0), (1312, 0.0), (1313, 0.0036157292612201443), (1314, 0.024328117018736835), (1315, 0.007884121760677194), (1316, 0.0), (1317, 0.027479792835051236), (1318, 0.0032545247229246723), (1319, 0.0), (1320, 0.02694520218952919), (1321, 0.025574898790295744), (1322, 0.0), (1323, 0.0), (1324, 0.0038638311825066065), (1325, 0.0040944904004391195), (1326, 0.0), (1327, 0.0), (1328, 0.0), (1329, 0.0), (1330, 0.0), (1331, 0.011207270928841138), (1332, 0.0), (1333, 0.0), (1334, 0.003658480630506639), (1335, 0.0037377327271204573), (1336, 0.0), (1337, 0.03227317900032265), (1338, 0.0036482664794653284), (1339, 0.0), (1340, 0.014159956015275286), (1341, 0.049919655580034215), (1342, 0.0), (1343, 0.0), (1344, 0.0), (1345, 0.01177101975264795), (1346, 0.0), (1347, 0.030534628795360005), (1348, 0.0), (1349, 0.033071132039890684), (1350, 0.0037534762858718778), (1351, 0.002684798425001087), (1352, 0.01398671757451854), (1353, 0.0), (1354, 0.09621190678398717), (1355, 0.0), (1356, 0.0030721763828327397), (1357, 0.003425556508925429), (1358, 0.020040768567179804), (1359, 0.012021737317991867), (1360, 0.003496581214951846), (1361, 0.04682691715981484), (1362, 0.0), (1363, 0.0), (1364, 0.0038846627473267696), (1365, 0.0031462017294457156), (1366, 0.0), (1367, 0.027269743497424448), (1368, 0.0), (1369, 0.0), (1370, 0.003174411797810492), (1371, 0.0), (1372, 0.0034327474049979), (1373, 0.0), (1374, 0.0), (1375, 0.014259031790669029), (1376, 0.011285317130082224), (1377, 0.0031406714582483766), (1378, 0.0036353874081269297), (1379, 0.032346705548448595), (1380, 0.0), (1381, 0.024134638575357664), (1382, 0.003851351280321828), (1383, 0.004149501946017251), (1384, 0.0), (1385, 0.0034868552447222725), (1386, 0.0), (1387, 0.013902740969545871), (1388, 0.0), (1389, 0.0), (1390, 0.012288567064216546), (1391, 0.0), (1392, 0.0), (1393, 0.0), (1394, 0.013641079027331898), (1395, 0.0), (1396, 0.008255238426504002), (1397, 0.0), (1398, 0.01811057166612852), (1399, 0.0), (1400, 0.0038173891188584058), (1401, 0.012517708848793293), (1402, 0.0), (1403, 0.0028353695294957826), (1404, 0.0), (1405, 0.0), (1406, 0.0), (1407, 0.0), (1408, 0.014814196170162745), (1409, 0.0), (1410, 0.0037006648708631023), (1411, 0.029657168706437847), (1412, 0.0), (1413, 0.012075377790737848), (1414, 0.003220594914694126), (1415, 0.0030592218940306347), (1416, 0.0), (1417, 0.00288484315888318), (1418, 0.0), (1419, 0.0), (1420, 0.0), (1421, 0.003585855751214153), (1422, 0.0036167894060038677), (1423, 0.003250237828425938), (1424, 0.0), (1425, 0.0), (1426, 0.0), (1427, 0.003361129660682978), (1428, 0.0), (1429, 0.018070206158311293), (1430, 0.0), (1431, 0.0), (1432, 0.0), (1433, 0.04627361054668528), (1434, 0.0), (1435, 0.0), (1436, 0.0), (1437, 0.013149567519116185), (1438, 0.0035638298218440586), (1439, 0.0), (1440, 0.0), (1441, 0.0), (1442, 0.018496643131439856), (1443, 0.0), (1444, 0.0), (1445, 0.0), (1446, 0.0035443970919051175), (1447, 0.0), (1448, 0.003522116792481185), (1449, 0.0), (1450, 0.0), (1451, 0.0), (1452, 0.0), (1453, 0.024705148848495208), (1454, 0.03132387763949524), (1455, 0.032537108450048924), (1456, 0.0), (1457, 0.0), (1458, 0.010687523515239111), (1459, 0.0), (1460, 0.025820119354782848), (1461, 0.01221177710754781), (1462, 0.04401306281748681), (1463, 0.003865958736254756), (1464, 0.0), (1465, 0.0), (1466, 0.0), (1467, 0.015351673628212117), (1468, 0.0075060657595111945), (1469, 0.02128223419079852), (1470, 0.023993399392057538), (1471, 0.002789373241155073), (1472, 0.03583303250629581), (1473, 0.0), (1474, 0.004016379888542724), (1475, 0.0037929178620927603), (1476, 0.0036434782367262422), (1477, 0.010735468212892892), (1478, 0.003475778909187032), (1479, 0.0), (1480, 0.0), (1481, 0.0035133563250070283), (1482, 0.0), (1483, 0.0035983691545895292), (1484, 0.02649891247252909), (1485, 0.0), (1486, 0.008874227366048312), (1487, 0.0), (1488, 0.0036208558571966076), (1489, 0.004180892915256856), (1490, 0.0), (1491, 0.0), (1492, 0.010479212708900811), (1493, 0.0), (1494, 0.023099512334923734), (1495, 0.0), (1496, 0.03728444990649394), (1497, 0.0), (1498, 0.004253127439040534), (1499, 0.0), (1500, 0.0), (1501, 0.0), (1502, 0.021425546464420117), (1503, 0.003362325280289562), (1504, 0.0), (1505, 0.008338849465206483), (1506, 0.002508782900326023), (1507, 0.0), (1508, 0.0), (1509, 0.002556824638315936), (1510, 0.0035329594893009192), (1511, 0.0), (1512, 0.0), (1513, 0.0038028345112306166), (1514, 0.0034530731081893803), (1515, 0.008013500493412283), (1516, 0.0), (1517, 0.012154679907810528), (1518, 0.016366544633970356), (1519, 0.05973484625552779), (1520, 0.0), (1521, 0.011088313224042422), (1522, 0.0), (1523, 0.0), (1524, 0.020225007468335224), (1525, 0.0), (1526, 0.0), (1527, 0.04591012094968803), (1528, 0.03271185901439702), (1529, 0.0), (1530, 0.017671542904569862), (1531, 0.0), (1532, 0.0), (1533, 0.03011292642077601), (1534, 0.0), (1535, 0.00684495321690906), (1536, 0.02099846809817113), (1537, 0.003922872037044291), (1538, 0.0), (1539, 0.003300907667561036), (1540, 0.0), (1541, 0.012106837934567516), (1542, 0.0), (1543, 0.003346952646808462), (1544, 0.0), (1545, 0.0), (1546, 0.007249624461821853), (1547, 0.004103409138778355), (1548, 0.0), (1549, 0.0), (1550, 0.0), (1551, 0.0), (1552, 0.0), (1553, 0.0), (1554, 0.022644118848966967), (1555, 0.0), (1556, 0.0), (1557, 0.0), (1558, 0.03750668594039148), (1559, 0.0), (1560, 0.0), (1561, 0.0), (1562, 0.0), (1563, 0.0), (1564, 0.0), (1565, 0.0033154980720355677), (1566, 0.08998545785507289), (1567, 0.05607457093684548), (1568, 0.0), (1569, 0.020397654809830728), (1570, 0.003790314749350293), (1571, 0.0), (1572, 0.034203781834565544), (1573, 0.0), (1574, 0.0), (1575, 0.034759947541830816), (1576, 0.0), (1577, 0.0), (1578, 0.0), (1579, 0.007501514842995814), (1580, 0.0), (1581, 0.0), (1582, 0.027867742752583805), (1583, 0.0), (1584, 0.007415032734624847), (1585, 0.0), (1586, 0.0), (1587, 0.0), (1588, 0.0), (1589, 0.03486151581686969), (1590, 0.014547739205019625), (1591, 0.0), (1592, 0.03116871262898529), (1593, 0.0), (1594, 0.0), (1595, 0.0033510909094406622), (1596, 0.0), (1597, 0.0035422631372375966), (1598, 0.003572676402440153), (1599, 0.011865334985326027), (1600, 0.0), (1601, 0.012955135054195672), (1602, 0.0), (1603, 0.0), (1604, 0.0), (1605, 0.003382237699085319), (1606, 0.011016515337767844), (1607, 0.0), (1608, 0.023109017473657963), (1609, 0.0), (1610, 0.0), (1611, 0.0), (1612, 0.0), (1613, 0.033388030911205735), (1614, 0.013162511579018593), (1615, 0.0), (1616, 0.02596269918517695), (1617, 0.0), (1618, 0.0), (1619, 0.00379719849604032), (1620, 0.003619350068646149), (1621, 0.003625937592891843), (1622, 0.01235390328140408), (1623, 0.0), (1624, 0.036293306861093014), (1625, 0.0), (1626, 0.0), (1627, 0.003328904368587992), (1628, 0.0034382988080049618), (1629, 0.0036719335647558407), (1630, 0.0), (1631, 0.065501946527855), (1632, 0.0), (1633, 0.0), (1634, 0.033718786606112), (1635, 0.0), (1636, 0.0), (1637, 0.0), (1638, 0.0), (1639, 0.0), (1640, 0.0), (1641, 0.0), (1642, 0.0), (1643, 0.016364747891712796), (1644, 0.0), (1645, 0.012070652769351688), (1646, 0.0), (1647, 0.010576192111876192), (1648, 0.002821318837935089), (1649, 0.007558112414998973), (1650, 0.0), (1651, 0.0073402362171524), (1652, 0.08201736089341745), (1653, 0.024463398025061645), (1654, 0.0), (1655, 0.0043108358404198915), (1656, 0.0), (1657, 0.007844002428257198), (1658, 0.004100481391778643), (1659, 0.0), (1660, 0.0), (1661, 0.0), (1662, 0.019500304468933062), (1663, 0.028836182158831134), (1664, 0.00758945120103068), (1665, 0.003510477493465309), (1666, 0.0035727787718285685), (1667, 0.0035356064315496282), (1668, 0.011038736271395662), (1669, 0.0), (1670, 0.0), (1671, 0.003650970923553466), (1672, 0.0), (1673, 0.0), (1674, 0.0), (1675, 0.0033597148836539354), (1676, 0.0), (1677, 0.009543157233079162), (1678, 0.0036713846326763334), (1679, 0.0), (1680, 0.0), (1681, 0.0), (1682, 0.0034277409605186376), (1683, 0.0), (1684, 0.0), (1685, 0.0038445640923905513), (1686, 0.0), (1687, 0.003945879528453902), (1688, 0.0), (1689, 0.0), (1690, 0.0033090277491906067), (1691, 0.024565555574477083), (1692, 0.0), (1693, 0.0035981042533511118), (1694, 0.0), (1695, 0.0), (1696, 0.007929651459504763), (1697, 0.0), (1698, 0.0), (1699, 0.0), (1700, 0.0), (1701, 0.0258704898986304), (1702, 0.0), (1703, 0.003913430876467701), (1704, 0.012980531439376553), (1705, 0.0), (1706, 0.015520973406757017), (1707, 0.0031140178626388247), (1708, 0.0), (1709, 0.0), (1710, 0.003568851661460815), (1711, 0.0043496297891801195), (1712, 0.0), (1713, 0.0), (1714, 0.03412186349601503), (1715, 0.0), (1716, 0.026916453011596952), (1717, 0.003691003211820728), (1718, 0.0), (1719, 0.013719605525977674), (1720, 0.0), (1721, 0.0), (1722, 0.0037731812911968397), (1723, 0.030616661384125474), (1724, 0.0), (1725, 0.0), (1726, 0.0), (1727, 0.0), (1728, 0.0), (1729, 0.0), (1730, 0.003646426260554209), (1731, 0.0), (1732, 0.0), (1733, 0.0), (1734, 0.0), (1735, 0.0), (1736, 0.0), (1737, 0.0), (1738, 0.0113157636379124), (1739, 0.003363735578968756), (1740, 0.0036848522263205337), (1741, 0.0), (1742, 0.0), (1743, 0.030669363853999623), (1744, 0.0034787747686341615), (1745, 0.007148775632019737), (1746, 0.0), (1747, 0.021128626611831104), (1748, 0.0040903817918247175), (1749, 0.0), (1750, 0.007883018534462067), (1751, 0.0), (1752, 0.0), (1753, 0.0), (1754, 0.0), (1755, 0.03213052905877715), (1756, 0.007684962500511098), (1757, 0.0), (1758, 0.0), (1759, 0.0), (1760, 0.003377262631754982), (1761, 0.0), (1762, 0.024036214824175905), (1763, 0.0033179621969513383), (1764, 0.0032675017526935437), (1765, 0.0), (1766, 0.0), (1767, 0.011188342512143467), (1768, 0.03625550957273061), (1769, 0.0), (1770, 0.0), (1771, 0.0), (1772, 0.060166507365462044), (1773, 0.03714305860584315), (1774, 0.002824210292470651), (1775, 0.0), (1776, 0.0), (1777, 0.0), (1778, 0.0), (1779, 0.0037626337704732803), (1780, 0.04236552061713991), (1781, 0.009686414582314848), (1782, 0.0035294189776603774), (1783, 0.008071426744961162), (1784, 0.023413934080745085), (1785, 0.0), (1786, 0.0), (1787, 0.0), (1788, 0.0), (1789, 0.0), (1790, 0.0), (1791, 0.0085474977799265), (1792, 0.0), (1793, 0.031217619246492294), (1794, 0.0), (1795, 0.0), (1796, 0.0034967138320142854), (1797, 0.010831239766677435), (1798, 0.0039978932559805525), (1799, 0.023192656793063503), (1800, 0.0), (1801, 0.0), (1802, 0.006903817191867551), (1803, 0.0), (1804, 0.0), (1805, 0.013874903651743676), (1806, 0.0), (1807, 0.0), (1808, 0.0), (1809, 0.0), (1810, 0.008847303795556493), (1811, 0.0), (1812, 0.0), (1813, 0.003524340642792935), (1814, 0.0), (1815, 0.0), (1816, 0.0), (1817, 0.011040986352578346), (1818, 0.0), (1819, 0.0034891886525955274), (1820, 0.0), (1821, 0.016038308078477847), (1822, 0.0038413894854117006), (1823, 0.011516177908521268), (1824, 0.0), (1825, 0.0), (1826, 0.0), (1827, 0.003349928355633663), (1828, 0.0031314120329416933), (1829, 0.0), (1830, 0.0032948069593732275), (1831, 0.0), (1832, 0.0), (1833, 0.011244102880693229), (1834, 0.0), (1835, 0.012909145348626949), (1836, 0.008786291392121628), (1837, 0.0), (1838, 0.010617478555603046), (1839, 0.04272993673608767), (1840, 0.0), (1841, 0.0), (1842, 0.0), (1843, 0.0), (1844, 0.0), (1845, 0.02753494886737482), (1846, 0.0), (1847, 0.0), (1848, 0.0), (1849, 0.0), (1850, 0.010128086002820978), (1851, 0.0039031800902817205), (1852, 0.0), (1853, 0.003767455364075218), (1854, 0.0), (1855, 0.0), (1856, 0.0), (1857, 0.0), (1858, 0.0), (1859, 0.0), (1860, 0.0), (1861, 0.0), (1862, 0.01308622526424802), (1863, 0.0), (1864, 0.02342431017641593), (1865, 0.0033255397489988037), (1866, 0.003942020927344239), (1867, 0.011860033395723104), (1868, 0.0), (1869, 0.043834415520781586), (1870, 0.0), (1871, 0.002927202168316232), (1872, 0.0), (1873, 0.0), (1874, 0.0), (1875, 0.0033433160634231455), (1876, 0.0038515830253113247), (1877, 0.0), (1878, 0.0034955035582531517), (1879, 0.0), (1880, 0.022580555265078375), (1881, 0.0), (1882, 0.0036227263363097185), (1883, 0.0), (1884, 0.003453221399467618), (1885, 0.004128373468231912), (1886, 0.003006270103887137), (1887, 0.01358381313016586), (1888, 0.0), (1889, 0.0), (1890, 0.0), (1891, 0.003600469015196568), (1892, 0.003466226731495277), (1893, 0.003917260363734474), (1894, 0.0), (1895, 0.027356246979406994), (1896, 0.003963603058883929), (1897, 0.00397843754368647), (1898, 0.0), (1899, 0.0), (1900, 0.0), (1901, 0.03389187036479043), (1902, 0.0038079319373952106), (1903, 0.061055205845352546), (1904, 0.021864630178750403), (1905, 0.0038189586444960324), (1906, 0.06416643947622001), (1907, 0.003942388670548147), (1908, 0.008286751488264214), (1909, 0.00403694395940064), (1910, 0.0), (1911, 0.0215744691877778), (1912, 0.011827467874342384), (1913, 0.0), (1914, 0.0), (1915, 0.0), (1916, 0.003916095457633325), (1917, 0.0), (1918, 0.016570180901683582), (1919, 0.00799042850089915), (1920, 0.03745193516130474), (1921, 0.0), (1922, 0.0), (1923, 0.004006912887652413), (1924, 0.004063106313892724), (1925, 0.027908220449228575), (1926, 0.06378846310550797), (1927, 0.0), (1928, 0.0), (1929, 0.010921099112361297), (1930, 0.0), (1931, 0.003746975073489726), (1932, 0.0), (1933, 0.03276856627569015), (1934, 0.003285611893062101), (1935, 0.0), (1936, 0.011638051443077316), (1937, 0.0), (1938, 0.010271384991799803), (1939, 0.0), (1940, 0.0), (1941, 0.0), (1942, 0.0037699855172410855), (1943, 0.03573459434480438), (1944, 0.0), (1945, 0.0), (1946, 0.01584480445495634), (1947, 0.004155067027288318), (1948, 0.03037477840216133), (1949, 0.0), (1950, 0.003066192077477658), (1951, 0.003879443958996057), (1952, 0.0), (1953, 0.0), (1954, 0.0), (1955, 0.0), (1956, 0.0), (1957, 0.0), (1958, 0.0), (1959, 0.012688718605430813), (1960, 0.003738348737384676), (1961, 0.03304109013294427), (1962, 0.0), (1963, 0.009717584110861998), (1964, 0.04431225212095683), (1965, 0.033460791794458454), (1966, 0.019853531103540736), (1967, 0.0037127253922739066), (1968, 0.01753591608631637), (1969, 0.0036541320339701687), (1970, 0.0), (1971, 0.0032612558373152204), (1972, 0.0), (1973, 0.0), (1974, 0.010688285028205404), (1975, 0.0), (1976, 0.022664089172442257), (1977, 0.0032693117334746777), (1978, 0.0), (1979, 0.011233415408552903), (1980, 0.0), (1981, 0.029508255448872985), (1982, 0.03031292392482168), (1983, 0.0037051719747350923), (1984, 0.00793662646488248), (1985, 0.003718705927324225), (1986, 0.0), (1987, 0.0), (1988, 0.0), (1989, 0.0029759498807126537), (1990, 0.0), (1991, 0.019512723343787553), (1992, 0.0), (1993, 0.012076345578615463), (1994, 0.0), (1995, 0.004219182349228258), (1996, 0.0), (1997, 0.003997533065838976), (1998, 0.0), (1999, 0.0), (2000, 0.0029966499124793053), (2001, 0.0), (2002, 0.0), (2003, 0.0), (2004, 0.003485028655345391), (2005, 0.0), (2006, 0.0), (2007, 0.03330108201403511), (2008, 0.0036275936223822427), (2009, 0.013910820777936034), (2010, 0.002954295575150771), (2011, 0.0033054367368141927), (2012, 0.012850762510818571), (2013, 0.0), (2014, 0.0), (2015, 0.0), (2016, 0.003892466271477542), (2017, 0.0), (2018, 0.056416182550084654), (2019, 0.011902381110257813), (2020, 0.0), (2021, 0.008847398598291631), (2022, 0.053592827631922475), (2023, 0.003463535031309065), (2024, 0.0036205656582588676), (2025, 0.0), (2026, 0.0), (2027, 0.03588061638479174), (2028, 0.0), (2029, 0.0035338530476985487), (2030, 0.0), (2031, 0.03312950809405256), (2032, 0.0), (2033, 0.0), (2034, 0.0031194483624876145), (2035, 0.0031122887914648957), (2036, 0.011137430787077011), (2037, 0.003839105394983969), (2038, 0.015110028919635107), (2039, 0.02235008666228717), (2040, 0.003947378208874552), (2041, 0.0), (2042, 0.0), (2043, 0.0), (2044, 0.01278558458524209), (2045, 0.003644563738389765), (2046, 0.0), (2047, 0.0), (2048, 0.0037266749501349513), (2049, 0.0039863221076061875), (2050, 0.0), (2051, 0.004049546407271706), (2052, 0.0), (2053, 0.003881941993765753), (2054, 0.0), (2055, 0.0033157259820317765), (2056, 0.01175813303557837), (2057, 0.01122177691854601), (2058, 0.036876170577046646), (2059, 0.0), (2060, 0.0), (2061, 0.011649621058866844), (2062, 0.01971799055170985), (2063, 0.0), (2064, 0.0173871114076729), (2065, 0.0032372126246092564), (2066, 0.0), (2067, 0.003882487605732977), (2068, 0.003553474900920724), (2069, 0.003555200827794737), (2070, 0.003114032085941229), (2071, 0.0), (2072, 0.0), (2073, 0.03643496800921984), (2074, 0.0), (2075, 0.03377110330197516), (2076, 0.0), (2077, 0.0), (2078, 0.0065406239603325676), (2079, 0.013497131620174158), (2080, 0.0), (2081, 0.0), (2082, 0.0), (2083, 0.0038207887287548775), (2084, 0.0), (2085, 0.0), (2086, 0.008604038847804465), (2087, 0.0035354555460427755), (2088, 0.0038857703599692274), (2089, 0.004111820370644485), (2090, 0.008443797178027223), (2091, 0.05951184214917861), (2092, 0.0), (2093, 0.0), (2094, 0.0), (2095, 0.0), (2096, 0.003913218372340337), (2097, 0.004015291436988715), (2098, 0.0), (2099, 0.0), (2100, 0.0), (2101, 0.0), (2102, 0.0035624950123252707), (2103, 0.015314051083476126), (2104, 0.01614138019521177), (2105, 0.0038502458674809334), (2106, 0.0), (2107, 0.0), (2108, 0.004035672118338642), (2109, 0.0), (2110, 0.0), (2111, 0.0), (2112, 0.003934325514956549), (2113, 0.0), (2114, 0.006899817581537402), (2115, 0.0), (2116, 0.0039334448340406485), (2117, 0.0035121146103173333), (2118, 0.029308882622828682), (2119, 0.0), (2120, 0.011512553046364326), (2121, 0.0036146322484538465), (2122, 0.003633723739640917), (2123, 0.0), (2124, 0.0), (2125, 0.008238605868320146), (2126, 0.0), (2127, 0.003113031093240052), (2128, 0.0), (2129, 0.010575002793061263), (2130, 0.0), (2131, 0.003566790156293853), (2132, 0.012877668537574162), (2133, 0.011467774953461183), (2134, 0.004085730083589355), (2135, 0.0), (2136, 0.06439830913734958), (2137, 0.0), (2138, 0.0), (2139, 0.0), (2140, 0.0388659396631554), (2141, 0.0), (2142, 0.0), (2143, 0.003445991281022769), (2144, 0.0037216384735209536), (2145, 0.0), (2146, 0.0), (2147, 0.0122178529278694), (2148, 0.0), (2149, 0.003426536740837898), (2150, 0.0), (2151, 0.0), (2152, 0.010330108741378886), (2153, 0.011863021888968865), (2154, 0.004263053730738834), (2155, 0.0036971467651210057), (2156, 0.0), (2157, 0.0031346464454604867), (2158, 0.0), (2159, 0.003889214836234259), (2160, 0.0), (2161, 0.0), (2162, 0.0041525149149755115), (2163, 0.0), (2164, 0.0), (2165, 0.0), (2166, 0.0), (2167, 0.0), (2168, 0.0), (2169, 0.0036749138094599675), (2170, 0.0), (2171, 0.0), (2172, 0.0), (2173, 0.0), (2174, 0.003593014805882439), (2175, 0.0), (2176, 0.01694922270703314), (2177, 0.02958333139197824), (2178, 0.03187111071731903), (2179, 0.0), (2180, 0.009185300997762692), (2181, 0.024952640498465423), (2182, 0.0), (2183, 0.010775762070399361), (2184, 0.0), (2185, 0.03585072628717178), (2186, 0.0), (2187, 0.0), (2188, 0.004225760264336338), (2189, 0.0), (2190, 0.01239169655802897), (2191, 0.0033630897047832605), (2192, 0.0), (2193, 0.0), (2194, 0.0), (2195, 0.003575619762324942), (2196, 0.0), (2197, 0.0), (2198, 0.0), (2199, 0.004489412631724547), (2200, 0.0), (2201, 0.003410867946752362), (2202, 0.0), (2203, 0.0), (2204, 0.0), (2205, 0.028730861707295746), (2206, 0.0), (2207, 0.0), (2208, 0.012063080657146728), (2209, 0.0), (2210, 0.0035814439050699063), (2211, 0.0031316754635120816), (2212, 0.0036753683410470674), (2213, 0.0), (2214, 0.0040200710512208635), (2215, 0.011814072499452113), (2216, 0.0035787488294873014), (2217, 0.02056317923249991), (2218, 0.035130343769529684), (2219, 0.0), (2220, 0.0), (2221, 0.054510240463925504), (2222, 0.03403113598990731), (2223, 0.003916257026859636), (2224, 0.0033991526208082545), (2225, 0.0), (2226, 0.003632049515175452), (2227, 0.01022125118770118), (2228, 0.0), (2229, 0.004163189907314719), (2230, 0.016488766170258837), (2231, 0.0), (2232, 0.019642433183912685), (2233, 0.05608531466755937), (2234, 0.0), (2235, 0.0), (2236, 0.0), (2237, 0.003200623451882401), (2238, 0.0), (2239, 0.0), (2240, 0.03249907468219437), (2241, 0.0), (2242, 0.033974538291848176), (2243, 0.0), (2244, 0.0), (2245, 0.0), (2246, 0.0), (2247, 0.0), (2248, 0.0), (2249, 0.0), (2250, 0.0035889554981177515), (2251, 0.004727161273575534), (2252, 0.0), (2253, 0.0), (2254, 0.0038121992316852396), (2255, 0.00463983922498896), (2256, 0.0), (2257, 0.004584148401645514), (2258, 0.0), (2259, 0.0), (2260, 0.003970479711923501), (2261, 0.0), (2262, 0.0), (2263, 0.0), (2264, 0.0), (2265, 0.010797217370851736), (2266, 0.004381757557361704), (2267, 0.0), (2268, 0.032840473036426614), (2269, 0.027612078435474998), (2270, 0.0), (2271, 0.01160656832285594), (2272, 0.0), (2273, 0.0), (2274, 0.0), (2275, 0.0), (2276, 0.0), (2277, 0.046381680620298876), (2278, 0.02138125431827674), (2279, 0.003576924951500581), (2280, 0.0205204292788514), (2281, 0.0), (2282, 0.0), (2283, 0.02165822473515363), (2284, 0.0), (2285, 0.0), (2286, 0.014534522983909302), (2287, 0.0033808376460759573), (2288, 0.0), (2289, 0.0038256894919038763), (2290, 0.0), (2291, 0.0), (2292, 0.0), (2293, 0.0), (2294, 0.02860444569146881), (2295, 0.003674471722576065), (2296, 0.0), (2297, 0.01160281349643481), (2298, 0.0), (2299, 0.0), (2300, 0.011485890379140941), (2301, 0.0033661691532767307), (2302, 0.004086536095232169), (2303, 0.0), (2304, 0.0), (2305, 0.0), (2306, 0.0), (2307, 0.0), (2308, 0.0), (2309, 0.0), (2310, 0.0), (2311, 0.01077555304960105), (2312, 0.0), (2313, 0.015757796997376172), (2314, 0.04256068132291309), (2315, 0.0), (2316, 0.03420561564145852), (2317, 0.0), (2318, 0.010027071075761451), (2319, 0.0038026667740589212), (2320, 0.018300045642425652), (2321, 0.003701692476461305), (2322, 0.0), (2323, 0.010073401935921725), (2324, 0.0), (2325, 0.0), (2326, 0.07269504697582335), (2327, 0.0), (2328, 0.0), (2329, 0.0), (2330, 0.02172231827547246), (2331, 0.04681690771442186), (2332, 0.0), (2333, 0.0), (2334, 0.0038790899735416883), (2335, 0.0), (2336, 0.0), (2337, 0.021554325179947566), (2338, 0.0032884146015928774), (2339, 0.0), (2340, 0.0), (2341, 0.0), (2342, 0.0), (2343, 0.0), (2344, 0.0037574212592485683), (2345, 0.0), (2346, 0.0), (2347, 0.0034320737012529866), (2348, 0.016539720484247292), (2349, 0.00491316597034726), (2350, 0.0046172991134976514), (2351, 0.0), (2352, 0.0), (2353, 0.0), (2354, 0.032338832873316306), (2355, 1.0000000000000004), (2356, 0.0), (2357, 0.009329422807297738), (2358, 0.0), (2359, 0.0031312276457310106), (2360, 0.021244102620553724), (2361, 0.0038434498011888393), (2362, 0.003619851505117302), (2363, 0.0), (2364, 0.0), (2365, 0.0), (2366, 0.03454004041777228), (2367, 0.00340328259236343), (2368, 0.0), (2369, 0.0), (2370, 0.0), (2371, 0.0), (2372, 0.013305494739411124), (2373, 0.0), (2374, 0.003668281187642849), (2375, 0.003942162301034178), (2376, 0.0), (2377, 0.0), (2378, 0.0), (2379, 0.004908733505116602), (2380, 0.0), (2381, 0.0), (2382, 0.010430302436779533), (2383, 0.0), (2384, 0.0), (2385, 0.011635957832296637), (2386, 0.0037023281550551553), (2387, 0.0), (2388, 0.004277758309384933), (2389, 0.0), (2390, 0.0038511770003226086), (2391, 0.003956263854902341), (2392, 0.0), (2393, 0.003764489536041124), (2394, 0.0038757709539643265), (2395, 0.0), (2396, 0.0), (2397, 0.003585222611908627), (2398, 0.0), (2399, 0.003353251591256516), (2400, 0.003994746234938453), (2401, 0.0), (2402, 0.003534204577160443), (2403, 0.01355505922544851), (2404, 0.0), (2405, 0.003775478114376211), (2406, 0.0043904078982730166), (2407, 0.004709690734648777), (2408, 0.0), (2409, 0.0), (2410, 0.0), (2411, 0.004012161695484531), (2412, 0.013548974451569962), (2413, 0.008514119543869858), (2414, 0.0), (2415, 0.0045042950374383), (2416, 0.033424657209126234), (2417, 0.0), (2418, 0.0), (2419, 0.0), (2420, 0.03576263393040209), (2421, 0.021108592348903624), (2422, 0.0036586122651081263), (2423, 0.0045606087376952415), (2424, 0.0), (2425, 0.0), (2426, 0.0), (2427, 0.0042912617422037), (2428, 0.004378892463394229), (2429, 0.0), (2430, 0.003564050931291869), (2431, 0.0), (2432, 0.02031200080945407), (2433, 0.0), (2434, 0.01870388845643585), (2435, 0.0), (2436, 0.004031409572988657), (2437, 0.0041364879645890505), (2438, 0.0045103224330645345), (2439, 0.018651155565332506), (2440, 0.0), (2441, 0.03590765652972208), (2442, 0.019697815493691605), (2443, 0.016658118019969692), (2444, 0.0), (2445, 0.0), (2446, 0.0), (2447, 0.023020913065553372), (2448, 0.004691442850990255), (2449, 0.0), (2450, 0.019924781135095555), (2451, 0.008639457587864894), (2452, 0.0), (2453, 0.003432931674709608), (2454, 0.0), (2455, 0.0), (2456, 0.0), (2457, 0.0034066139374776968), (2458, 0.013441091898778639), (2459, 0.0042711912923351384), (2460, 0.009970973705144399), (2461, 0.014554760910669443), (2462, 0.0), (2463, 0.0), (2464, 0.0), (2465, 0.011470889146199578), (2466, 0.003738627798735914), (2467, 0.003505457802421666), (2468, 0.0), (2469, 0.002892597140490998), (2470, 0.0), (2471, 0.02080085592853755), (2472, 0.0), (2473, 0.0035147555065344733), (2474, 0.0029335485449097968), (2475, 0.004110153016744316), (2476, 0.0), (2477, 0.0038835019596892262), (2478, 0.004057427660636455), (2479, 0.009318145824304054), (2480, 0.0), (2481, 0.0), (2482, 0.003452423323962263), (2483, 0.0), (2484, 0.014879835996147804), (2485, 0.0), (2486, 0.0), (2487, 0.0), (2488, 0.004316598706467179), (2489, 0.003737317827809352), (2490, 0.0050187946017027215), (2491, 0.0), (2492, 0.00365576080337233), (2493, 0.022661207048378196), (2494, 0.04413603405968236), (2495, 0.0342155171554508), (2496, 0.011455485402082237), (2497, 0.028361674226551285), (2498, 0.0), (2499, 0.0), (2500, 0.028234371816872487), (2501, 0.021159726845247716), (2502, 0.014171572621806159), (2503, 0.0), (2504, 0.0), (2505, 0.01352611497724839), (2506, 0.0), (2507, 0.0), (2508, 0.0), (2509, 0.003201639835289298), (2510, 0.0), (2511, 0.011854694822982402), (2512, 0.0035339283376459515), (2513, 0.0), (2514, 0.0), (2515, 0.0), (2516, 0.0), (2517, 0.0), (2518, 0.0), (2519, 0.0), (2520, 0.0032613311041107397), (2521, 0.01040052190595186), (2522, 0.01693480183494803), (2523, 0.0), (2524, 0.0), (2525, 0.0), (2526, 0.003100083493108689), (2527, 0.0789245740667259), (2528, 0.003504867672194875), (2529, 0.00509456645459145), (2530, 0.004514460995962612), (2531, 0.0038494077655611718), (2532, 0.0), (2533, 0.0), (2534, 0.032743851366602864), (2535, 0.004155983468577642), (2536, 0.0), (2537, 0.0), (2538, 0.002284920103984115), (2539, 0.018600827581810087), (2540, 0.03503781374649057), (2541, 0.010423945582570563), (2542, 0.0), (2543, 0.0), (2544, 0.014193545495083344), (2545, 0.0), (2546, 0.0), (2547, 0.0), (2548, 0.021101518362288272), (2549, 0.012082789523597887), (2550, 0.0027230844838533395), (2551, 0.0), (2552, 0.0), (2553, 0.0035328940720453545), (2554, 0.003803608361267165), (2555, 0.004011927336881726), (2556, 0.003405073309129017), (2557, 0.0), (2558, 0.0035778751144074153), (2559, 0.004643995132490268), (2560, 0.004014722432487324), (2561, 0.0), (2562, 0.008726097181828575), (2563, 0.003080820813684149), (2564, 0.0), (2565, 0.0), (2566, 0.0), (2567, 0.0), (2568, 0.004739296939032108), (2569, 0.0), (2570, 0.004310499960317552), (2571, 0.020339152072096148), (2572, 0.0), (2573, 0.006769782149459667), (2574, 0.0), (2575, 0.013617199434930805), (2576, 0.0), (2577, 0.0), (2578, 0.007743078268460026), (2579, 0.04366414863513588), (2580, 0.0032555893336473304), (2581, 0.0), (2582, 0.0), (2583, 0.0), (2584, 0.010622092347850087), (2585, 0.029166244738249476), (2586, 0.0), (2587, 0.0), (2588, 0.024910473483059685), (2589, 0.0), (2590, 0.0), (2591, 0.03616406142970187), (2592, 0.004057409780262003), (2593, 0.003596155942892955), (2594, 0.029397155553976196), (2595, 0.0), (2596, 0.0), (2597, 0.0), (2598, 0.0034204253822326955), (2599, 0.022018598250722922), (2600, 0.0), (2601, 0.003907020445686752), (2602, 0.0032534394654337466), (2603, 0.0031360985441911795), (2604, 0.0), (2605, 0.042849234276840883), (2606, 0.0036800145891703936), (2607, 0.003378457181110605), (2608, 0.0), (2609, 0.0038361180889401173), (2610, 0.0), (2611, 0.01373163972061555), (2612, 0.03555485125595718), (2613, 0.0), (2614, 0.007729524600821751), (2615, 0.0), (2616, 0.0), (2617, 0.0), (2618, 0.0307472884364363), (2619, 0.0), (2620, 0.0), (2621, 0.012935532088218123), (2622, 0.006842603542791072), (2623, 0.004153289942956942), (2624, 0.02846436887511306), (2625, 0.004206401653894512), (2626, 0.0), (2627, 0.0), (2628, 0.0), (2629, 0.00406190013839606), (2630, 0.0), (2631, 0.011347686223977041), (2632, 0.003705448160198514), (2633, 0.0038201376418582973), (2634, 0.0035457123933764585), (2635, 0.0), (2636, 0.0), (2637, 0.011698953669551718), (2638, 0.004098940249155329), (2639, 0.0), (2640, 0.0), (2641, 0.0), (2642, 0.003556513477077682), (2643, 0.004792513210955256), (2644, 0.0077375512179493145), (2645, 0.004496269142702813), (2646, 0.0), (2647, 0.003679393788571507), (2648, 0.012273762209152292), (2649, 0.0), (2650, 0.011954980701198012), (2651, 0.0), (2652, 0.003641297737595291), (2653, 0.0034728862741125097), (2654, 0.0), (2655, 0.004793402819645114), (2656, 0.0), (2657, 0.04075913237566562), (2658, 0.0), (2659, 0.0), (2660, 0.008016058605410575), (2661, 0.0037356867971455494), (2662, 0.012864476295229464), (2663, 0.0), (2664, 0.004013618158229277), (2665, 0.05455306794714928), (2666, 0.019824554840224627), (2667, 0.0), (2668, 0.0037546149705421257), (2669, 0.0), (2670, 0.0), (2671, 0.025027079569510058), (2672, 0.0), (2673, 0.0), (2674, 0.0034071106443742246), (2675, 0.027337456791149378), (2676, 0.0), (2677, 0.0), (2678, 0.00539801443859906), (2679, 0.0), (2680, 0.05435384540410288), (2681, 0.01108509904859587), (2682, 0.0073370888527937795), (2683, 0.0), (2684, 0.016329101414197997), (2685, 0.0), (2686, 0.0), (2687, 0.0036378954236943404), (2688, 0.022584513012617272), (2689, 0.021811716133881068), (2690, 0.0), (2691, 0.008322312155620465), (2692, 0.0032049817833526436), (2693, 0.0), (2694, 0.0), (2695, 0.003688705250168187), (2696, 0.004308334837191289), (2697, 0.003042514253113839), (2698, 0.0035817224319530296), (2699, 0.0), (2700, 0.0), (2701, 0.0), (2702, 0.004039410377745048), (2703, 0.0), (2704, 0.0), (2705, 0.00403560807715641), (2706, 0.0036820204539070355), (2707, 0.0), (2708, 0.0210181397367435), (2709, 0.012959183643963756), (2710, 0.0), (2711, 0.029467101289275825), (2712, 0.0038028449676631585), (2713, 0.031564440127427915), (2714, 0.0039008295519447345), (2715, 0.010244023055762677), (2716, 0.0035876529099412384), (2717, 0.0), (2718, 0.0), (2719, 0.0), (2720, 0.05072090691800034), (2721, 0.0), (2722, 0.0), (2723, 0.0), (2724, 0.022019588428116178), (2725, 0.0), (2726, 0.0), (2727, 0.0), (2728, 0.0), (2729, 0.008331474733160215), (2730, 0.0), (2731, 0.004736378252828641), (2732, 0.0), (2733, 0.0), (2734, 0.0), (2735, 0.0), (2736, 0.0), (2737, 0.0), (2738, 0.04487653413963462), (2739, 0.0), (2740, 0.004224125104624856), (2741, 0.0033890994282763866), (2742, 0.0), (2743, 0.003372885478741653), (2744, 0.0037530002027045513), (2745, 0.0036803605434376947), (2746, 0.00372883665706533), (2747, 0.0033146246263341633), (2748, 0.004117163684335948), (2749, 0.007206655790253251), (2750, 0.0), (2751, 0.0), (2752, 0.0), (2753, 0.0), (2754, 0.012954528397343056), (2755, 0.004024549029096869), (2756, 0.00951057570434946), (2757, 0.034750301138720435), (2758, 0.0030696020060223834), (2759, 0.0), (2760, 0.03816996108520068), (2761, 0.0031000561761056838), (2762, 0.0), (2763, 0.0), (2764, 0.005004953948457498), (2765, 0.0), (2766, 0.0029234582444096313), (2767, 0.002892815184446345), (2768, 0.004843665728742583), (2769, 0.00422779877842694), (2770, 0.019041448681129926), (2771, 0.013690868270275106), (2772, 0.0042249460568920165), (2773, 0.0), (2774, 0.009277594350686475), (2775, 0.004820974320391208), (2776, 0.0038603828096868825), (2777, 0.00354179562615479), (2778, 0.004336916115468124), (2779, 0.003591354192019319), (2780, 0.0), (2781, 0.0), (2782, 0.004009833654177379), (2783, 0.0), (2784, 0.0036657524710367586), (2785, 0.0), (2786, 0.014145074464691114), (2787, 0.0), (2788, 0.0), (2789, 0.0176020616698847), (2790, 0.0085319280973865), (2791, 0.011053694143010748), (2792, 0.0), (2793, 0.0), (2794, 0.0), (2795, 0.004736182785493363), (2796, 0.0040990047368586165), (2797, 0.004386179178804015), (2798, 0.0038364671820262947), (2799, 0.0), (2800, 0.0034379412296604846), (2801, 0.0), (2802, 0.0036306791202936803), (2803, 0.0033857115228975595), (2804, 0.11056471656732529), (2805, 0.0), (2806, 0.0), (2807, 0.0), (2808, 0.0036113057805774846), (2809, 0.007643816127080396), (2810, 0.0), (2811, 0.012548841839973422), (2812, 0.003674840458020793), (2813, 0.012144491426892468), (2814, 0.0), (2815, 0.022696308974179076), (2816, 0.0), (2817, 0.012767681802382344), (2818, 0.0), (2819, 0.0), (2820, 0.0), (2821, 0.016311840846453988), (2822, 0.05268852754313866), (2823, 0.0), (2824, 0.007960505133635627), (2825, 0.0), (2826, 0.01182184392220225), (2827, 0.035020908930856486), (2828, 0.007865007959283373), (2829, 0.0), (2830, 0.003986476800927391), (2831, 0.015303667662310191), (2832, 0.004750386187205008), (2833, 0.0), (2834, 0.0043563628945631205), (2835, 0.0), (2836, 0.0), (2837, 0.009767215631283074), (2838, 0.0187462024613132), (2839, 0.0), (2840, 0.004035706904003062), (2841, 0.0), (2842, 0.0), (2843, 0.008683669379756922), (2844, 0.0029984840266366703), (2845, 0.026685420091601353), (2846, 0.013659009194403176), (2847, 0.0), (2848, 0.004231354740010212), (2849, 0.0), (2850, 0.020551276701070154), (2851, 0.0), (2852, 0.0), (2853, 0.0), (2854, 0.016996874422720496), (2855, 0.0), (2856, 0.0), (2857, 0.004316294809998764), (2858, 0.0), (2859, 0.0034824818930149315), (2860, 0.00872304726801458), (2861, 0.0), (2862, 0.003454995301686145), (2863, 0.0), (2864, 0.0), (2865, 0.0), (2866, 0.0), (2867, 0.0), (2868, 0.0), (2869, 0.0), (2870, 0.05452558617758392), (2871, 0.011342078600181287), (2872, 0.004197438350686929), (2873, 0.0), (2874, 0.03607607564159152), (2875, 0.0), (2876, 0.003146582119268719), (2877, 0.0), (2878, 0.0037718742072845707), (2879, 0.004460142048450893), (2880, 0.0), (2881, 0.004074130561985705), (2882, 0.0), (2883, 0.004817073056355611), (2884, 0.0), (2885, 0.0), (2886, 0.0034671953961350286), (2887, 0.003580042546149589), (2888, 0.003950145764926323), (2889, 0.0046177721415452105), (2890, 0.0043154947290150415), (2891, 0.0), (2892, 0.014313288505345748), (2893, 0.003962825972705545), (2894, 0.01588623844247688), (2895, 0.0), (2896, 0.02969959863195879), (2897, 0.0), (2898, 0.008570473996137406), (2899, 0.022981648053705183), (2900, 0.0), (2901, 0.004638386197638418), (2902, 0.0), (2903, 0.004076133611142355), (2904, 0.015924338931572968), (2905, 0.0), (2906, 0.0), (2907, 0.003546509562824497), (2908, 0.002934071530072581), (2909, 0.0), (2910, 0.0037992830104342204), (2911, 0.0038958011588374353), (2912, 0.0), (2913, 0.0), (2914, 0.004179176798331509), (2915, 0.00400959461635065), (2916, 0.004018113876835443), (2917, 0.02912172023513577), (2918, 0.0), (2919, 0.0038229881799961753), (2920, 0.003416062165470374), (2921, 0.0), (2922, 0.0), (2923, 0.0), (2924, 0.004134684509867103), (2925, 0.002980082347116356), (2926, 0.0038185374982050834), (2927, 0.023728888404622284), (2928, 0.0), (2929, 0.0), (2930, 0.0), (2931, 0.003327377406470889), (2932, 0.0047440694047672614), (2933, 0.0032257509985400556), (2934, 0.0036216240697506544), (2935, 0.0), (2936, 0.0), (2937, 0.016284764027382752), (2938, 0.0), (2939, 0.0), (2940, 0.0), (2941, 0.0), (2942, 0.0), (2943, 0.003941202820840672), (2944, 0.021333346126853142), (2945, 0.0036191748571027384), (2946, 0.0035657138168885987), (2947, 0.0), (2948, 0.0), (2949, 0.012677048228568268), (2950, 0.00808079562715057), (2951, 0.0), (2952, 0.0), (2953, 0.0), (2954, 0.0), (2955, 0.06968447886412694), (2956, 0.01431987902055485), (2957, 0.0), (2958, 0.01071877810289233), (2959, 0.0), (2960, 0.0), (2961, 0.003560144081848478), (2962, 0.0), (2963, 0.0), (2964, 0.0), (2965, 0.003587170613144793), (2966, 0.004459666172452381), (2967, 0.0), (2968, 0.0), (2969, 0.013420144246976306), (2970, 0.0), (2971, 0.0), (2972, 0.0036804586616077874), (2973, 0.0), (2974, 0.004127519798395219), (2975, 0.0032204301402971856), (2976, 0.003238573182092919), (2977, 0.003723063547068291), (2978, 0.0), (2979, 0.0), (2980, 0.0036237156249123974), (2981, 0.0032044504672000826), (2982, 0.023527378432832403), (2983, 0.0), (2984, 0.0), (2985, 0.0), (2986, 0.004151612884708887), (2987, 0.0), (2988, 0.0038288992204383483), (2989, 0.020761661412850116), (2990, 0.0), (2991, 0.0), (2992, 0.0), (2993, 0.0), (2994, 0.0), (2995, 0.011362110746176832), (2996, 0.0038439056722757237), (2997, 0.0), (2998, 0.005077812684855775), (2999, 0.0038305167820870513), (3000, 0.0), (3001, 0.02179870381978638), (3002, 0.0), (3003, 0.0), (3004, 0.0043029134329373156), (3005, 0.0), (3006, 0.0), (3007, 0.0), (3008, 0.0), (3009, 0.0), (3010, 0.0), (3011, 0.0), (3012, 0.0041663874718992425), (3013, 0.003983712957299316), (3014, 0.015050283320498991), (3015, 0.004581865444005407), (3016, 0.0), (3017, 0.0), (3018, 0.02313258078049389), (3019, 0.004332227472271568), (3020, 0.0), (3021, 0.01883580351061053), (3022, 0.024010320033221753), (3023, 0.0), (3024, 0.003077395645146802), (3025, 0.014585483053879827), (3026, 0.012890592835044878), (3027, 0.0033684112127656163), (3028, 0.0034666624170952894), (3029, 0.0), (3030, 0.0), (3031, 0.0), (3032, 0.004016029310682499), (3033, 0.0), (3034, 0.0), (3035, 0.0), (3036, 0.003676899223826436), (3037, 0.003956579717137646), (3038, 0.0), (3039, 0.0), (3040, 0.01619931222991654), (3041, 0.0), (3042, 0.0), (3043, 0.004040213219158887), (3044, 0.017351895130992407), (3045, 0.02687893435061735), (3046, 0.0), (3047, 0.007900776026254294), (3048, 0.008527914979707236), (3049, 0.0), (3050, 0.003419099945212384), (3051, 0.015918458694039742), (3052, 0.0), (3053, 0.0), (3054, 0.0), (3055, 0.0), (3056, 0.013414287068518107), (3057, 0.0), (3058, 0.0), (3059, 0.008986081599060527), (3060, 0.0), (3061, 0.0), (3062, 0.004103371122122452), (3063, 0.030671447353065664), (3064, 0.0), (3065, 0.0031751617933252364), (3066, 0.011384768397353168), (3067, 0.003664690257162227), (3068, 0.007290275296646866), (3069, 0.02315339675875695), (3070, 0.0), (3071, 0.03774233588196882), (3072, 0.004251911370664803), (3073, 0.03273330635204873), (3074, 0.004430548619919766), (3075, 0.0038744467829564333), (3076, 0.004798803242249013), (3077, 0.0), (3078, 0.0), (3079, 0.03223652280203832), (3080, 0.008960464102242103), (3081, 0.004326377101112281), (3082, 0.0), (3083, 0.03115256796928407), (3084, 0.012376506239852309), (3085, 0.0), (3086, 0.0038572796096877126), (3087, 0.0), (3088, 0.0), (3089, 0.009434599401551206), (3090, 0.0), (3091, 0.0030562432078031845), (3092, 0.0), (3093, 0.0), (3094, 0.004088708609149946), (3095, 0.0), (3096, 0.013194508801484404), (3097, 0.0039006417668390816), (3098, 0.0), (3099, 0.0), (3100, 0.020345084831560042), (3101, 0.039801199877635376), (3102, 0.0), (3103, 0.0), (3104, 0.0), (3105, 0.007902233699575642), (3106, 0.0), (3107, 0.0), (3108, 0.0032492145872355513), (3109, 0.0), (3110, 0.0), (3111, 0.0032042311694677555), (3112, 0.003819680793548632), (3113, 0.0), (3114, 0.007605288614633657), (3115, 0.0), (3116, 0.004033761141020435), (3117, 0.0), (3118, 0.0), (3119, 0.0), (3120, 0.014442508963694279), (3121, 0.011173633154538664), (3122, 0.003622270641568402), (3123, 0.028638293816489607), (3124, 0.0), (3125, 0.003749579067754101), (3126, 0.0), (3127, 0.024119839617720115), (3128, 0.0), (3129, 0.0), (3130, 0.0), (3131, 0.021247686401554715), (3132, 0.008743029962266535), (3133, 0.05027919773679073), (3134, 0.021822074745151278), (3135, 0.0), (3136, 0.0), (3137, 0.0032941386724750074), (3138, 0.0), (3139, 0.0), (3140, 0.004727512863295601), (3141, 0.07723867178026138), (3142, 0.015437291811999463), (3143, 0.0), (3144, 0.0), (3145, 0.0), (3146, 0.0038817783842008055), (3147, 0.02742513287973744), (3148, 0.004017144728466159), (3149, 0.0), (3150, 0.0), (3151, 0.00359919793638597), (3152, 0.0029916117839882813), (3153, 0.0037881340577018297), (3154, 0.018541983547481086), (3155, 0.0), (3156, 0.04789373752258063), (3157, 0.0), (3158, 0.0222979656947513), (3159, 0.0), (3160, 0.018062889696966386), (3161, 0.022187859112381022), (3162, 0.0), (3163, 0.0), (3164, 0.0), (3165, 0.004235966070267029), (3166, 0.004855064991487519), (3167, 0.0), (3168, 0.0), (3169, 0.047441821305635214), (3170, 0.003600188373961115), (3171, 0.003492411660566), (3172, 0.0), (3173, 0.0), (3174, 0.0), (3175, 0.0), (3176, 0.0), (3177, 0.011462998301899834), (3178, 0.005380299753899775), (3179, 0.024043850907034477), (3180, 0.022704797500783736), (3181, 0.045671714146062636), (3182, 0.0037491460239440044), (3183, 0.003987807002485163), (3184, 0.0038111490274802522), (3185, 0.0), (3186, 0.0), (3187, 0.004016802585513877), (3188, 0.0), (3189, 0.0), (3190, 0.0), (3191, 0.022879821107867997), (3192, 0.0), (3193, 0.01914477691654651), (3194, 0.003510198560061366), (3195, 0.003601549614060395), (3196, 0.004063232175208645), (3197, 0.0), (3198, 0.0039770869931229115), (3199, 0.0029088507667890603), (3200, 0.013014662521173148), (3201, 0.00744105103945217), (3202, 0.0), (3203, 0.0), (3204, 0.0), (3205, 0.0), (3206, 0.0), (3207, 0.0), (3208, 0.0), (3209, 0.0), (3210, 0.0039015970848272946), (3211, 0.0), (3212, 0.0), (3213, 0.0), (3214, 0.003787654247548632), (3215, 0.0), (3216, 0.0), (3217, 0.0), (3218, 0.003964256663268125), (3219, 0.047288545819434764), (3220, 0.003530423359429885), (3221, 0.0134807131783272), (3222, 0.0), (3223, 0.0), (3224, 0.0), (3225, 0.03365962630731691), (3226, 0.003359895697734354), (3227, 0.003795155734462791), (3228, 0.004244096803320429), (3229, 0.0), (3230, 0.0), (3231, 0.007299027566434759), (3232, 0.01090766761127258), (3233, 0.01223056985772082), (3234, 0.003947136060537792), (3235, 0.003892581273032015), (3236, 0.0), (3237, 0.0036228617670531513), (3238, 0.010530939726727466), (3239, 0.0), (3240, 0.0034825810871477215), (3241, 0.0037945034336084233), (3242, 0.01201845752716198), (3243, 0.0), (3244, 0.0), (3245, 0.0), (3246, 0.02155896147733815), (3247, 0.018955529938403826), (3248, 0.004092742089114291), (3249, 0.0), (3250, 0.0), (3251, 0.0), (3252, 0.0), (3253, 0.0), (3254, 0.0031887420896558037), (3255, 0.0), (3256, 0.0), (3257, 0.00486600755899789), (3258, 0.004100612558099045), (3259, 0.012250559490449064), (3260, 0.0), (3261, 0.0), (3262, 0.004779817491198437), (3263, 0.0), (3264, 0.0), (3265, 0.012189850543857692), (3266, 0.0), (3267, 0.0), (3268, 0.0035558762996811422), (3269, 0.0), (3270, 0.09964876468528815), (3271, 0.0), (3272, 0.0), (3273, 0.004005506943931361), (3274, 0.004148819071836758), (3275, 0.004428346489378473), (3276, 0.005192085252462256), (3277, 0.0), (3278, 0.0034592041771830374), (3279, 0.02040211404080749), (3280, 0.0), (3281, 0.013449688922363675), (3282, 0.004557438328390662), (3283, 0.024574510686286702), (3284, 0.003327086960931809), (3285, 0.0), (3286, 0.03648773996923902), (3287, 0.0), (3288, 0.0), (3289, 0.0), (3290, 0.0), (3291, 0.004970558675680391), (3292, 0.01504096274164843), (3293, 0.0034649964624698707), (3294, 0.007671079780739818), (3295, 0.0), (3296, 0.004103042826715383), (3297, 0.01588499053618728), (3298, 0.04262454706492613), (3299, 0.0), (3300, 0.003477562430899157), (3301, 0.00305750798382478), (3302, 0.004350752155360634), (3303, 0.003749623478027086), (3304, 0.01381780437192061), (3305, 0.020446617351185983), (3306, 0.0), (3307, 0.0), (3308, 0.0177397187711053), (3309, 0.0), (3310, 0.0), (3311, 0.003401396104060004), (3312, 0.0), (3313, 0.0), (3314, 0.015939676870456745), (3315, 0.0035949251426345753), (3316, 0.002825916815574635), (3317, 0.00302740201297551), (3318, 0.0267893404400099), (3319, 0.0), (3320, 0.0), (3321, 0.03306966093038174), (3322, 0.0), (3323, 0.01656983799286915), (3324, 0.0), (3325, 0.0052923284327085224), (3326, 0.0038424434709512637), (3327, 0.0032741653154296857), (3328, 0.00239997234062377), (3329, 0.0), (3330, 0.003696160166159699), (3331, 0.010222803025999025), (3332, 0.008284696711260002), (3333, 0.0), (3334, 0.0), (3335, 0.0), (3336, 0.027151294894870615), (3337, 0.0), (3338, 0.0), (3339, 0.0), (3340, 0.0), (3341, 0.0), (3342, 0.0034188481074618146), (3343, 0.0), (3344, 0.0030847723904443266), (3345, 0.0), (3346, 0.0036721373233178645), (3347, 0.0031051872288881425), (3348, 0.0), (3349, 0.0038051020004831243), (3350, 0.0), (3351, 0.011782348776330304), (3352, 0.014464610543161577), (3353, 0.003735808159849689), (3354, 0.0), (3355, 0.01785780610917725), (3356, 0.0), (3357, 0.004375441267414026), (3358, 0.0), (3359, 0.00427615224727977), (3360, 0.03202440006719211), (3361, 0.007520572758727028), (3362, 0.009596916530232306), (3363, 0.004305856285535786), (3364, 0.004195626595291364), (3365, 0.002646155456663902), (3366, 0.0), (3367, 0.007899086488296963), (3368, 0.019711842905249445), (3369, 0.0), (3370, 0.003437694315711174), (3371, 0.0), (3372, 0.0), (3373, 0.0), (3374, 0.003887688063336475), (3375, 0.03270219811746956), (3376, 0.0), (3377, 0.013224992786216382), (3378, 0.0), (3379, 0.0035261887161538827), (3380, 0.0032858758904317697), (3381, 0.0), (3382, 0.0), (3383, 0.0), (3384, 0.0), (3385, 0.04951563499425704), (3386, 0.016336736307815743), (3387, 0.0), (3388, 0.003811078406740152), (3389, 0.09967604016889013), (3390, 0.0), (3391, 0.003939967188274694), (3392, 0.0), (3393, 0.0032289349454513506), (3394, 0.020068857623100587), (3395, 0.0), (3396, 0.0), (3397, 0.0), (3398, 0.0), (3399, 0.0034824011554894217), (3400, 0.0), (3401, 0.0), (3402, 0.040217686638353144), (3403, 0.013380071903208605), (3404, 0.0), (3405, 0.03646939335576114), (3406, 0.003938093186900019), (3407, 0.003531649377422651), (3408, 0.012926100674227848), (3409, 0.0031770131069358866), (3410, 0.0), (3411, 0.0), (3412, 0.0), (3413, 0.00411246812835714), (3414, 0.013497257910793202), (3415, 0.0), (3416, 0.011999682409704527), (3417, 0.003956388276934339), (3418, 0.0), (3419, 0.0), (3420, 0.0), (3421, 0.023584304535976923), (3422, 0.011940949124823196), (3423, 0.0), (3424, 0.0), (3425, 0.004152068553168524), (3426, 0.0), (3427, 0.008121897176223164), (3428, 0.030636717093437082), (3429, 0.0), (3430, 0.0), (3431, 0.0), (3432, 0.0), (3433, 0.014729799792014203), (3434, 0.0), (3435, 0.003669575990751628), (3436, 0.003704127381551373), (3437, 0.0038916999168153114), (3438, 0.0), (3439, 0.015501081072812749), (3440, 0.0), (3441, 0.011671701978949423), (3442, 0.0), (3443, 0.033297029834571), (3444, 0.0), (3445, 0.003691409045201459), (3446, 0.0), (3447, 0.0034508692215414207), (3448, 0.0), (3449, 0.0038584758269419412), (3450, 0.029792236814128667), (3451, 0.0), (3452, 0.020691372123143658), (3453, 0.009299813660890294), (3454, 0.0), (3455, 0.0), (3456, 0.0), (3457, 0.0), (3458, 0.0), (3459, 0.0), (3460, 0.0034216937104838887), (3461, 0.0), (3462, 0.0), (3463, 0.00845444447801708), (3464, 0.0), (3465, 0.0), (3466, 0.0), (3467, 0.034620365319616854), (3468, 0.045366153465269676), (3469, 0.022833924828503584), (3470, 0.0), (3471, 0.003154535833662628), (3472, 0.0), (3473, 0.0), (3474, 0.0032921639787386646), (3475, 0.01743171631227786), (3476, 0.0), (3477, 0.03579739802711994), (3478, 0.0), (3479, 0.004713789081997113), (3480, 0.026515024350360072), (3481, 0.0), (3482, 0.0), (3483, 0.0037680537112212867), (3484, 0.007270300286546677), (3485, 0.0), (3486, 0.0), (3487, 0.0035760578497849344), (3488, 0.0), (3489, 0.0), (3490, 0.0), (3491, 0.0), (3492, 0.003650515641657741), (3493, 0.06556668558809989), (3494, 0.0), (3495, 0.010566582221399067), (3496, 0.0038571003166919557), (3497, 0.0), (3498, 0.003552521854539029), (3499, 0.0), (3500, 0.0036388636686498794), (3501, 0.0037892764721430623), (3502, 0.02472379604567658), (3503, 0.003446621340367586), (3504, 0.003489489249308675), (3505, 0.0), (3506, 0.004143881233560806), (3507, 0.0), (3508, 0.0), (3509, 0.0), (3510, 0.0), (3511, 0.0038754162946594258), (3512, 0.005443093844090209), (3513, 0.02115766741506845), (3514, 0.011969104223323637), (3515, 0.00854234720125192), (3516, 0.012120247124619957), (3517, 0.0), (3518, 0.0), (3519, 0.0), (3520, 0.012740103917898584), (3521, 0.0043490809315695515), (3522, 0.0), (3523, 0.0), (3524, 0.0041939208879805765), (3525, 0.04468884331176122), (3526, 0.0037769955286031886), (3527, 0.0038037276063584862), (3528, 0.019504889841519442), (3529, 0.0), (3530, 0.0314011130474265), (3531, 0.0), (3532, 0.009027499592738688), (3533, 0.024667558777301143), (3534, 0.012758309134335954), (3535, 0.0), (3536, 0.0), (3537, 0.0), (3538, 0.0), (3539, 0.0242269566558577), (3540, 0.0), (3541, 0.0036666610776943114), (3542, 0.011689307078815216), (3543, 0.0), (3544, 0.0), (3545, 0.0), (3546, 0.0027661270743429243), (3547, 0.013673851847459057), (3548, 0.0), (3549, 0.0), (3550, 0.0), (3551, 0.003793305114618893), (3552, 0.005405756516810745), (3553, 0.003679679467978388), (3554, 0.0), (3555, 0.0), (3556, 0.024395464594057312), (3557, 0.003610190514525443), (3558, 0.0035255086414370715), (3559, 0.057262365810490365), (3560, 0.004177782654873668), (3561, 0.0), (3562, 0.0), (3563, 0.014161019591668437), (3564, 0.003754443260341025), (3565, 0.0), (3566, 0.0), (3567, 0.0), (3568, 0.0), (3569, 0.0032735982528051587), (3570, 0.0), (3571, 0.0037063440556608764), (3572, 0.0), (3573, 0.0), (3574, 0.0), (3575, 0.013138253388123293), (3576, 0.008293378427755162), (3577, 0.018549585421112715), (3578, 0.0), (3579, 0.0032849189010296306), (3580, 0.02309657102568604), (3581, 0.0), (3582, 0.0), (3583, 0.0), (3584, 0.0), (3585, 0.0), (3586, 0.0), (3587, 0.0), (3588, 0.0), (3589, 0.010816442628177741), (3590, 0.004058691710928052), (3591, 0.041564261579411906), (3592, 0.0), (3593, 0.0), (3594, 0.008084404348470613), (3595, 0.007822690559587564), (3596, 0.0), (3597, 0.02261829196914013), (3598, 0.05016843643480602), (3599, 0.0), (3600, 0.0), (3601, 0.003955967713075651), (3602, 0.0), (3603, 0.0), (3604, 0.012143818528060527), (3605, 0.03978425423422663), (3606, 0.0), (3607, 0.0), (3608, 0.0), (3609, 0.0), (3610, 0.0), (3611, 0.0), (3612, 0.003861978724452727), (3613, 0.004410867558430665), (3614, 0.0034126231860569984), (3615, 0.022234911773349204), (3616, 0.0), (3617, 0.0), (3618, 0.004050224196074482), (3619, 0.026135011709937903), (3620, 0.004381619447645087), (3621, 0.0), (3622, 0.0), (3623, 0.012308660985936554), (3624, 0.016249749421680348), (3625, 0.008638066096934946), (3626, 0.0028563761152152318), (3627, 0.01112468138809658), (3628, 0.0), (3629, 0.0), (3630, 0.0), (3631, 0.0), (3632, 0.0), (3633, 0.0), (3634, 0.031665046295440015), (3635, 0.004624425569130946), (3636, 0.0), (3637, 0.026471125879669006), (3638, 0.018750141539391335), (3639, 0.004090673751712024), (3640, 0.004114663034950022), (3641, 0.01162319255438525), (3642, 0.0), (3643, 0.0038086894741187136), (3644, 0.0), (3645, 0.0030476908894799754), (3646, 0.0035129822859886846), (3647, 0.0), (3648, 0.0), (3649, 0.0), (3650, 0.0), (3651, 0.01336683385048058), (3652, 0.0), (3653, 0.0037597946652972165), (3654, 0.0038240522488120652), (3655, 0.013750421122134688), (3656, 0.010419064719463604), (3657, 0.0032124524286698294), (3658, 0.0), (3659, 0.0), (3660, 0.0034897122846789357), (3661, 0.0), (3662, 0.0), (3663, 0.0), (3664, 0.01217751383813121), (3665, 0.0), (3666, 0.00379644797615215), (3667, 0.005623695637605882), (3668, 0.0), (3669, 0.0034434657928628727), (3670, 0.0), (3671, 0.0), (3672, 0.0), (3673, 0.0037020439645184585), (3674, 0.010370428910794118), (3675, 0.0043631699928129266), (3676, 0.0), (3677, 0.0), (3678, 0.0), (3679, 0.0), (3680, 0.0041219511662773725), (3681, 0.0), (3682, 0.0), (3683, 0.0), (3684, 0.0), (3685, 0.007975120818432942), (3686, 0.0), (3687, 0.0), (3688, 0.008903035903675298), (3689, 0.0037763342801645215), (3690, 0.008274051868132265), (3691, 0.0), (3692, 0.02656175191842427), (3693, 0.01874090193586807), (3694, 0.003996786776991125), (3695, 0.012591676412158904), (3696, 0.003541079883036833), (3697, 0.0), (3698, 0.0), (3699, 0.012722103053735773), (3700, 0.0), (3701, 0.0), (3702, 0.0), (3703, 0.0), (3704, 0.0039095467802702615), (3705, 0.033411068292790336), (3706, 0.003531888446916416), (3707, 0.0036267408124147976), (3708, 0.0), (3709, 0.02058673866828739), (3710, 0.0), (3711, 0.0), (3712, 0.0), (3713, 0.0), (3714, 0.08754652812325178), (3715, 0.0), (3716, 0.020927703197559534), (3717, 0.0), (3718, 0.01937486894026452), (3719, 0.0), (3720, 0.007962640806519263), (3721, 0.0), (3722, 0.0), (3723, 0.0), (3724, 0.008538856587176498), (3725, 0.0), (3726, 0.0), (3727, 0.003640558353200426), (3728, 0.003784973033023872), (3729, 0.0), (3730, 0.012579592758981486), (3731, 0.0), (3732, 0.0), (3733, 0.0), (3734, 0.02375125367267597), (3735, 0.0), (3736, 0.0), (3737, 0.0), (3738, 0.0), (3739, 0.0036112038426361253), (3740, 0.01420126454867212), (3741, 0.0), (3742, 0.014347072961229224), (3743, 0.008098436787634753), (3744, 0.02409643487153492), (3745, 0.004045838847100765), (3746, 0.0), (3747, 0.021671963171147994), (3748, 0.0), (3749, 0.00390016574444053), (3750, 0.0), (3751, 0.009951038257763396), (3752, 0.0), (3753, 0.0), (3754, 0.004110487942183694), (3755, 0.0033013367576187856), (3756, 0.0030859220934948625), (3757, 0.0), (3758, 0.0), (3759, 0.0), (3760, 0.0), (3761, 0.0), (3762, 0.0), (3763, 0.004536827862041141), (3764, 0.0), (3765, 0.0037841484720093593), (3766, 0.004446345612092278), (3767, 0.0032936345358951843), (3768, 0.0), (3769, 0.0), (3770, 0.0), (3771, 0.003888703734796881), (3772, 0.01849957581773394), (3773, 0.020246203757315454), (3774, 0.0), (3775, 0.0), (3776, 0.0), (3777, 0.01650291412887029), (3778, 0.0037595392348894127), (3779, 0.0), (3780, 0.016480268876991597), (3781, 0.0), (3782, 0.0), (3783, 0.019811259136611914), (3784, 0.0036088236377894265), (3785, 0.0), (3786, 0.0), (3787, 0.02253948560846282), (3788, 0.0), (3789, 0.0), (3790, 0.024610996967283742), (3791, 0.0), (3792, 0.0), (3793, 0.0), (3794, 0.0), (3795, 0.028947119504420204), (3796, 0.0), (3797, 0.027174165655018307), (3798, 0.022063988186096915), (3799, 0.0035859008224802627), (3800, 0.0), (3801, 0.014324999517530114), (3802, 0.00877094469884368), (3803, 0.034767874432714466), (3804, 0.0), (3805, 0.0), (3806, 0.0), (3807, 0.003700100041770287), (3808, 0.0), (3809, 0.0036884578153661305), (3810, 0.0), (3811, 0.015033381916912458), (3812, 0.0), (3813, 0.00393876105281055), (3814, 0.0), (3815, 0.0), (3816, 0.0), (3817, 0.0), (3818, 0.0), (3819, 0.003546911896951485), (3820, 0.0), (3821, 0.0), (3822, 0.003920833934162954), (3823, 0.0), (3824, 0.0), (3825, 0.0), (3826, 0.0034928932516346996), (3827, 0.003965509445608112), (3828, 0.004410237711354032), (3829, 0.0033733971594639817), (3830, 0.0), (3831, 0.0), (3832, 0.004500064958992619), (3833, 0.0), (3834, 0.022347586433940973), (3835, 0.0024074296842038555), (3836, 0.0), (3837, 0.0), (3838, 0.0), (3839, 0.0033356501554677146), (3840, 0.021418220346822864), (3841, 0.0), (3842, 0.0), (3843, 0.011279091835590378), (3844, 0.0), (3845, 0.003931693875334778), (3846, 0.0), (3847, 0.0), (3848, 0.0), (3849, 0.0), (3850, 0.008468893726418776), (3851, 0.0), (3852, 0.0), (3853, 0.0), (3854, 0.003410197722497274), (3855, 0.0030960300670271955), (3856, 0.047120914488575416), (3857, 0.0), (3858, 0.0), (3859, 0.0), (3860, 0.0), (3861, 0.0), (3862, 0.003972859054054699), (3863, 0.0), (3864, 0.0), (3865, 0.0), (3866, 0.004279731455688513), (3867, 0.004028214061286276), (3868, 0.0035779301904167353), (3869, 0.02373280428494476), (3870, 0.0), (3871, 0.03325180464664404), (3872, 0.0), (3873, 0.012839588935544988), (3874, 0.0), (3875, 0.003000948462573397), (3876, 0.003625851721680256), (3877, 0.0), (3878, 0.0), (3879, 0.0), (3880, 0.0033054432166134155), (3881, 0.0), (3882, 0.00372670228057224), (3883, 0.004069595726015928), (3884, 0.0137260757792559), (3885, 0.0), (3886, 0.04297523108734121), (3887, 0.0), (3888, 0.024746667988916525), (3889, 0.022282561624906848), (3890, 0.003622606718430061), (3891, 0.0), (3892, 0.00456931074536785), (3893, 0.00407857206714238), (3894, 0.0), (3895, 0.0032238609453200573), (3896, 0.0), (3897, 0.02306791730748533), (3898, 0.003408220855123978), (3899, 0.0), (3900, 0.023989989762481012), (3901, 0.004431087701329601), (3902, 0.003854645246880104), (3903, 0.00420195076347622), (3904, 0.003840371629549322), (3905, 0.0), (3906, 0.033408383939113676), (3907, 0.021932626056140644), (3908, 0.021645520070673066), (3909, 0.0), (3910, 0.0033911801898688834), (3911, 0.0), (3912, 0.0), (3913, 0.003319793394674794), (3914, 0.0), (3915, 0.003960400688948096), (3916, 0.0), (3917, 0.003718566771635432), (3918, 0.0), (3919, 0.012562079406200294), (3920, 0.00399324614690897), (3921, 0.0), (3922, 0.004585661289712271), (3923, 0.019148181501050153), (3924, 0.003982366361614177), (3925, 0.005106613685834109), (3926, 0.0), (3927, 0.0031447053283221167), (3928, 0.0031517466785442702), (3929, 0.0), (3930, 0.0), (3931, 0.0), (3932, 0.0068214749295164925), (3933, 0.0), (3934, 0.0), (3935, 0.0), (3936, 0.0), (3937, 0.03278596842597098), (3938, 0.0), (3939, 0.0), (3940, 0.0), (3941, 0.01061204162755816), (3942, 0.0), (3943, 0.0), (3944, 0.0), (3945, 0.0), (3946, 0.0), (3947, 0.0), (3948, 0.0), (3949, 0.0), (3950, 0.0), (3951, 0.0), (3952, 0.004259891995542878), (3953, 0.0035461975632527414), (3954, 0.003411981383431008), (3955, 0.0080848936481906), (3956, 0.0033050725223872962), (3957, 0.017919072519698494), (3958, 0.0), (3959, 0.0039118929694937086), (3960, 0.004070778689594978), (3961, 0.0), (3962, 0.004131173799227272), (3963, 0.0), (3964, 0.0), (3965, 0.019623880853208413), (3966, 0.07878204379594815), (3967, 0.0), (3968, 0.008373355730983667), (3969, 0.0), (3970, 0.0), (3971, 0.0), (3972, 0.008929734016781935), (3973, 0.0038159414398000625), (3974, 0.0034606771812852617), (3975, 0.01452494306730579), (3976, 0.0), (3977, 0.008706084469790208), (3978, 0.0), (3979, 0.0), (3980, 0.0), (3981, 0.0), (3982, 0.020565839157145376), (3983, 0.002830131832584003), (3984, 0.016390310805642717), (3985, 0.0), (3986, 0.0), (3987, 0.0), (3988, 0.0), (3989, 0.0), (3990, 0.004781142978143984), (3991, 0.0), (3992, 0.004025484167251849), (3993, 0.0), (3994, 0.007902697381126159), (3995, 0.0), (3996, 0.0), (3997, 0.008639679514087013), (3998, 0.007916235236994116), (3999, 0.0), (4000, 0.0), (4001, 0.0), (4002, 0.0), (4003, 0.012838215875947018), (4004, 0.0), (4005, 0.0038682954044498615), (4006, 0.0), (4007, 0.042379707814238034), (4008, 0.01269938471194246), (4009, 0.0), (4010, 0.0), (4011, 0.0035380245574832313), (4012, 0.0), (4013, 0.0), (4014, 0.0123562424352727), (4015, 0.01782254882467588), (4016, 0.0037597310411554845), (4017, 0.0), (4018, 0.02220388885470418), (4019, 0.0), (4020, 0.0035844615828955133), (4021, 0.0), (4022, 0.022577093207608524), (4023, 0.0), (4024, 0.0039065287895042825), (4025, 0.0037622722707889348), (4026, 0.0), (4027, 0.0), (4028, 0.0), (4029, 0.0), (4030, 0.0), (4031, 0.0), (4032, 0.0), (4033, 0.0038446787428699667), (4034, 0.0), (4035, 0.0), (4036, 0.0036269354921639138), (4037, 0.0), (4038, 0.0038677382947356655), (4039, 0.0), (4040, 0.0), (4041, 0.020526252172387793), (4042, 0.0), (4043, 0.0), (4044, 0.0), (4045, 0.0), (4046, 0.026318543784255567), (4047, 0.0), (4048, 0.0), (4049, 0.0), (4050, 0.0), (4051, 0.004191841742565792), (4052, 0.0), (4053, 0.003637459762023065), (4054, 0.07202004588990613), (4055, 0.0), (4056, 0.0037912474437268085), (4057, 0.0), (4058, 0.0), (4059, 0.0), (4060, 0.011595928745692482), (4061, 0.0), (4062, 0.0), (4063, 0.04386365318589121), (4064, 0.0), (4065, 0.0), (4066, 0.003332189487664162), (4067, 0.05359373279953659), (4068, 0.003647890525337487), (4069, 0.003546642833157592), (4070, 0.06487635854090433), (4071, 0.0), (4072, 0.0), (4073, 0.0), (4074, 0.013530015036274273), (4075, 0.0), (4076, 0.0220659821752424), (4077, 0.00877811052571585), (4078, 0.0), (4079, 0.0038349176659251603), (4080, 0.0), (4081, 0.01197135242048479), (4082, 0.004997105944821806), (4083, 0.0), (4084, 0.0), (4085, 0.0035087207236193215), (4086, 0.0), (4087, 0.027573688481595693), (4088, 0.0), (4089, 0.0), (4090, 0.0), (4091, 0.02121439786447879), (4092, 0.004054218398439084), (4093, 0.0), (4094, 0.0), (4095, 0.0031264772036772898), (4096, 0.0), (4097, 0.0), (4098, 0.004010000543740918), (4099, 0.0), (4100, 0.042531347450095236), (4101, 0.004067699612445083), (4102, 0.0), (4103, 0.0), (4104, 0.0), (4105, 0.0), (4106, 0.0), (4107, 0.0), (4108, 0.012858371284366534), (4109, 0.0), (4110, 0.02785335748151442), (4111, 0.0038311156036441203), (4112, 0.0), (4113, 0.004037045646802333), (4114, 0.010390094334408517), (4115, 0.0), (4116, 0.004015187444407609), (4117, 0.004346477333369117), (4118, 0.0), (4119, 0.0), (4120, 0.0), (4121, 0.0), (4122, 0.0), (4123, 0.00389759074141423), (4124, 0.012037386657279233), (4125, 0.0), (4126, 0.0), (4127, 0.0), (4128, 0.008643208017440895), (4129, 0.0), (4130, 0.004083409543621627), (4131, 0.0), (4132, 0.0), (4133, 0.003933407971255882), (4134, 0.0), (4135, 0.003668728534201055), (4136, 0.0), (4137, 0.014956385120829812), (4138, 0.003883586553737827), (4139, 0.020546401371976483), (4140, 0.0), (4141, 0.003331092046922814), (4142, 0.0), (4143, 0.003332232329174551), (4144, 0.010811079222557161), (4145, 0.0), (4146, 0.0), (4147, 0.0), (4148, 0.011830036907182978), (4149, 0.0), (4150, 0.0), (4151, 0.0031870277391161214), (4152, 0.06053164484305848), (4153, 0.007425047080432841), (4154, 0.023491316892605668), (4155, 0.0), (4156, 0.0031605509604188285), (4157, 0.0), (4158, 0.0), (4159, 0.01121725686711824), (4160, 0.003960956912441029), (4161, 0.0), (4162, 0.0), (4163, 0.004310365348436433), (4164, 0.010480040670537724), (4165, 0.019214120583756284), (4166, 0.0), (4167, 0.0), (4168, 0.008359824314759132), (4169, 0.0), (4170, 0.0), (4171, 0.010883324630292499), (4172, 0.0), (4173, 0.0), (4174, 0.0), (4175, 0.0), (4176, 0.014688885060432973), (4177, 0.0), (4178, 0.003740631947866883), (4179, 0.0), (4180, 0.0), (4181, 0.008889037623981296), (4182, 0.023860406804325024), (4183, 0.0036259380085789674), (4184, 0.0), (4185, 0.0), (4186, 0.0), (4187, 0.004011650109981087), (4188, 0.0), (4189, 0.027075572227001205), (4190, 0.0), (4191, 0.0), (4192, 0.003488466071453982), (4193, 0.0), (4194, 0.013841223261334714), (4195, 0.0), (4196, 0.0), (4197, 0.0), (4198, 0.0), (4199, 0.0), (4200, 0.0), (4201, 0.0), (4202, 0.004877526164938259), (4203, 0.017822852484994406), (4204, 0.0), (4205, 0.003497986239790396), (4206, 0.0), (4207, 0.0), (4208, 0.0), (4209, 0.0), (4210, 0.011709272516916825), (4211, 0.0), (4212, 0.0), (4213, 0.0), (4214, 0.0), (4215, 0.014276010472083087), (4216, 0.0), (4217, 0.023209955078609373), (4218, 0.0), (4219, 0.0), (4220, 0.0), (4221, 0.0), (4222, 0.0), (4223, 0.0), (4224, 0.0), (4225, 0.0), (4226, 0.0), (4227, 0.0), (4228, 0.0), (4229, 0.0), (4230, 0.0), (4231, 0.003810565801718327), (4232, 0.0), (4233, 0.0), (4234, 0.0), (4235, 0.0), (4236, 0.0), (4237, 0.0), (4238, 0.00903644150746174), (4239, 0.0), (4240, 0.04509303134497408), (4241, 0.0), (4242, 0.0), (4243, 0.004281056430922355), (4244, 0.004188472923969375), (4245, 0.0), (4246, 0.0), (4247, 0.0032460691893210765), (4248, 0.03329689263390489), (4249, 0.0037956718942758353), (4250, 0.00881308007629528), (4251, 0.0), (4252, 0.0), (4253, 0.0), (4254, 0.0), (4255, 0.003703213398352094), (4256, 0.0), (4257, 0.003452651907173011), (4258, 0.0), (4259, 0.003945754782941287), (4260, 0.0), (4261, 0.006007238069981258), (4262, 0.0), (4263, 0.0), (4264, 0.020458879249970453), (4265, 0.0), (4266, 0.02495923130654871), (4267, 0.0), (4268, 0.0036554399948441406), (4269, 0.0041938276382290345), (4270, 0.0), (4271, 0.0), (4272, 0.0), (4273, 0.0), (4274, 0.0), (4275, 0.0), (4276, 0.008911047674552409), (4277, 0.0), (4278, 0.0), (4279, 0.0), (4280, 0.0), (4281, 0.0), (4282, 0.0034660693325708203), (4283, 0.0036564063158084944), (4284, 0.0037283150913150855), (4285, 0.023566234722001825), (4286, 0.0039114059936178475), (4287, 0.0037497371836608413), (4288, 0.007618798138545214), (4289, 0.0), (4290, 0.0), (4291, 0.0), (4292, 0.0), (4293, 0.0041632919401762575), (4294, 0.0), (4295, 0.004125363681025449), (4296, 0.0), (4297, 0.0), (4298, 0.0), (4299, 0.0679020491595185), (4300, 0.0), (4301, 0.0), (4302, 0.009954966524678859), (4303, 0.0), (4304, 0.025499605028016577), (4305, 0.0), (4306, 0.0), (4307, 0.0), (4308, 0.0), (4309, 0.003591754619339353), (4310, 0.0), (4311, 0.0030904004076409168), (4312, 0.008627560894915844), (4313, 0.0), (4314, 0.0), (4315, 0.0), (4316, 0.0), (4317, 0.0), (4318, 0.0), (4319, 0.023928833753356755), (4320, 0.0), (4321, 0.003443488489361312), (4322, 0.0), (4323, 0.0), (4324, 0.0), (4325, 0.0), (4326, 0.0), (4327, 0.0), (4328, 0.0), (4329, 0.0), (4330, 0.003988791497447858), (4331, 0.0), (4332, 0.0), (4333, 0.004265035764629671), (4334, 0.01205472821741864), (4335, 0.0), (4336, 0.003792737588901858), (4337, 0.0), (4338, 0.0), (4339, 0.10824730938192956), (4340, 0.0), (4341, 0.0), (4342, 0.0), (4343, 0.0), (4344, 0.021089994363426658), (4345, 0.003540366695009667), (4346, 0.023370732437372258), (4347, 0.0), (4348, 0.0), (4349, 0.0), (4350, 0.003383756977688768), (4351, 0.0), (4352, 0.0), (4353, 0.0), (4354, 0.0), (4355, 0.0), (4356, 0.014636660237853143), (4357, 0.003802935129194189), (4358, 0.0), (4359, 0.0), (4360, 0.011292603083374536), (4361, 0.0), (4362, 0.0036167740484110145), (4363, 0.0), (4364, 0.008267052092377936), (4365, 0.01885349402981832), (4366, 0.0), (4367, 0.0), (4368, 0.004172316350803429), (4369, 0.004180169514299924), (4370, 0.0), (4371, 0.0039025967279762938), (4372, 0.0), (4373, 0.006208970916824991), (4374, 0.014772832983686597), (4375, 0.0), (4376, 0.0), (4377, 0.012527115895691393), (4378, 0.033868193186331136), (4379, 0.0038468319852034876), (4380, 0.0), (4381, 0.0), (4382, 0.003475710416154076), (4383, 0.008203250089019409), (4384, 0.04281555486131014), (4385, 0.009913105719572931), (4386, 0.0), (4387, 0.0035688975932569814), (4388, 0.05907622986951447), (4389, 0.0), (4390, 0.0), (4391, 0.02104260448911361), (4392, 0.0), (4393, 0.0), (4394, 0.003564074184015193), (4395, 0.0), (4396, 0.0), (4397, 0.0), (4398, 0.0), (4399, 0.0), (4400, 0.0), (4401, 0.01260647287294196), (4402, 0.0033769327278315984), (4403, 0.004547132576067348), (4404, 0.0), (4405, 0.0), (4406, 0.008366615196218783), (4407, 0.0), (4408, 0.0), (4409, 0.0), (4410, 0.0), (4411, 0.003200706459580659), (4412, 0.004168118956203614), (4413, 0.0), (4414, 0.0), (4415, 0.0), (4416, 0.0), (4417, 0.0), (4418, 0.0), (4419, 0.003805544648444011), (4420, 0.0038017787431266566), (4421, 0.0), (4422, 0.003774480081577384), (4423, 0.0), (4424, 0.0), (4425, 0.0), (4426, 0.0), (4427, 0.0), (4428, 0.0), (4429, 0.003239120046899721), (4430, 0.0037368832978424307), (4431, 0.0), (4432, 0.03535339336761332), (4433, 0.0), (4434, 0.012684200612468418), (4435, 0.012591067354814467), (4436, 0.0), (4437, 0.0), (4438, 0.0), (4439, 0.0), (4440, 0.0), (4441, 0.0), (4442, 0.0), (4443, 0.004306958040330014), (4444, 0.004768441879524456), (4445, 0.0), (4446, 0.003827096831487528), (4447, 0.0), (4448, 0.01747498322985806), (4449, 0.0), (4450, 0.0), (4451, 0.0), (4452, 0.0), (4453, 0.009162479271946312), (4454, 0.0), (4455, 0.0), (4456, 0.0), (4457, 0.0), (4458, 0.0), (4459, 0.0), (4460, 0.0), (4461, 0.0), (4462, 0.0), (4463, 0.0), (4464, 0.0), (4465, 0.0), (4466, 0.021123271089795143), (4467, 0.008218674945763437), (4468, 0.03636432109613144), (4469, 0.0), (4470, 0.0038575280855134074), (4471, 0.0), (4472, 0.011160661130167502), (4473, 0.0034091171492160064), (4474, 0.0), (4475, 0.003468496466499612), (4476, 0.0), (4477, 0.004404647126956511), (4478, 0.0), (4479, 0.00343984159818715), (4480, 0.015912445701672356), (4481, 0.0), (4482, 0.0), (4483, 0.0), (4484, 0.004499905894013646), (4485, 0.013625716791312288), (4486, 0.0), (4487, 0.06837315597432872), (4488, 0.020197112119097624), (4489, 0.003909895001222316), (4490, 0.013902394459439584), (4491, 0.0), (4492, 0.0), (4493, 0.00890464741299053), (4494, 0.0041319585336350995), (4495, 0.012569009832168385), (4496, 0.0), (4497, 0.0), (4498, 0.0), (4499, 0.0), (4500, 0.0), (4501, 0.003863449734096029), (4502, 0.0034562766294262935), (4503, 0.0036202543898482768), (4504, 0.011856151046194464), (4505, 0.0), (4506, 0.0), (4507, 0.003935587168695487), (4508, 0.0), (4509, 0.0), (4510, 0.01259000115072086), (4511, 0.0036231946128153694), (4512, 0.0), (4513, 0.0), (4514, 0.0), (4515, 0.0), (4516, 0.004047989455562643), (4517, 0.003891625354603165), (4518, 0.0), (4519, 0.0), (4520, 0.0038032911796849734), (4521, 0.0044457537938483475), (4522, 0.004073651965341975), (4523, 0.02766280568555273), (4524, 0.0), (4525, 0.0), (4526, 0.0), (4527, 0.0), (4528, 0.003860248429150236), (4529, 0.05030733671119779), (4530, 0.0035417303549484113), (4531, 0.0), (4532, 0.0), (4533, 0.003743822118445031), (4534, 0.0), (4535, 0.01316844408877519), (4536, 0.003499181997425317), (4537, 0.0), (4538, 0.0), (4539, 0.0), (4540, 0.0), (4541, 0.0), (4542, 0.011570661906150786), (4543, 0.0), (4544, 0.0), (4545, 0.013132970731884073), (4546, 0.014898938647914677), (4547, 0.009024573015254856), (4548, 0.0), (4549, 0.0), (4550, 0.0), (4551, 0.003871819446636519), (4552, 0.0), (4553, 0.0), (4554, 0.01354759140803968), (4555, 0.005288075686454569), (4556, 0.012457001156082514), (4557, 0.0), (4558, 0.0), (4559, 0.0), (4560, 0.0), (4561, 0.0), (4562, 0.015016655251185205), (4563, 0.0037510540740517194), (4564, 0.0), (4565, 0.0), (4566, 0.003814503860719066), (4567, 0.0), (4568, 0.0), (4569, 0.0), (4570, 0.0), (4571, 0.005403013031327927), (4572, 0.0), (4573, 0.003686912737746323), (4574, 0.0), (4575, 0.0041404354661187985), (4576, 0.0), (4577, 0.0), (4578, 0.0), (4579, 0.0), (4580, 0.0), (4581, 0.008170692968862409), (4582, 0.0), (4583, 0.0), (4584, 0.014480699036631265), (4585, 0.0), (4586, 0.0), (4587, 0.0), (4588, 0.007806453054164244), (4589, 0.004180010980131832), (4590, 0.0032193490531496533), (4591, 0.04146461433052821), (4592, 0.0), (4593, 0.004008955809114705), (4594, 0.004402309706203513), (4595, 0.0), (4596, 0.0), (4597, 0.0), (4598, 0.009506029703379758), (4599, 0.0), (4600, 0.0), (4601, 0.0039028489049836575), (4602, 0.0), (4603, 0.0036342115386973914), (4604, 0.0), (4605, 0.0), (4606, 0.0), (4607, 0.0), (4608, 0.0), (4609, 0.0), (4610, 0.003088123095019762), (4611, 0.0), (4612, 0.0), (4613, 0.0), (4614, 0.0), (4615, 0.0), (4616, 0.0), (4617, 0.004737490472658527), (4618, 0.0), (4619, 0.004266859272093337), (4620, 0.0), (4621, 0.0), (4622, 0.02121031876431985), (4623, 0.0), (4624, 0.004027841577758328), (4625, 0.003866474711660676), (4626, 0.010131933950903917), (4627, 0.0), (4628, 0.011997599463291072), (4629, 0.0038593707883419993), (4630, 0.0), (4631, 0.0), (4632, 0.0042377529354572065), (4633, 0.0), (4634, 0.0), (4635, 0.0), (4636, 0.0032049170259111073), (4637, 0.004369632683573669), (4638, 0.011029425771134218), (4639, 0.0), (4640, 0.003666237132110953), (4641, 0.011681382011904327), (4642, 0.0), (4643, 0.003813845359959328), (4644, 0.0), (4645, 0.0), (4646, 0.0), (4647, 0.0), (4648, 0.0), (4649, 0.0), (4650, 0.01714697429306075), (4651, 0.0), (4652, 0.0), (4653, 0.0), (4654, 0.0), (4655, 0.0), (4656, 0.0), (4657, 0.003914212972110768), (4658, 0.0034853019150909476), (4659, 0.0), (4660, 0.014279684280036802), (4661, 0.0), (4662, 0.0), (4663, 0.0), (4664, 0.0), (4665, 0.0), (4666, 0.0), (4667, 0.032120817529315296), (4668, 0.003663464306582183), (4669, 0.016949227054644425), (4670, 0.011595835341078348), (4671, 0.0), (4672, 0.0), (4673, 0.003539452908112583), (4674, 0.002964596853279004), (4675, 0.0), (4676, 0.008704842219362076), (4677, 0.02130092229563954), (4678, 0.0), (4679, 0.0), (4680, 0.0), (4681, 0.0), (4682, 0.0), (4683, 0.008086730617482225), (4684, 0.0), (4685, 0.0), (4686, 0.0), (4687, 0.0), (4688, 0.02572042242168254), (4689, 0.0), (4690, 0.0), (4691, 0.0), (4692, 0.0), (4693, 0.0), (4694, 0.0), (4695, 0.0), (4696, 0.015459978528413815), (4697, 0.007817968972464943), (4698, 0.0), (4699, 0.003987899243043823), (4700, 0.0), (4701, 0.0041642011817049065), (4702, 0.0), (4703, 0.0), (4704, 0.0), (4705, 0.0), (4706, 0.00407266447368154), (4707, 0.0), (4708, 0.0), (4709, 0.0), (4710, 0.004619016697803204), (4711, 0.0), (4712, 0.01451123868330452), (4713, 0.004180094499511054), (4714, 0.009275714109738509), (4715, 0.0), (4716, 0.0), (4717, 0.0), (4718, 0.004006994161822133), (4719, 0.0), (4720, 0.0), (4721, 0.0), (4722, 0.0038813666176918528), (4723, 0.004407200660869017), (4724, 0.0), (4725, 0.010723426482204099), (4726, 0.0), (4727, 0.0), (4728, 0.0), (4729, 0.0), (4730, 0.02447962138641692), (4731, 0.0042275463284853565), (4732, 0.0), (4733, 0.0032199386176624714), (4734, 0.0038815715288376003), (4735, 0.0), (4736, 0.0), (4737, 0.0), (4738, 0.0), (4739, 0.006005041592453581), (4740, 0.037924104533374636), (4741, 0.0), (4742, 0.0), (4743, 0.0), (4744, 0.0), (4745, 0.0), (4746, 0.0), (4747, 0.0), (4748, 0.0), (4749, 0.0), (4750, 0.0), (4751, 0.0), (4752, 0.0026194257321272723), (4753, 0.0), (4754, 0.0), (4755, 0.0), (4756, 0.0), (4757, 0.012358116023757982), (4758, 0.0), (4759, 0.0)]\n"
          ]
        }
      ]
    },
    {
      "cell_type": "code",
      "source": [
        "len(Recommendation_Score)"
      ],
      "metadata": {
        "id": "GTn8kUPTw4AR",
        "outputId": "94bcdd96-60bb-469e-964b-2806baeaf8eb",
        "colab": {
          "base_uri": "https://localhost:8080/"
        }
      },
      "execution_count": null,
      "outputs": [
        {
          "output_type": "execute_result",
          "data": {
            "text/plain": [
              "4760"
            ]
          },
          "metadata": {},
          "execution_count": 30
        }
      ]
    },
    {
      "cell_type": "markdown",
      "source": [
        "**Get All Movie Sort Based on Recommendation Score wrt Favorite Movie**"
      ],
      "metadata": {
        "id": "WM-r1iZ_1hIm"
      }
    },
    {
      "cell_type": "code",
      "source": [
        "Sorted_Similar_Movies = sorted(Recommendation_Score, key=lambda x:x[1],reverse = True)\n",
        "print(Sorted_Similar_Movies)"
      ],
      "metadata": {
        "id": "3aKEQkstw4D5",
        "outputId": "cc1b51c1-9c8a-4f9e-ca42-4eb22fb135e4",
        "colab": {
          "base_uri": "https://localhost:8080/"
        }
      },
      "execution_count": null,
      "outputs": [
        {
          "output_type": "stream",
          "name": "stdout",
          "text": [
            "[(2355, 1.0000000000000004), (2804, 0.11056471656732529), (4339, 0.10824730938192956), (1137, 0.10817196796439864), (3389, 0.09967604016889013), (3270, 0.09964876468528815), (1354, 0.09621190678398717), (681, 0.09346006341344354), (498, 0.09211988449908068), (1566, 0.08998545785507289), (3714, 0.08754652812325178), (249, 0.08591342169994606), (1652, 0.08201736089341745), (2527, 0.0789245740667259), (3966, 0.07878204379594815), (3141, 0.07723867178026138), (2326, 0.07269504697582335), (625, 0.07211144663211204), (4054, 0.07202004588990613), (75, 0.07068085542754039), (2955, 0.06968447886412694), (4487, 0.06837315597432872), (4299, 0.0679020491595185), (3493, 0.06556668558809989), (1631, 0.065501946527855), (4070, 0.06487635854090433), (2136, 0.06439830913734958), (1, 0.06429685118958649), (1906, 0.06416643947622001), (1926, 0.06378846310550797), (546, 0.06324670107859287), (375, 0.06193495535706402), (1903, 0.061055205845352546), (4152, 0.06053164484305848), (1278, 0.06040229957958611), (61, 0.0603861173477549), (1772, 0.060166507365462044), (87, 0.060064910162579636), (1519, 0.05973484625552779), (2091, 0.05951184214917861), (537, 0.059147178130215104), (4388, 0.05907622986951447), (1265, 0.05861386905665847), (545, 0.0584824976263072), (803, 0.057977572848570316), (3559, 0.057262365810490365), (940, 0.057157059965474884), (303, 0.05654829684414853), (2018, 0.056416182550084654), (2233, 0.05608531466755937), (1567, 0.05607457093684548), (392, 0.054856619105740995), (2665, 0.05455306794714928), (2870, 0.05452558617758392), (2221, 0.054510240463925504), (2680, 0.05435384540410288), (619, 0.053969088674811004), (4067, 0.05359373279953659), (2022, 0.053592827631922475), (2822, 0.05268852754313866), (1120, 0.05261572370604256), (152, 0.05118455334294567), (2720, 0.05072090691800034), (769, 0.050592864105662175), (4529, 0.05030733671119779), (3133, 0.05027919773679073), (3598, 0.05016843643480602), (780, 0.050107892973382306), (1341, 0.049919655580034215), (3385, 0.04951563499425704), (1281, 0.04948267969415908), (958, 0.04915030091058383), (911, 0.048626851021688317), (981, 0.048560618901613554), (1071, 0.048369029798275454), (125, 0.047938295307727384), (3156, 0.04789373752258063), (3169, 0.047441821305635214), (982, 0.04733976714836788), (3219, 0.047288545819434764), (3856, 0.047120914488575416), (1129, 0.04699480764872089), (1361, 0.04682691715981484), (2331, 0.04681690771442186), (2277, 0.046381680620298876), (1433, 0.04627361054668528), (480, 0.04600210121348564), (1527, 0.04591012094968803), (1029, 0.045865840758686716), (3181, 0.045671714146062636), (3468, 0.045366153465269676), (4240, 0.04509303134497408), (2738, 0.04487653413963462), (1154, 0.04470924914781007), (3525, 0.04468884331176122), (1964, 0.04431225212095683), (2494, 0.04413603405968236), (1462, 0.04401306281748681), (238, 0.043937367213496864), (4063, 0.04386365318589121), (307, 0.043836715780425944), (1869, 0.043834415520781586), (1295, 0.043674676508828766), (2579, 0.04366414863513588), (241, 0.043347739902652005), (3886, 0.04297523108734121), (2605, 0.042849234276840883), (4384, 0.04281555486131014), (1839, 0.04272993673608767), (3298, 0.04262454706492613), (2314, 0.04256068132291309), (4100, 0.042531347450095236), (778, 0.0423979975277228), (4007, 0.042379707814238034), (1780, 0.04236552061713991), (854, 0.04199929845612508), (605, 0.04192266075005899), (1016, 0.04178211688704058), (3591, 0.041564261579411906), (4591, 0.04146461433052821), (484, 0.04117031639860487), (46, 0.04098649132314258), (2657, 0.04075913237566562), (599, 0.04047926299613934), (3402, 0.040217686638353144), (1261, 0.040000928529397066), (285, 0.03999954912915086), (3101, 0.039801199877635376), (3605, 0.03978425423422663), (108, 0.03962101637755374), (600, 0.03958401344612314), (497, 0.0392495164671116), (259, 0.0390102037752794), (2140, 0.0388659396631554), (686, 0.0382834114609704), (260, 0.03824485491510163), (2760, 0.03816996108520068), (1140, 0.037985028684956394), (4740, 0.037924104533374636), (261, 0.03785990082090088), (663, 0.037852770693217075), (844, 0.03779254300938024), (3071, 0.03774233588196882), (543, 0.03767705952228063), (1558, 0.03750668594039148), (1920, 0.03745193516130474), (1496, 0.03728444990649394), (349, 0.037227530117475864), (1773, 0.03714305860584315), (1187, 0.0369512359354061), (2058, 0.036876170577046646), (469, 0.03658359246647686), (1058, 0.03653213908780026), (3286, 0.03648773996923902), (3405, 0.03646939335576114), (2073, 0.03643496800921984), (4468, 0.03636432109613144), (1624, 0.036293306861093014), (1768, 0.03625550957273061), (2591, 0.03616406142970187), (2874, 0.03607607564159152), (678, 0.035962940313988605), (542, 0.03595711960972618), (2441, 0.03590765652972208), (2027, 0.03588061638479174), (2185, 0.03585072628717178), (1472, 0.03583303250629581), (3477, 0.03579739802711994), (2420, 0.03576263393040209), (1943, 0.03573459434480438), (91, 0.035611292886224784), (2612, 0.03555485125595718), (4432, 0.03535339336761332), (343, 0.03527707898247685), (1046, 0.035263782172445565), (2218, 0.035130343769529684), (2540, 0.03503781374649057), (2827, 0.035020908930856486), (362, 0.03500696792737895), (694, 0.03494294276119125), (1589, 0.03486151581686969), (1002, 0.034773551270450606), (3803, 0.034767874432714466), (1575, 0.034759947541830816), (2757, 0.034750301138720435), (3467, 0.034620365319616854), (1169, 0.03457264325882848), (2366, 0.03454004041777228), (829, 0.034393613224848664), (2495, 0.0342155171554508), (2316, 0.03420561564145852), (1572, 0.034203781834565544), (1714, 0.03412186349601503), (31, 0.034092675884566236), (364, 0.03404731997767392), (2222, 0.03403113598990731), (2242, 0.033974538291848176), (1901, 0.03389187036479043), (4378, 0.033868193186331136), (577, 0.033819431441654044), (748, 0.033780027322355646), (2075, 0.03377110330197516), (1634, 0.033718786606112), (3225, 0.03365962630731691), (1965, 0.033460791794458454), (2416, 0.033424657209126234), (3705, 0.033411068292790336), (3906, 0.033408383939113676), (1613, 0.033388030911205735), (2007, 0.03330108201403511), (3443, 0.033297029834571), (4248, 0.03329689263390489), (3871, 0.03325180464664404), (855, 0.03319284163804222), (2031, 0.03312950809405256), (1349, 0.033071132039890684), (3321, 0.03306966093038174), (1961, 0.03304109013294427), (2268, 0.032840473036426614), (3937, 0.03278596842597098), (1933, 0.03276856627569015), (2534, 0.032743851366602864), (3073, 0.03273330635204873), (1528, 0.03271185901439702), (3375, 0.03270219811746956), (1455, 0.032537108450048924), (2240, 0.03249907468219437), (1379, 0.032346705548448595), (2354, 0.032338832873316306), (1337, 0.03227317900032265), (1159, 0.03225821123886504), (3079, 0.03223652280203832), (1755, 0.03213052905877715), (4667, 0.032120817529315296), (467, 0.03209975367539985), (3360, 0.03202440006719211), (339, 0.031974878131792984), (2178, 0.03187111071731903), (3634, 0.031665046295440015), (2713, 0.031564440127427915), (1082, 0.03141279209125034), (3530, 0.0314011130474265), (1454, 0.03132387763949524), (264, 0.03132219600247775), (649, 0.031220880697193854), (1793, 0.031217619246492294), (1592, 0.03116871262898529), (3083, 0.03115256796928407), (1307, 0.031079765037964325), (84, 0.031026917449024714), (2618, 0.0307472884364363), (1285, 0.030697911680849434), (3063, 0.030671447353065664), (1743, 0.030669363853999623), (3428, 0.030636717093437082), (1723, 0.030616661384125474), (389, 0.030615568880360558), (505, 0.030554535563337745), (1347, 0.030534628795360005), (1948, 0.03037477840216133), (4, 0.03035741418272463), (30, 0.03032267430600174), (1982, 0.03031292392482168), (316, 0.030279099383664344), (1074, 0.030268879989738033), (916, 0.030124795363744992), (1533, 0.03011292642077601), (1025, 0.029925435613757226), (3450, 0.029792236814128667), (2896, 0.02969959863195879), (1411, 0.029657168706437847), (187, 0.029638812427782636), (37, 0.029619203775842855), (2177, 0.02958333139197824), (263, 0.02956369033141741), (1981, 0.029508255448872985), (2711, 0.029467101289275825), (2594, 0.029397155553976196), (2118, 0.029308882622828682), (2585, 0.029166244738249476), (1138, 0.029154909244441307), (2917, 0.02912172023513577), (350, 0.028971750457673147), (3795, 0.028947119504420204), (824, 0.028910890234803633), (1663, 0.028836182158831134), (999, 0.02880528462089662), (919, 0.028758088494979243), (2205, 0.028730861707295746), (3123, 0.028638293816489607), (2294, 0.02860444569146881), (2624, 0.02846436887511306), (534, 0.028377661491391072), (2497, 0.028361674226551285), (279, 0.028291386808032455), (562, 0.028261808218112), (2500, 0.028234371816872487), (68, 0.028141133593155843), (1309, 0.028088894900429217), (873, 0.028088375446931168), (1925, 0.027908220449228575), (1582, 0.027867742752583805), (4110, 0.02785335748151442), (178, 0.02769254866504954), (4523, 0.02766280568555273), (2269, 0.027612078435474998), (900, 0.02760982778935438), (4087, 0.027573688481595693), (1845, 0.02753494886737482), (204, 0.027489908519030413), (984, 0.027485671581371076), (1317, 0.027479792835051236), (3147, 0.02742513287973744), (376, 0.027365533312221885), (1279, 0.02736449622180332), (1895, 0.027356246979406994), (2675, 0.027337456791149378), (1367, 0.027269743497424448), (1289, 0.02720490496514702), (3797, 0.027174165655018307), (3336, 0.027151294894870615), (401, 0.027115841837996205), (4189, 0.027075572227001205), (438, 0.02699026462956999), (1320, 0.02694520218952919), (1716, 0.026916453011596952), (3045, 0.02687893435061735), (3318, 0.0267893404400099), (2845, 0.026685420091601353), (3692, 0.02656175191842427), (3480, 0.026515024350360072), (1484, 0.02649891247252909), (3637, 0.026471125879669006), (33, 0.026370490828768963), (4046, 0.026318543784255567), (282, 0.026158841901672024), (3619, 0.026135011709937903), (1616, 0.02596269918517695), (472, 0.025954004865687108), (1701, 0.0258704898986304), (1460, 0.025820119354782848), (1034, 0.025776343157609037), (952, 0.0257748982128898), (836, 0.0257523561666923), (4688, 0.02572042242168254), (606, 0.025709960475674632), (96, 0.02568229400013068), (1321, 0.025574898790295744), (4304, 0.025499605028016577), (1113, 0.025416168087768844), (385, 0.025142995827187167), (2671, 0.025027079569510058), (1217, 0.024973692662756466), (4266, 0.02495923130654871), (2181, 0.024952640498465423), (2588, 0.024910473483059685), (886, 0.024892713491104987), (509, 0.024823744660771137), (594, 0.024748985822306054), (3888, 0.024746667988916525), (18, 0.02473637288356536), (3502, 0.02472379604567658), (1453, 0.024705148848495208), (3533, 0.024667558777301143), (669, 0.024639877609925316), (3790, 0.024610996967283742), (3283, 0.024574510686286702), (1691, 0.024565555574477083), (1083, 0.02452178642922876), (19, 0.024503724825785545), (4730, 0.02447962138641692), (1653, 0.024463398025061645), (3556, 0.024395464594057312), (750, 0.024343891701794372), (1314, 0.024328117018736835), (3539, 0.0242269566558577), (555, 0.024154193114912046), (1381, 0.024134638575357664), (875, 0.024129900755540487), (3127, 0.024119839617720115), (3744, 0.02409643487153492), (3179, 0.024043850907034477), (232, 0.024037563003949332), (1762, 0.024036214824175905), (3022, 0.024010320033221753), (1470, 0.023993399392057538), (3900, 0.023989989762481012), (4319, 0.023928833753356755), (4182, 0.023860406804325024), (1290, 0.023791736979073844), (3734, 0.02375125367267597), (3869, 0.02373280428494476), (2927, 0.023728888404622284), (1199, 0.023675172310425704), (69, 0.02362359758931764), (3421, 0.023584304535976923), (4285, 0.023566234722001825), (808, 0.023556559735192027), (256, 0.02355004299284664), (2982, 0.023527378432832403), (115, 0.023518162741750216), (4154, 0.023491316892605668), (757, 0.023489700664814255), (231, 0.023438932280778688), (1864, 0.02342431017641593), (1784, 0.023413934080745085), (380, 0.02337140229370203), (4346, 0.023370732437372258), (931, 0.02329545708823317), (4217, 0.023209955078609373), (1799, 0.023192656793063503), (3069, 0.02315339675875695), (790, 0.023147658857354477), (3018, 0.02313258078049389), (1608, 0.023109017473657963), (1494, 0.023099512334923734), (3580, 0.02309657102568604), (3897, 0.02306791730748533), (2447, 0.023020913065553372), (2899, 0.022981648053705183), (1091, 0.02297460764242653), (1011, 0.022913263144012357), (921, 0.022904360428776305), (3191, 0.022879821107867997), (3469, 0.022833924828503584), (591, 0.022806084387044206), (1280, 0.0227769435519987), (802, 0.022710447458973354), (3180, 0.022704797500783736), (2815, 0.022696308974179076), (1976, 0.022664089172442257), (2493, 0.022661207048378196), (1130, 0.022644447795139216), (1554, 0.022644118848966967), (1178, 0.022619375842471565), (3597, 0.02261829196914013), (181, 0.022615649689704982), (105, 0.022594260303686938), (2688, 0.022584513012617272), (1880, 0.022580555265078375), (4022, 0.022577093207608524), (3787, 0.02253948560846282), (322, 0.022434436497489232), (15, 0.022399592565858665), (2039, 0.02235008666228717), (3834, 0.022347586433940973), (3158, 0.0222979656947513), (3889, 0.022282561624906848), (310, 0.022260062493599003), (3615, 0.022234911773349204), (252, 0.022229154672891785), (1097, 0.02222804546964524), (4018, 0.02220388885470418), (3161, 0.022187859112381022), (977, 0.022176576156217837), (891, 0.02211358226121343), (4076, 0.0220659821752424), (3798, 0.022063988186096915), (2724, 0.022019588428116178), (2599, 0.022018598250722922), (913, 0.021932676150194043), (3907, 0.021932626056140644), (1092, 0.021883218735342914), (405, 0.02186755392425658), (1904, 0.021864630178750403), (1057, 0.021843695954628137), (3134, 0.021822074745151278), (2689, 0.021811716133881068), (3001, 0.02179870381978638), (603, 0.021760978639551856), (2330, 0.02172231827547246), (354, 0.021685985687575293), (3747, 0.021671963171147994), (2283, 0.02165822473515363), (3908, 0.021645520070673066), (220, 0.02163966920288967), (1108, 0.021621256085398187), (918, 0.021598930214210776), (229, 0.021585359417482738), (433, 0.021584085830524097), (1911, 0.0215744691877778), (3246, 0.02155896147733815), (6, 0.0215566590558908), (2337, 0.021554325179947566), (992, 0.021550941538548758), (399, 0.021542457969896834), (1056, 0.021471320323136228), (1502, 0.021425546464420117), (3840, 0.021418220346822864), (95, 0.02141619572751496), (733, 0.02139120283717822), (2278, 0.02138125431827674), (378, 0.021351325730141923), (2944, 0.021333346126853142), (4677, 0.02130092229563954), (1469, 0.02128223419079852), (3131, 0.021247686401554715), (2360, 0.021244102620553724), (154, 0.021224538406804116), (4091, 0.02121439786447879), (4622, 0.02121031876431985), (1146, 0.021209834734453085), (2501, 0.021159726845247716), (3513, 0.02115766741506845), (1747, 0.021128626611831104), (4466, 0.021123271089795143), (2421, 0.021108592348903624), (2548, 0.021101518362288272), (902, 0.02109098693872859), (4344, 0.021089994363426658), (93, 0.021079036759073327), (4391, 0.02104260448911361), (2708, 0.0210181397367435), (1536, 0.02099846809817113), (3716, 0.020927703197559534), (1236, 0.020924109672686056), (90, 0.02092222709957785), (347, 0.02089379933733545), (323, 0.020884891402351287), (607, 0.020855904427496026), (189, 0.02084389850464146), (2471, 0.02080085592853755), (122, 0.02078367953912795), (1195, 0.020771209034719223), (2989, 0.020761661412850116), (1151, 0.020698561940465626), (3452, 0.020691372123143658), (1250, 0.020683140709275304), (460, 0.020594191569918152), (3709, 0.02058673866828739), (3982, 0.020565839157145376), (2217, 0.02056317923249991), (2850, 0.020551276701070154), (1013, 0.020546936620819377), (4139, 0.020546401371976483), (4041, 0.020526252172387793), (2280, 0.0205204292788514), (171, 0.020465698280545522), (4264, 0.020458879249970453), (3305, 0.020446617351185983), (692, 0.020439443744650055), (39, 0.020409860507970848), (65, 0.020408777523523314), (3279, 0.02040211404080749), (1569, 0.020397654809830728), (3100, 0.020345084831560042), (2571, 0.020339152072096148), (2432, 0.02031200080945407), (3773, 0.020246203757315454), (1524, 0.020225007468335224), (4488, 0.020197112119097624), (567, 0.02014274204719721), (1230, 0.02012116321271358), (3394, 0.020068857623100587), (258, 0.020051059987066897), (1358, 0.020040768567179804), (28, 0.019999063387987473), (135, 0.01997615991170012), (439, 0.01992503943907243), (2450, 0.019924781135095555), (1966, 0.019853531103540736), (2666, 0.019824554840224627), (3783, 0.019811259136611914), (277, 0.019781739520191872), (2062, 0.01971799055170985), (3368, 0.019711842905249445), (2442, 0.019697815493691605), (45, 0.019677903967522982), (2232, 0.019642433183912685), (3965, 0.019623880853208413), (1991, 0.019512723343787553), (3528, 0.019504889841519442), (1662, 0.019500304468933062), (367, 0.019480326082074263), (397, 0.019396805594960487), (3718, 0.01937486894026452), (1214, 0.01937354000787643), (94, 0.019354367355240147), (4165, 0.019214120583756284), (3923, 0.019148181501050153), (3193, 0.01914477691654651), (745, 0.019118213492459825), (2770, 0.019041448681129926), (997, 0.018971211246585906), (3247, 0.018955529938403826), (67, 0.018936980873095675), (565, 0.018878369748577185), (4365, 0.01885349402981832), (191, 0.01884455569339153), (3021, 0.01883580351061053), (379, 0.01875448288891545), (3638, 0.018750141539391335), (2838, 0.0187462024613132), (3693, 0.01874090193586807), (80, 0.018726769179896602), (2434, 0.01870388845643585), (257, 0.018658938017456515), (390, 0.0186514255521932), (2439, 0.018651155565332506), (932, 0.01863721867088388), (2539, 0.018600827581810087), (1164, 0.018595511856937842), (3577, 0.018549585421112715), (3154, 0.018541983547481086), (381, 0.018507979266008057), (333, 0.0185053070463751), (3772, 0.01849957581773394), (1442, 0.018496643131439856), (64, 0.01833845730918381), (2320, 0.018300045642425652), (1053, 0.018216040856213374), (762, 0.01817370995928229), (1398, 0.01811057166612852), (1429, 0.018070206158311293), (3160, 0.018062889696966386), (3957, 0.017919072519698494), (76, 0.017874078020654743), (3355, 0.01785780610917725), (4203, 0.017822852484994406), (4015, 0.01782254882467588), (78, 0.01775516093911712), (3308, 0.0177397187711053), (1530, 0.017671542904569862), (2789, 0.0176020616698847), (1968, 0.01753591608631637), (283, 0.017529945828240242), (4448, 0.01747498322985806), (3475, 0.01743171631227786), (2064, 0.0173871114076729), (3044, 0.017351895130992407), (431, 0.017321693983473597), (4650, 0.01714697429306075), (729, 0.017062396119583635), (877, 0.017031631260298708), (2854, 0.016996874422720496), (440, 0.016960202362706175), (206, 0.016959637887040267), (4669, 0.016949227054644425), (2176, 0.01694922270703314), (2522, 0.01693480183494803), (673, 0.016775420896641066), (2443, 0.016658118019969692), (1918, 0.016570180901683582), (3323, 0.01656983799286915), (2348, 0.016539720484247292), (3777, 0.01650291412887029), (2230, 0.016488766170258837), (3780, 0.016480268876991597), (481, 0.016462536610848025), (830, 0.01639049312626616), (3984, 0.016390310805642717), (1518, 0.016366544633970356), (1643, 0.016364747891712796), (3386, 0.016336736307815743), (2684, 0.016329101414197997), (2821, 0.016311840846453988), (2937, 0.016284764027382752), (3624, 0.016249749421680348), (1188, 0.016216553498429355), (3040, 0.01619931222991654), (493, 0.016166711256580948), (2104, 0.01614138019521177), (1821, 0.016038308078477847), (3314, 0.015939676870456745), (2904, 0.015924338931572968), (3051, 0.015918458694039742), (4480, 0.015912445701672356), (2894, 0.01588623844247688), (3297, 0.01588499053618728), (1946, 0.01584480445495634), (2313, 0.015757796997376172), (5, 0.015699280043407534), (850, 0.015652360583923067), (1706, 0.015520973406757017), (3439, 0.015501081072812749), (4696, 0.015459978528413815), (3142, 0.015437291811999463), (660, 0.015424106726407365), (923, 0.015404609384150277), (1467, 0.015351673628212117), (697, 0.01533938238692143), (696, 0.015319675259170284), (2103, 0.015314051083476126), (2831, 0.015303667662310191), (1044, 0.015294060381985043), (198, 0.015287294248552092), (2038, 0.015110028919635107), (553, 0.015051685656127845), (3014, 0.015050283320498991), (3292, 0.01504096274164843), (3811, 0.015033381916912458), (4562, 0.015016655251185205), (798, 0.014982853057305037), (4137, 0.014956385120829812), (4546, 0.014898938647914677), (2484, 0.014879835996147804), (1027, 0.014852444182143154), (1248, 0.014838474209235756), (522, 0.014821649210099005), (1408, 0.014814196170162745), (4374, 0.014772832983686597), (988, 0.014763462282029249), (3433, 0.014729799792014203), (4176, 0.014688885060432973), (578, 0.014667627377115858), (4356, 0.014636660237853143), (676, 0.014635863500018852), (1052, 0.014586946441451374), (3025, 0.014585483053879827), (1132, 0.014569765494390262), (2461, 0.014554760910669443), (1590, 0.014547739205019625), (2286, 0.014534522983909302), (215, 0.014526097135473127), (3975, 0.01452494306730579), (4712, 0.01451123868330452), (4584, 0.014480699036631265), (388, 0.01446536804187214), (3352, 0.014464610543161577), (3120, 0.014442508963694279), (1177, 0.0144408037510952), (428, 0.014398534860574092), (1255, 0.014388458628297393), (638, 0.014360042464098676), (3742, 0.014347072961229224), (3801, 0.014324999517530114), (2956, 0.01431987902055485), (2892, 0.014313288505345748), (804, 0.014294404114091809), (4660, 0.014279684280036802), (4215, 0.014276010472083087), (1375, 0.014259031790669029), (659, 0.0142411505623804), (3740, 0.01420126454867212), (2544, 0.014193545495083344), (2502, 0.014171572621806159), (760, 0.014161422011412293), (3563, 0.014161019591668437), (1340, 0.014159956015275286), (2786, 0.014145074464691114), (608, 0.014132199304791749), (1352, 0.01398671757451854), (563, 0.013949576523595644), (2009, 0.013910820777936034), (1387, 0.013902740969545871), (4490, 0.013902394459439584), (1805, 0.013874903651743676), (4194, 0.013841223261334714), (777, 0.013827933265024286), (3304, 0.01381780437192061), (703, 0.013815915110694849), (1080, 0.013753043413141985), (3655, 0.013750421122134688), (2611, 0.01373163972061555), (3884, 0.0137260757792559), (936, 0.013722810787342336), (1719, 0.013719605525977674), (2771, 0.013690868270275106), (3547, 0.013673851847459057), (2846, 0.013659009194403176), (1394, 0.013641079027331898), (4485, 0.013625716791312288), (2575, 0.013617199434930805), (1143, 0.013586463100329661), (1887, 0.01358381313016586), (357, 0.013576175018635363), (2403, 0.01355505922544851), (2412, 0.013548974451569962), (4554, 0.01354759140803968), (614, 0.01354698005371335), (4074, 0.013530015036274273), (2505, 0.01352611497724839), (3414, 0.013497257910793202), (2079, 0.013497131620174158), (3221, 0.0134807131783272), (3281, 0.013449688922363675), (2458, 0.013441091898778639), (2969, 0.013420144246976306), (3056, 0.013414287068518107), (3403, 0.013380071903208605), (3651, 0.01336683385048058), (653, 0.013356200950749117), (2372, 0.013305494739411124), (3377, 0.013224992786216382), (3096, 0.013194508801484404), (687, 0.013173781655811668), (4535, 0.01316844408877519), (1614, 0.013162511579018593), (1437, 0.013149567519116185), (3575, 0.013138253388123293), (4545, 0.013132970731884073), (861, 0.01310723961559143), (1862, 0.01308622526424802), (3, 0.013041474969240822), (3200, 0.013014662521173148), (1704, 0.012980531439376553), (10, 0.0129800300376362), (707, 0.012975835712500263), (2709, 0.012959183643963756), (1601, 0.012955135054195672), (2754, 0.012954528397343056), (2621, 0.012935532088218123), (3408, 0.012926100674227848), (961, 0.012920772748563188), (1835, 0.012909145348626949), (3026, 0.012890592835044878), (2132, 0.012877668537574162), (2662, 0.012864476295229464), (4108, 0.012858371284366534), (2012, 0.012850762510818571), (3873, 0.012839588935544988), (4003, 0.012838215875947018), (2044, 0.01278558458524209), (2817, 0.012767681802382344), (25, 0.012765157384443825), (3534, 0.012758309134335954), (3520, 0.012740103917898584), (3699, 0.012722103053735773), (4008, 0.01269938471194246), (1959, 0.012688718605430813), (4434, 0.012684200612468418), (2949, 0.012677048228568268), (987, 0.012610394462953523), (4401, 0.01260647287294196), (3695, 0.012591676412158904), (4435, 0.012591067354814467), (4510, 0.01259000115072086), (3730, 0.012579592758981486), (4495, 0.012569009832168385), (3919, 0.012562079406200294), (2811, 0.012548841839973422), (4377, 0.012527115895691393), (1401, 0.012517708848793293), (1103, 0.01251148271134102), (74, 0.0124917995251198), (4556, 0.012457001156082514), (872, 0.012433959512865252), (1185, 0.01239229330574183), (2190, 0.01239169655802897), (3084, 0.012376506239852309), (4757, 0.012358116023757982), (4014, 0.0123562424352727), (1622, 0.01235390328140408), (552, 0.012325638553465636), (3623, 0.012308660985936554), (609, 0.012297729329973986), (483, 0.012296530366143877), (1390, 0.012288567064216546), (2648, 0.012273762209152292), (817, 0.012257522097013206), (3259, 0.012250559490449064), (946, 0.01223632801455272), (3233, 0.01223056985772082), (2147, 0.0122178529278694), (1461, 0.01221177710754781), (3265, 0.012189850543857692), (430, 0.012183865746143926), (3664, 0.01217751383813121), (1517, 0.012154679907810528), (2813, 0.012144491426892468), (3604, 0.012143818528060527), (299, 0.012137169504911215), (423, 0.012128751665312909), (3516, 0.012120247124619957), (1541, 0.012106837934567516), (2549, 0.012082789523597887), (1993, 0.012076345578615463), (1413, 0.012075377790737848), (1645, 0.012070652769351688), (2208, 0.012063080657146728), (4334, 0.01205472821741864), (205, 0.012049981235655254), (903, 0.012049154806193375), (4124, 0.012037386657279233), (1359, 0.012021737317991867), (3242, 0.01201845752716198), (228, 0.012007781066898317), (1234, 0.012007644574888439), (3416, 0.011999682409704527), (4628, 0.011997599463291072), (4081, 0.01197135242048479), (3514, 0.011969104223323637), (2650, 0.011954980701198012), (284, 0.011951569431121356), (503, 0.011950965020489378), (3422, 0.011940949124823196), (2019, 0.011902381110257813), (834, 0.01187695830655768), (1599, 0.011865334985326027), (2153, 0.011863021888968865), (1867, 0.011860033395723104), (1271, 0.011857464174262387), (4504, 0.011856151046194464), (2511, 0.011854694822982402), (684, 0.01184901824986937), (244, 0.011830920865865303), (4148, 0.011830036907182978), (1912, 0.011827467874342384), (2826, 0.01182184392220225), (188, 0.011817384748966663), (2215, 0.011814072499452113), (3351, 0.011782348776330304), (1345, 0.01177101975264795), (2056, 0.01175813303557837), (4210, 0.011709272516916825), (2637, 0.011698953669551718), (133, 0.011691296983823806), (3542, 0.011689307078815216), (1047, 0.011687702052941527), (4641, 0.011681382011904327), (3441, 0.011671701978949423), (2061, 0.011649621058866844), (1936, 0.011638051443077316), (2385, 0.011635957832296637), (3641, 0.01162319255438525), (2271, 0.01160656832285594), (2297, 0.01160281349643481), (4060, 0.011595928745692482), (4670, 0.011595835341078348), (4542, 0.011570661906150786), (1196, 0.011556149325511892), (79, 0.011548203685598155), (993, 0.011538849924176925), (833, 0.011523432693474864), (1823, 0.011516177908521268), (2120, 0.011512553046364326), (633, 0.011505404471733828), (2300, 0.011485890379140941), (487, 0.011480562917666587), (2465, 0.011470889146199578), (2133, 0.011467774953461183), (3177, 0.011462998301899834), (1081, 0.011456263999844639), (2496, 0.011455485402082237), (1298, 0.011432553960160234), (1245, 0.011431802812638848), (835, 0.011431559267898182), (3066, 0.011384768397353168), (1204, 0.011370692161162687), (758, 0.011370025510363625), (2995, 0.011362110746176832), (2631, 0.011347686223977041), (2871, 0.011342078600181287), (1738, 0.0113157636379124), (53, 0.011294378893919375), (4360, 0.011292603083374536), (1376, 0.011285317130082224), (3843, 0.011279091835590378), (170, 0.011260898441263566), (1833, 0.011244102880693229), (311, 0.01123409132151017), (1979, 0.011233415408552903), (2057, 0.01122177691854601), (4159, 0.01121725686711824), (1331, 0.011207270928841138), (1767, 0.011188342512143467), (3121, 0.011173633154538664), (4472, 0.011160661130167502), (49, 0.011158156380284567), (1117, 0.011151364930284789), (2036, 0.011137430787077011), (382, 0.011135831799717598), (3627, 0.01112468138809658), (1521, 0.011088313224042422), (2681, 0.01108509904859587), (731, 0.011070523374354171), (2791, 0.011053694143010748), (1817, 0.011040986352578346), (1668, 0.011038736271395662), (4638, 0.011029425771134218), (1606, 0.011016515337767844), (963, 0.01100195740563016), (500, 0.010974974711535223), (939, 0.010955452703660822), (409, 0.01093938155617737), (1929, 0.010921099112361297), (3232, 0.01090766761127258), (885, 0.010906432575742175), (4171, 0.010883324630292499), (449, 0.010870283779117347), (624, 0.010851170035864527), (1292, 0.010847327971136257), (1797, 0.010831239766677435), (240, 0.010828845289334239), (710, 0.010827934545665673), (3589, 0.010816442628177741), (4144, 0.010811079222557161), (2265, 0.010797217370851736), (2183, 0.010775762070399361), (2311, 0.01077555304960105), (129, 0.010740676657192421), (1477, 0.010735468212892892), (4725, 0.010723426482204099), (2958, 0.01071877810289233), (1974, 0.010688285028205404), (1458, 0.010687523515239111), (291, 0.01064486047516652), (1054, 0.010644705470285181), (2584, 0.010622092347850087), (1838, 0.010617478555603046), (3941, 0.01061204162755816), (1197, 0.010600833310505282), (1647, 0.010576192111876192), (2129, 0.010575002793061263), (1157, 0.0105727755068869), (3495, 0.010566582221399067), (863, 0.010563018176741167), (3238, 0.010530939726727466), (810, 0.01052595475709114), (4164, 0.010480040670537724), (1492, 0.010479212708900811), (1008, 0.01045595589770089), (302, 0.010453518727982721), (2382, 0.010430302436779533), (2541, 0.010423945582570563), (36, 0.010423722839825856), (3656, 0.010419064719463604), (2521, 0.01040052190595186), (4114, 0.010390094334408517), (3674, 0.010370428910794118), (2152, 0.010330108741378886), (1938, 0.010271384991799803), (2715, 0.010244023055762677), (979, 0.010229021210814489), (3331, 0.010222803025999025), (2227, 0.01022125118770118), (4626, 0.010131933950903917), (1850, 0.010128086002820978), (334, 0.010091625185211048), (2323, 0.010073401935921725), (2318, 0.010027071075761451), (2460, 0.009970973705144399), (4302, 0.009954966524678859), (3751, 0.009951038257763396), (4385, 0.009913105719572931), (186, 0.0098678307176093), (2837, 0.009767215631283074), (1221, 0.009736549333657422), (1963, 0.009717584110861998), (1781, 0.009686414582314848), (706, 0.009647723000733214), (3362, 0.009596916530232306), (453, 0.009593144067636632), (837, 0.009568132316637858), (1677, 0.009543157233079162), (2756, 0.00951057570434946), (4598, 0.009506029703379758), (751, 0.009461614652494977), (3089, 0.009434599401551206), (506, 0.009415087183017198), (237, 0.00934139992740024), (2357, 0.009329422807297738), (2479, 0.009318145824304054), (368, 0.009309176375804199), (3453, 0.009299813660890294), (2774, 0.009277594350686475), (4714, 0.009275714109738509), (1014, 0.009252640068864022), (1069, 0.009243154342478846), (491, 0.009195639269739755), (2180, 0.009185300997762692), (4453, 0.009162479271946312), (4238, 0.00903644150746174), (3532, 0.009027499592738688), (4547, 0.009024573015254856), (3059, 0.008986081599060527), (3080, 0.008960464102242103), (1153, 0.008959190967853213), (128, 0.00895722255281469), (666, 0.008930327995704932), (3972, 0.008929734016781935), (4276, 0.008911047674552409), (4493, 0.00890464741299053), (3688, 0.008903035903675298), (4181, 0.008889037623981296), (1486, 0.008874227366048312), (7, 0.00886289167654926), (2021, 0.008847398598291631), (1810, 0.008847303795556493), (1003, 0.008814517274260336), (4250, 0.00881308007629528), (1836, 0.008786291392121628), (4077, 0.00877811052571585), (102, 0.008774386620438144), (3802, 0.00877094469884368), (747, 0.008752601500420553), (3132, 0.008743029962266535), (2562, 0.008726097181828575), (2860, 0.00872304726801458), (3977, 0.008706084469790208), (4676, 0.008704842219362076), (2843, 0.008683669379756922), (4128, 0.008643208017440895), (3997, 0.008639679514087013), (2451, 0.008639457587864894), (3625, 0.008638066096934946), (4312, 0.008627560894915844), (2086, 0.008604038847804465), (2898, 0.008570473996137406), (1791, 0.0085474977799265), (3515, 0.00854234720125192), (3724, 0.008538856587176498), (2790, 0.0085319280973865), (3048, 0.008527914979707236), (2413, 0.008514119543869858), (1205, 0.008500419620701843), (3850, 0.008468893726418776), (151, 0.00845827728305358), (517, 0.00845573306453542), (3463, 0.00845444447801708), (1031, 0.008450481632705946), (2090, 0.008443797178027223), (656, 0.008402067099752903), (1150, 0.008382804678814632), (3968, 0.008373355730983667), (413, 0.008367614501668051), (4406, 0.008366615196218783), (4168, 0.008359824314759132), (1505, 0.008338849465206483), (2729, 0.008331474733160215), (2691, 0.008322312155620465), (3576, 0.008293378427755162), (1101, 0.008289205994347367), (1908, 0.008286751488264214), (3332, 0.008284696711260002), (3690, 0.008274051868132265), (4364, 0.008267052092377936), (1396, 0.008255238426504002), (2125, 0.008238605868320146), (4467, 0.008218674945763437), (27, 0.00820531399692895), (1233, 0.00820508894677148), (4383, 0.008203250089019409), (674, 0.008176956078239067), (4581, 0.008170692968862409), (1269, 0.008135521039892095), (3427, 0.008121897176223164), (516, 0.008116080366723887), (3743, 0.008098436787634753), (1111, 0.00809315994175834), (4683, 0.008086730617482225), (3955, 0.0080848936481906), (3594, 0.008084404348470613), (2950, 0.00808079562715057), (1256, 0.0080804565736497), (1262, 0.00807442746104447), (1783, 0.008071426744961162), (572, 0.008052862605934468), (427, 0.008042237997313326), (150, 0.008020438550428494), (2660, 0.008016058605410575), (1022, 0.008014805273378642), (1515, 0.008013500493412283), (1919, 0.00799042850089915), (3685, 0.007975120818432942), (22, 0.00797249751605367), (613, 0.007970776389759467), (3720, 0.007962640806519263), (2824, 0.007960505133635627), (1984, 0.00793662646488248), (554, 0.007930782181086019), (1696, 0.007929651459504763), (3998, 0.007916235236994116), (3994, 0.007902697381126159), (3105, 0.007902233699575642), (3047, 0.007900776026254294), (3367, 0.007899086488296963), (1315, 0.007884121760677194), (1750, 0.007883018534462067), (2828, 0.007865007959283373), (1657, 0.007844002428257198), (3595, 0.007822690559587564), (4697, 0.007817968972464943), (4588, 0.007806453054164244), (702, 0.007790863944786016), (2578, 0.007743078268460026), (2644, 0.0077375512179493145), (2614, 0.007729524600821751), (812, 0.007710396027596059), (1756, 0.007684962500511098), (3294, 0.007671079780739818), (2809, 0.007643816127080396), (492, 0.0076345889380604855), (1066, 0.007626189671463911), (4288, 0.007618798138545214), (3114, 0.007605288614633657), (1664, 0.00758945120103068), (73, 0.007565641848624144), (763, 0.00756006611283879), (1649, 0.007558112414998973), (776, 0.0075286695341295826), (3361, 0.007520572758727028), (1468, 0.0075060657595111945), (1579, 0.007501514842995814), (511, 0.007452338230490133), (1171, 0.0074514972213537605), (1055, 0.007447059969165071), (3201, 0.00744105103945217), (4153, 0.007425047080432841), (1584, 0.007415032734624847), (160, 0.007408153027296974), (1651, 0.0073402362171524), (2682, 0.0073370888527937795), (3231, 0.007299027566434759), (3068, 0.007290275296646866), (3484, 0.007270300286546677), (1095, 0.007259748960872586), (1546, 0.007249624461821853), (1249, 0.007230327771263222), (2749, 0.007206655790253251), (1134, 0.007200742314985744), (912, 0.007186448361969218), (601, 0.007156215988487614), (1745, 0.007148775632019737), (756, 0.0071485452044442194), (602, 0.00701233555328737), (1212, 0.006946716877949821), (314, 0.006913632597038212), (234, 0.00690869920179613), (1802, 0.006903817191867551), (2114, 0.006899817581537402), (1535, 0.00684495321690906), (2622, 0.006842603542791072), (3932, 0.0068214749295164925), (2573, 0.006769782149459667), (1296, 0.00674986632544031), (394, 0.006743028823695494), (2078, 0.0065406239603325676), (369, 0.006296340280269954), (4373, 0.006208970916824991), (77, 0.006113499496904052), (561, 0.006072422314677954), (4261, 0.006007238069981258), (4739, 0.006005041592453581), (3667, 0.005623695637605882), (3512, 0.005443093844090209), (3552, 0.005405756516810745), (4571, 0.005403013031327927), (2678, 0.00539801443859906), (3178, 0.005380299753899775), (3325, 0.0052923284327085224), (4555, 0.005288075686454569), (3276, 0.005192085252462256), (3925, 0.005106613685834109), (2529, 0.00509456645459145), (2998, 0.005077812684855775), (735, 0.005053141129780618), (2490, 0.0050187946017027215), (2764, 0.005004953948457498), (4082, 0.004997105944821806), (947, 0.0049842915582276074), (3291, 0.004970558675680391), (2349, 0.00491316597034726), (2379, 0.004908733505116602), (4202, 0.004877526164938259), (3257, 0.00486600755899789), (3166, 0.004855064991487519), (2768, 0.004843665728742583), (2775, 0.004820974320391208), (2883, 0.004817073056355611), (3076, 0.004798803242249013), (2655, 0.004793402819645114), (2643, 0.004792513210955256), (3990, 0.004781142978143984), (3262, 0.004779817491198437), (4444, 0.004768441879524456), (2832, 0.004750386187205008), (2932, 0.0047440694047672614), (2568, 0.004739296939032108), (4617, 0.004737490472658527), (2731, 0.004736378252828641), (2795, 0.004736182785493363), (3140, 0.004727512863295601), (2251, 0.004727161273575534), (3479, 0.004713789081997113), (2407, 0.004709690734648777), (627, 0.0046915671379143585), (2448, 0.004691442850990255), (2559, 0.004643995132490268), (2255, 0.00463983922498896), (2901, 0.004638386197638418), (3635, 0.004624425569130946), (4710, 0.004619016697803204), (2889, 0.0046177721415452105), (2350, 0.0046172991134976514), (3922, 0.004585661289712271), (2257, 0.004584148401645514), (3015, 0.004581865444005407), (3892, 0.00456931074536785), (2423, 0.0045606087376952415), (3282, 0.004557438328390662), (4403, 0.004547132576067348), (3763, 0.004536827862041141), (2530, 0.004514460995962612), (2438, 0.0045103224330645345), (2415, 0.0045042950374383), (3832, 0.004500064958992619), (4484, 0.004499905894013646), (2645, 0.004496269142702813), (2199, 0.004489412631724547), (1208, 0.00447659070000013), (2879, 0.004460142048450893), (2966, 0.004459666172452381), (3766, 0.004446345612092278), (4521, 0.0044457537938483475), (3901, 0.004431087701329601), (3074, 0.004430548619919766), (3275, 0.004428346489378473), (3613, 0.004410867558430665), (3828, 0.004410237711354032), (4723, 0.004407200660869017), (4477, 0.004404647126956511), (4594, 0.004402309706203513), (2406, 0.0043904078982730166), (670, 0.0043898470498868695), (2797, 0.004386179178804015), (2266, 0.004381757557361704), (3620, 0.004381619447645087), (2428, 0.004378892463394229), (3357, 0.004375441267414026), (4637, 0.004369632683573669), (3675, 0.0043631699928129266), (2834, 0.0043563628945631205), (3302, 0.004350752155360634), (1711, 0.0043496297891801195), (3521, 0.0043490809315695515), (4117, 0.004346477333369117), (2778, 0.004336916115468124), (3019, 0.004332227472271568), (1064, 0.004328470050184503), (3081, 0.004326377101112281), (448, 0.004318078786646967), (2488, 0.004316598706467179), (2857, 0.004316294809998764), (2890, 0.0043154947290150415), (1655, 0.0043108358404198915), (2570, 0.004310499960317552), (4163, 0.004310365348436433), (2696, 0.004308334837191289), (4443, 0.004306958040330014), (3363, 0.004305856285535786), (3004, 0.0043029134329373156), (436, 0.004298423101112224), (2427, 0.0042912617422037), (1264, 0.004288995846809989), (4243, 0.004281056430922355), (3866, 0.004279731455688513), (2388, 0.004277758309384933), (3359, 0.00427615224727977), (2459, 0.0042711912923351384), (4619, 0.004266859272093337), (4333, 0.004265035764629671), (2154, 0.004263053730738834), (3952, 0.004259891995542878), (326, 0.004258183459204288), (1498, 0.004253127439040534), (3072, 0.004251911370664803), (3228, 0.004244096803320429), (4632, 0.0042377529354572065), (3165, 0.004235966070267029), (2848, 0.004231354740010212), (2769, 0.00422779877842694), (4731, 0.0042275463284853565), (2188, 0.004225760264336338), (2772, 0.0042249460568920165), (2740, 0.004224125104624856), (1995, 0.004219182349228258), (813, 0.004216181527811916), (985, 0.004212921639470756), (2625, 0.004206401653894512), (3903, 0.00420195076347622), (2872, 0.004197438350686929), (3364, 0.004195626595291364), (3524, 0.0041939208879805765), (4269, 0.0041938276382290345), (4051, 0.004191841742565792), (937, 0.004189290663880023), (4244, 0.004188472923969375), (1049, 0.004185112447824254), (1489, 0.004180892915256856), (4369, 0.004180169514299924), (4713, 0.004180094499511054), (4589, 0.004180010980131832), (2914, 0.004179176798331509), (3560, 0.004177782654873668), (4368, 0.004172316350803429), (4412, 0.004168118956203614), (3012, 0.0041663874718992425), (4701, 0.0041642011817049065), (4293, 0.0041632919401762575), (2229, 0.004163189907314719), (2535, 0.004155983468577642), (1947, 0.004155067027288318), (2623, 0.004153289942956942), (2162, 0.0041525149149755115), (458, 0.004152200306521886), (3425, 0.004152068553168524), (1184, 0.004151719339919839), (2986, 0.004151612884708887), (1383, 0.004149501946017251), (3274, 0.004148819071836758), (274, 0.00414658145571661), (3506, 0.004143881233560806), (21, 0.0041421352421780544), (4575, 0.0041404354661187985), (2437, 0.0041364879645890505), (2924, 0.004134684509867103), (4494, 0.0041319585336350995), (3962, 0.004131173799227272), (1885, 0.004128373468231912), (2974, 0.004127519798395219), (4295, 0.004125363681025449), (3680, 0.0041219511662773725), (1023, 0.0041200588540421055), (925, 0.004117350468036679), (2748, 0.004117163684335948), (107, 0.004116997136912923), (3640, 0.004114663034950022), (3413, 0.00411246812835714), (2089, 0.004111820370644485), (3754, 0.004110487942183694), (2475, 0.004110153016744316), (443, 0.004107346945465035), (721, 0.004105484656833105), (847, 0.004103933367755489), (1547, 0.004103409138778355), (3062, 0.004103371122122452), (3296, 0.004103042826715383), (857, 0.004101284688478147), (3258, 0.004100612558099045), (1658, 0.004100481391778643), (701, 0.004100363849217653), (419, 0.00409904920737384), (2796, 0.0040990047368586165), (2638, 0.004098940249155329), (860, 0.00409845996542001), (1275, 0.004097594622291396), (1325, 0.0040944904004391195), (3248, 0.004092742089114291), (3639, 0.004090673751712024), (1748, 0.0040903817918247175), (3094, 0.004088708609149946), (739, 0.004088595698928803), (2302, 0.004086536095232169), (2134, 0.004085730083589355), (4130, 0.004083409543621627), (1109, 0.004082227035711986), (208, 0.004081456558697922), (3893, 0.00407857206714238), (2903, 0.004076133611142355), (2881, 0.004074130561985705), (4522, 0.004073651965341975), (62, 0.004072851755349485), (4706, 0.00407266447368154), (3960, 0.004070778689594978), (3883, 0.004069595726015928), (4101, 0.004067699612445083), (3196, 0.004063232175208645), (1924, 0.004063106313892724), (2629, 0.00406190013839606), (3590, 0.004058691710928052), (2478, 0.004057427660636455), (2592, 0.004057409780262003), (4092, 0.004054218398439084), (3618, 0.004050224196074482), (2051, 0.004049546407271706), (587, 0.004048495781604593), (4516, 0.004047989455562643), (716, 0.004046714312036042), (3745, 0.004045838847100765), (48, 0.004045555121834954), (1119, 0.0040453698111962404), (3043, 0.004040213219158887), (2702, 0.004039410377745048), (12, 0.004038221262774217), (4113, 0.004037045646802333), (1909, 0.00403694395940064), (2840, 0.004035706904003062), (2108, 0.004035672118338642), (2705, 0.00403560807715641), (596, 0.004035149263747698), (3116, 0.004033761141020435), (623, 0.004031460506409873), (2436, 0.004031409572988657), (3867, 0.004028214061286276), (4624, 0.004027841577758328), (3992, 0.004025484167251849), (2755, 0.004024549029096869), (2214, 0.0040200710512208635), (967, 0.004018951647756373), (2916, 0.004018113876835443), (3148, 0.004017144728466159), (3187, 0.004016802585513877), (1474, 0.004016379888542724), (3032, 0.004016029310682499), (2097, 0.004015291436988715), (4116, 0.004015187444407609), (2560, 0.004014722432487324), (1141, 0.004014351455354405), (2664, 0.004013618158229277), (2411, 0.004012161695484531), (2555, 0.004011927336881726), (4187, 0.004011650109981087), (998, 0.0040113461805146855), (4098, 0.004010000543740918), (2782, 0.004009833654177379), (2915, 0.00400959461635065), (4593, 0.004008955809114705), (4718, 0.004006994161822133), (1923, 0.004006912887652413), (3273, 0.004005506943931361), (688, 0.004002023187174683), (1798, 0.0039978932559805525), (1997, 0.003997533065838976), (3694, 0.003996786776991125), (2400, 0.003994746234938453), (3920, 0.00399324614690897), (4330, 0.003988791497447858), (4699, 0.003987899243043823), (3183, 0.003987807002485163), (2830, 0.003986476800927391), (2049, 0.0039863221076061875), (1007, 0.003984807537756043), (3013, 0.003983712957299316), (3924, 0.003982366361614177), (1897, 0.00397843754368647), (3198, 0.0039770869931229115), (3862, 0.003972859054054699), (612, 0.003972721658893165), (2260, 0.003970479711923501), (576, 0.0039692462947592405), (318, 0.0039677408099667985), (3827, 0.003965509445608112), (533, 0.003964486907447339), (3218, 0.003964256663268125), (1896, 0.003963603058883929), (2893, 0.003962825972705545), (888, 0.003961472232306489), (4160, 0.003960956912441029), (3915, 0.003960400688948096), (3037, 0.003956579717137646), (3417, 0.003956388276934339), (2391, 0.003956263854902341), (3601, 0.003955967713075651), (41, 0.003955085622373121), (2888, 0.003950145764926323), (2040, 0.003947378208874552), (3234, 0.003947136060537792), (1687, 0.003945879528453902), (4259, 0.003945754782941287), (1907, 0.003942388670548147), (2375, 0.003942162301034178), (1866, 0.003942020927344239), (2943, 0.003941202820840672), (3391, 0.003939967188274694), (3813, 0.00393876105281055), (3406, 0.003938093186900019), (4507, 0.003935587168695487), (2112, 0.003934325514956549), (2116, 0.0039334448340406485), (4133, 0.003933407971255882), (3845, 0.003931693875334778), (371, 0.003925528411717121), (876, 0.00392305448640554), (1537, 0.003922872037044291), (3822, 0.003920833934162954), (1893, 0.003917260363734474), (896, 0.0039171083217642575), (2223, 0.003916257026859636), (1916, 0.003916095457633325), (342, 0.003914776971867152), (4657, 0.003914212972110768), (1703, 0.003913430876467701), (2096, 0.003913218372340337), (3959, 0.0039118929694937086), (4286, 0.0039114059936178475), (450, 0.003911254489842671), (4489, 0.003909895001222316), (3704, 0.0039095467802702615), (2601, 0.003907020445686752), (4024, 0.0039065287895042825), (1224, 0.0039036509269772405), (1851, 0.0039031800902817205), (4601, 0.0039028489049836575), (4371, 0.0039025967279762938), (3210, 0.0039015970848272946), (2714, 0.0039008295519447345), (3097, 0.0039006417668390816), (3749, 0.00390016574444053), (774, 0.003897787598935444), (4123, 0.00389759074141423), (1225, 0.003896542806990137), (2911, 0.0038958011588374353), (3235, 0.003892581273032015), (2016, 0.003892466271477542), (3437, 0.0038916999168153114), (4517, 0.003891625354603165), (2159, 0.003889214836234259), (3771, 0.003888703734796881), (3374, 0.003887688063336475), (2088, 0.0038857703599692274), (456, 0.0038849935273578004), (1364, 0.0038846627473267696), (4138, 0.003883586553737827), (2477, 0.0038835019596892262), (2067, 0.003882487605732977), (2053, 0.003881941993765753), (3146, 0.0038817783842008055), (4734, 0.0038815715288376003), (4722, 0.0038813666176918528), (1951, 0.003879443958996057), (2334, 0.0038790899735416883), (728, 0.0038785044739099214), (865, 0.003877322709013328), (34, 0.003875793031274401), (2394, 0.0038757709539643265), (3511, 0.0038754162946594258), (210, 0.00387508162419623), (3075, 0.0038744467829564333), (991, 0.0038743187401509803), (4551, 0.003871819446636519), (792, 0.0038710663355614404), (4005, 0.0038682954044498615), (4038, 0.0038677382947356655), (4625, 0.003866474711660676), (1463, 0.003865958736254756), (1324, 0.0038638311825066065), (584, 0.0038637479360210543), (4501, 0.003863449734096029), (470, 0.0038622978614085523), (3612, 0.003861978724452727), (2776, 0.0038603828096868825), (4528, 0.003860248429150236), (4629, 0.0038593707883419993), (3449, 0.0038584758269419412), (4470, 0.0038575280855134074), (3086, 0.0038572796096877126), (3496, 0.0038571003166919557), (3902, 0.003854645246880104), (1876, 0.0038515830253113247), (1382, 0.003851351280321828), (2390, 0.0038511770003226086), (2105, 0.0038502458674809334), (2531, 0.0038494077655611718), (8, 0.0038490160448571816), (192, 0.0038477924957657753), (4379, 0.0038468319852034876), (429, 0.00384623551146975), (4033, 0.0038446787428699667), (1685, 0.0038445640923905513), (2996, 0.0038439056722757237), (879, 0.0038438440921800265), (2361, 0.0038434498011888393), (930, 0.003843346495867001), (3326, 0.0038424434709512637), (255, 0.0038420974551212363), (826, 0.003842051305772844), (1229, 0.00384138987075141), (1822, 0.0038413894854117006), (3904, 0.003840371629549322), (2037, 0.003839105394983969), (2798, 0.0038364671820262947), (2609, 0.0038361180889401173), (4079, 0.0038349176659251603), (4111, 0.0038311156036441203), (2999, 0.0038305167820870513), (2988, 0.0038288992204383483), (743, 0.0038273751933061255), (4446, 0.003827096831487528), (2289, 0.0038256894919038763), (3654, 0.0038240522488120652), (2919, 0.0038229881799961753), (2083, 0.0038207887287548775), (2633, 0.0038201376418582973), (3112, 0.003819680793548632), (1905, 0.0038189586444960324), (2926, 0.0038185374982050834), (1400, 0.0038173891188584058), (23, 0.003816534922439385), (3973, 0.0038159414398000625), (4566, 0.003814503860719066), (4643, 0.003813845359959328), (11, 0.0038130354687194237), (2254, 0.0038121992316852396), (1286, 0.003811274306391153), (3184, 0.0038111490274802522), (551, 0.003811089700832942), (3388, 0.003811078406740152), (4231, 0.003810565801718327), (1006, 0.003808917606184086), (3643, 0.0038086894741187136), (1902, 0.0038079319373952106), (51, 0.0038066935925596076), (4419, 0.003805544648444011), (3349, 0.0038051020004831243), (3527, 0.0038037276063584862), (2554, 0.003803608361267165), (4520, 0.0038032911796849734), (4357, 0.003802935129194189), (2712, 0.0038028449676631585), (1513, 0.0038028345112306166), (2319, 0.0038026667740589212), (1015, 0.0038023807361049792), (227, 0.0038023313880048764), (4420, 0.0038017787431266566), (652, 0.003800582839242828), (2910, 0.0037992830104342204), (1619, 0.00379719849604032), (3666, 0.00379644797615215), (4249, 0.0037956718942758353), (3227, 0.003795155734462791), (3241, 0.0037945034336084233), (3551, 0.003793305114618893), (1475, 0.0037929178620927603), (216, 0.0037928667291294385), (4336, 0.003792737588901858), (4056, 0.0037912474437268085), (1570, 0.003790314749350293), (3501, 0.0037892764721430623), (3153, 0.0037881340577018297), (3214, 0.003787654247548632), (3728, 0.003784973033023872), (622, 0.003784934577126), (3765, 0.0037841484720093593), (120, 0.0037830392760103784), (783, 0.003781549259834731), (580, 0.003778574349102553), (871, 0.0037782104655454812), (1182, 0.003778008226260249), (3526, 0.0037769955286031886), (3689, 0.0037763342801645215), (2405, 0.003775478114376211), (4422, 0.003774480081577384), (1122, 0.0037733278884716573), (1722, 0.0037731812911968397), (2878, 0.0037718742072845707), (579, 0.0037718370935068486), (1942, 0.0037699855172410855), (3483, 0.0037680537112212867), (1853, 0.003767455364075218), (2393, 0.003764489536041124), (1779, 0.0037626337704732803), (4025, 0.0037622722707889348), (173, 0.003760402094339301), (3653, 0.0037597946652972165), (4016, 0.0037597310411554845), (3778, 0.0037595392348894127), (564, 0.0037577547998834133), (2344, 0.0037574212592485683), (479, 0.003755629771974908), (2668, 0.0037546149705421257), (3564, 0.003754443260341025), (1350, 0.0037534762858718778), (2744, 0.0037530002027045513), (986, 0.0037527763382908834), (1176, 0.003752449130281853), (4563, 0.0037510540740517194), (636, 0.003749784357934445), (4287, 0.0037497371836608413), (3303, 0.003749623478027086), (3125, 0.003749579067754101), (588, 0.003749538718387795), (3182, 0.0037491460239440044), (1931, 0.003746975073489726), (1223, 0.003744186971276613), (4533, 0.003743822118445031), (1232, 0.003743036678315798), (169, 0.0037423460534460776), (4178, 0.003740631947866883), (502, 0.003739779698186432), (2466, 0.003738627798735914), (1960, 0.003738348737384676), (1335, 0.0037377327271204573), (71, 0.0037375515817977376), (2489, 0.003737317827809352), (4430, 0.0037368832978424307), (3353, 0.003735808159849689), (2661, 0.0037356867971455494), (1131, 0.0037356464714049025), (193, 0.003734083516602196), (504, 0.0037310709419049568), (1179, 0.003730866263652043), (794, 0.0037307781761752087), (644, 0.003729210808751512), (2746, 0.00372883665706533), (4284, 0.0037283150913150855), (3882, 0.00372670228057224), (2048, 0.0037266749501349513), (980, 0.003725617335073889), (2977, 0.003723063547068291), (2144, 0.0037216384735209536), (1985, 0.003718705927324225), (3917, 0.003718566771635432), (1192, 0.0037162426757094027), (1967, 0.0037127253922739066), (897, 0.003712596801465578), (1163, 0.0037112120976073902), (464, 0.0037090114952137783), (482, 0.0037084863680942833), (3571, 0.0037063440556608764), (755, 0.003705774599044081), (270, 0.003705501957976658), (2632, 0.003705448160198514), (1983, 0.0037051719747350923), (637, 0.0037043345345939105), (3436, 0.003704127381551373), (4255, 0.003703213398352094), (2386, 0.0037023281550551553), (1252, 0.0037020703219444477), (3673, 0.0037020439645184585), (2321, 0.003701692476461305), (1410, 0.0037006648708631023), (3807, 0.003700100041770287), (761, 0.0036974925637117424), (2155, 0.0036971467651210057), (3330, 0.003696160166159699), (387, 0.003695190303757576), (280, 0.003694502619398717), (3445, 0.003691409045201459), (1717, 0.003691003211820728), (2695, 0.003688705250168187), (3809, 0.0036884578153661305), (4573, 0.003686912737746323), (1740, 0.0036848522263205337), (2706, 0.0036820204539070355), (832, 0.0036816191162153543), (2972, 0.0036804586616077874), (2745, 0.0036803605434376947), (2606, 0.0036800145891703936), (3553, 0.003679679467978388), (2647, 0.003679393788571507), (3036, 0.003676899223826436), (1175, 0.0036761849682876453), (2212, 0.0036753683410470674), (2169, 0.0036749138094599675), (2812, 0.003674840458020793), (2295, 0.003674471722576065), (1075, 0.003673537809239602), (3346, 0.0036721373233178645), (1629, 0.0036719335647558407), (1678, 0.0036713846326763334), (3435, 0.003669575990751628), (1017, 0.003668872847141355), (4135, 0.003668728534201055), (2374, 0.003668281187642849), (3541, 0.0036666610776943114), (4640, 0.003666237132110953), (2784, 0.0036657524710367586), (3067, 0.003664690257162227), (867, 0.003663685857896418), (1191, 0.003663551180402472), (4668, 0.003663464306582183), (1102, 0.003663354000246897), (2422, 0.0036586122651081263), (1334, 0.003658480630506639), (864, 0.0036568438109467415), (4283, 0.0036564063158084944), (2492, 0.00365576080337233), (4268, 0.0036554399948441406), (1969, 0.0036541320339701687), (749, 0.0036536676767559622), (969, 0.003652558260145837), (698, 0.0036523339415741626), (1671, 0.003650970923553466), (3492, 0.003650515641657741), (1338, 0.0036482664794653284), (4068, 0.003647890525337487), (1035, 0.003647852299810943), (806, 0.0036474355841537302), (1730, 0.003646426260554209), (2045, 0.003644563738389765), (353, 0.0036439649159845104), (1476, 0.0036434782367262422), (2652, 0.003641297737595291), (3727, 0.003640558353200426), (3500, 0.0036388636686498794), (2687, 0.0036378954236943404), (4053, 0.003637459762023065), (894, 0.003637061047436867), (1378, 0.0036353874081269297), (370, 0.0036346649971031823), (4603, 0.0036342115386973914), (2122, 0.003633723739640917), (2226, 0.003632049515175452), (2802, 0.0036306791202936803), (490, 0.0036296481692232917), (174, 0.0036293498674932045), (2008, 0.0036275936223822427), (4036, 0.0036269354921639138), (3707, 0.0036267408124147976), (4183, 0.0036259380085789674), (1621, 0.003625937592891843), (3876, 0.003625851721680256), (2980, 0.0036237156249123974), (4511, 0.0036231946128153694), (3237, 0.0036228617670531513), (1882, 0.0036227263363097185), (3890, 0.003622606718430061), (628, 0.0036223871864476333), (3122, 0.003622270641568402), (2934, 0.0036216240697506544), (1488, 0.0036208558571966076), (2024, 0.0036205656582588676), (4503, 0.0036202543898482768), (2362, 0.003619851505117302), (1620, 0.003619350068646149), (2945, 0.0036191748571027384), (1422, 0.0036167894060038677), (4362, 0.0036167740484110145), (1313, 0.0036157292612201443), (2121, 0.0036146322484538465), (1170, 0.0036144251715417215), (2808, 0.0036113057805774846), (3739, 0.0036112038426361253), (1077, 0.0036107837275938144), (3557, 0.003610190514525443), (400, 0.003610106885301531), (3784, 0.0036088236377894265), (406, 0.003608641985739193), (104, 0.0036085389486979905), (109, 0.003607889570780972), (114, 0.0036028457321881685), (1257, 0.003601971208473536), (3195, 0.003601549614060395), (959, 0.0036015436230547727), (1891, 0.003600469015196568), (3170, 0.003600188373961115), (799, 0.003599753498786675), (3151, 0.00359919793638597), (1483, 0.0035983691545895292), (1693, 0.0035981042533511118), (2593, 0.003596155942892955), (348, 0.003595747680630124), (3315, 0.0035949251426345753), (2174, 0.003593014805882439), (4309, 0.003591754619339353), (2779, 0.003591354192019319), (1019, 0.0035908259852437657), (2250, 0.0035889554981177515), (2716, 0.0035876529099412384), (2965, 0.003587170613144793), (3799, 0.0035859008224802627), (1421, 0.003585855751214153), (2397, 0.003585222611908627), (966, 0.0035851966360771694), (112, 0.0035850672123745805), (4020, 0.0035844615828955133), (1123, 0.0035834299290079955), (1247, 0.00358188048975105), (2698, 0.0035817224319530296), (2210, 0.0035814439050699063), (727, 0.003580272970523727), (2887, 0.003580042546149589), (2216, 0.0035787488294873014), (3868, 0.0035779301904167353), (2558, 0.0035778751144074153), (2279, 0.003576924951500581), (3487, 0.0035760578497849344), (1026, 0.003575673178311452), (2195, 0.003575619762324942), (1020, 0.003573320037962758), (1666, 0.0035727787718285685), (1598, 0.003572676402440153), (1021, 0.003569215368579714), (4387, 0.0035688975932569814), (1710, 0.003568851661460815), (2131, 0.003566790156293853), (2946, 0.0035657138168885987), (4394, 0.003564074184015193), (2430, 0.003564050931291869), (1438, 0.0035638298218440586), (1160, 0.003563298890876419), (2102, 0.0035624950123252707), (870, 0.0035617441133405795), (2961, 0.003560144081848478), (598, 0.0035592577821225426), (2642, 0.003556513477077682), (29, 0.0035563740187922964), (126, 0.0035559997561530276), (3268, 0.0035558762996811422), (2069, 0.003555200827794737), (374, 0.003555067468279657), (651, 0.0035547466655709227), (693, 0.003553595640171921), (689, 0.003553493920744804), (2068, 0.003553474900920724), (3498, 0.003552521854539029), (962, 0.003549891132928714), (989, 0.0035477876376394336), (3819, 0.003546911896951485), (373, 0.003546828661299069), (4069, 0.003546642833157592), (2907, 0.003546509562824497), (1060, 0.00354637535338684), (3953, 0.0035461975632527414), (2634, 0.0035457123933764585), (852, 0.003545705885321505), (358, 0.0035455236157067712), (1446, 0.0035443970919051175), (85, 0.0035426578397752405), (818, 0.0035424946807120277), (1597, 0.0035422631372375966), (2777, 0.00354179562615479), (4530, 0.0035417303549484113), (3696, 0.003541079883036833), (4345, 0.003540366695009667), (4673, 0.003539452908112583), (4011, 0.0035380245574832313), (119, 0.0035359029104549237), (1667, 0.0035356064315496282), (838, 0.0035355811159381314), (2087, 0.0035354555460427755), (2402, 0.003534204577160443), (2512, 0.0035339283376459515), (2029, 0.0035338530476985487), (1510, 0.0035329594893009192), (2553, 0.0035328940720453545), (3706, 0.003531888446916416), (3407, 0.003531649377422651), (3220, 0.003530423359429885), (1782, 0.0035294189776603774), (1030, 0.003528375875432364), (437, 0.003528293537952056), (3379, 0.0035261887161538827), (3558, 0.0035255086414370715), (880, 0.0035245997997088146), (1813, 0.003524340642792935), (1448, 0.003522116792481185), (221, 0.0035185429519411227), (127, 0.0035173770892527475), (2473, 0.0035147555065344733), (1481, 0.0035133563250070283), (3646, 0.0035129822859886846), (878, 0.0035129664657510017), (2117, 0.0035121146103173333), (1665, 0.003510477493465309), (3194, 0.003510198560061366), (4085, 0.0035087207236193215), (2467, 0.003505457802421666), (2528, 0.003504867672194875), (1084, 0.0035039815277272744), (4536, 0.003499181997425317), (4205, 0.003497986239790396), (1796, 0.0034967138320142854), (1360, 0.003496581214951846), (1878, 0.0034955035582531517), (325, 0.003494739320404829), (1183, 0.0034939496737452637), (643, 0.00349392002881146), (3826, 0.0034928932516346996), (1001, 0.0034926957247734796), (3171, 0.003492411660566), (471, 0.003491474697709691), (3660, 0.0034897122846789357), (3504, 0.003489489249308675), (1819, 0.0034891886525955274), (4192, 0.003488466071453982), (1385, 0.0034868552447222725), (276, 0.0034860260981886527), (4658, 0.0034853019150909476), (2004, 0.003485028655345391), (3240, 0.0034825810871477215), (2859, 0.0034824818930149315), (3399, 0.0034824011554894217), (866, 0.003479396496398065), (1744, 0.0034787747686341615), (116, 0.003478642337840994), (3300, 0.003477562430899157), (356, 0.0034770618816523393), (132, 0.0034768475550094107), (1478, 0.003475778909187032), (4382, 0.003475710416154076), (52, 0.003474800725876089), (197, 0.0034733948069914293), (2653, 0.0034728862741125097), (1220, 0.0034706188163811397), (4475, 0.003468496466499612), (907, 0.003467463419642505), (2886, 0.0034671953961350286), (408, 0.0034667195299410373), (3028, 0.0034666624170952894), (1161, 0.003466557943717887), (1892, 0.003466226731495277), (4282, 0.0034660693325708203), (3293, 0.0034649964624698707), (2023, 0.003463535031309065), (3974, 0.0034606771812852617), (3278, 0.0034592041771830374), (975, 0.003458555596465244), (4502, 0.0034562766294262935), (2862, 0.003454995301686145), (1884, 0.003453221399467618), (1514, 0.0034530731081893803), (4257, 0.003452651907173011), (2482, 0.003452423323962263), (3447, 0.0034508692215414207), (372, 0.0034495080503136074), (589, 0.0034488820497380703), (655, 0.0034485529784431565), (3503, 0.003446621340367586), (2143, 0.003445991281022769), (742, 0.003444618954666942), (4321, 0.003443488489361312), (3669, 0.0034434657928628727), (236, 0.003440791933528925), (4479, 0.00343984159818715), (1628, 0.0034382988080049618), (2800, 0.0034379412296604846), (3370, 0.003437694315711174), (434, 0.0034361214317279133), (1206, 0.003435509451963649), (355, 0.0034344929665616345), (2453, 0.003432931674709608), (1372, 0.0034327474049979), (2347, 0.0034320737012529866), (1009, 0.0034300068889571494), (1041, 0.0034288788066465575), (734, 0.003427848663828373), (1682, 0.0034277409605186376), (359, 0.003427315193332143), (2149, 0.003426536740837898), (121, 0.0034257938727690652), (1357, 0.003425556508925429), (3460, 0.0034216937104838887), (111, 0.0034209972424164184), (2598, 0.0034204253822326955), (92, 0.0034192614160128243), (3050, 0.003419099945212384), (3342, 0.0034188481074618146), (488, 0.0034164477595280737), (2920, 0.003416062165470374), (3614, 0.0034126231860569984), (3954, 0.003411981383431008), (2201, 0.003410867946752362), (1308, 0.00341076733838263), (3854, 0.003410197722497274), (4473, 0.0034091171492160064), (3898, 0.003408220855123978), (1107, 0.0034073515212750495), (2674, 0.0034071106443742246), (2457, 0.0034066139374776968), (2556, 0.003405073309129017), (200, 0.003404395680201841), (2367, 0.00340328259236343), (3311, 0.003401396104060004), (32, 0.0034008687812971477), (2224, 0.0033991526208082545), (3910, 0.0033911801898688834), (2741, 0.0033890994282763866), (934, 0.0033881981552682868), (2803, 0.0033857115228975595), (4350, 0.003383756977688768), (218, 0.0033824925255252812), (1605, 0.003382237699085319), (1079, 0.0033816216503998074), (2287, 0.0033808376460759573), (788, 0.0033798217121730587), (2607, 0.003378457181110605), (465, 0.003377567419180325), (1760, 0.003377262631754982), (4402, 0.0033769327278315984), (1209, 0.0033764627663662224), (3829, 0.0033733971594639817), (2743, 0.003372885478741653), (590, 0.0033695121099628677), (3027, 0.0033684112127656163), (515, 0.003367920636601231), (2301, 0.0033661691532767307), (1739, 0.003363735578968756), (2191, 0.0033630897047832605), (136, 0.0033627665788146595), (1503, 0.003362325280289562), (910, 0.003361933855264759), (1427, 0.003361129660682978), (944, 0.003359987851052851), (3226, 0.003359895697734354), (1675, 0.0033597148836539354), (124, 0.003358315041562165), (1000, 0.0033578765319598395), (1065, 0.0033565222896439354), (2399, 0.003353251591256516), (1595, 0.0033510909094406622), (1827, 0.003349928355633663), (183, 0.003347424364263053), (1543, 0.003346952646808462), (1273, 0.003345045326057668), (968, 0.0033445902142935327), (1875, 0.0033433160634231455), (184, 0.0033391820359142265), (103, 0.0033377333244783897), (3839, 0.0033356501554677146), (495, 0.003335252410759321), (416, 0.0033343894010592926), (744, 0.0033343454150530465), (4143, 0.003332232329174551), (4066, 0.003332189487664162), (4141, 0.003331092046922814), (1627, 0.003328904368587992), (558, 0.003328733463490267), (199, 0.0033283799651455132), (2931, 0.003327377406470889), (3284, 0.003327086960931809), (1865, 0.0033255397489988037), (951, 0.0033240350603730815), (1219, 0.0033213049772631903), (3913, 0.003319793394674794), (286, 0.0033190446248991764), (957, 0.0033180958744949023), (1763, 0.0033179621969513383), (457, 0.0033158638819714014), (2055, 0.0033157259820317765), (1565, 0.0033154980720355677), (2747, 0.0033146246263341633), (410, 0.003313418157772364), (604, 0.0033121511387268587), (851, 0.0033092259786579956), (1690, 0.0033090277491906067), (3880, 0.0033054432166134155), (2011, 0.0033054367368141927), (3956, 0.0033050725223872962), (166, 0.0033036194602611554), (149, 0.0033031060688501123), (1216, 0.0033017564437734506), (3755, 0.0033013367576187856), (463, 0.0033009176361107895), (1539, 0.003300907667561036), (161, 0.0033007696471623483), (722, 0.003298456903935528), (1830, 0.0032948069593732275), (3137, 0.0032941386724750074), (3767, 0.0032936345358951843), (3474, 0.0032921639787386646), (2338, 0.0032884146015928774), (3380, 0.0032858758904317697), (1934, 0.003285611893062101), (3579, 0.0032849189010296306), (519, 0.0032775078352855922), (3327, 0.0032741653154296857), (815, 0.0032738443823467707), (3569, 0.0032735982528051587), (267, 0.003273537685794195), (147, 0.0032733987542131167), (1977, 0.0032693117334746777), (1136, 0.0032689677798604165), (856, 0.0032681546445267884), (1764, 0.0032675017526935437), (1186, 0.003263294213683637), (672, 0.003263090098710659), (2520, 0.0032613311041107397), (1971, 0.0032612558373152204), (1251, 0.003260676655704932), (1237, 0.0032601382729839424), (657, 0.0032586967561241214), (800, 0.003255767850761359), (2580, 0.0032555893336473304), (1318, 0.0032545247229246723), (2602, 0.0032534394654337466), (1050, 0.003253060928390282), (705, 0.0032509696017182853), (1423, 0.003250237828425938), (3108, 0.0032492145872355513), (4247, 0.0032460691893210765), (251, 0.003239915672478875), (4429, 0.003239120046899721), (2976, 0.003238573182092919), (222, 0.0032376582734873894), (2065, 0.0032372126246092564), (3393, 0.0032289349454513506), (242, 0.0032276945825668217), (2933, 0.0032257509985400556), (3895, 0.0032238609453200573), (617, 0.003223454509674416), (1414, 0.003220594914694126), (2975, 0.0032204301402971856), (194, 0.003220276680680816), (4733, 0.0032199386176624714), (4590, 0.0032193490531496533), (3657, 0.0032124524286698294), (2692, 0.0032049817833526436), (4636, 0.0032049170259111073), (2981, 0.0032044504672000826), (3111, 0.0032042311694677555), (97, 0.0032041098066398193), (816, 0.0032035862539396137), (496, 0.003203327328632043), (2509, 0.003201639835289298), (4411, 0.003200706459580659), (2237, 0.003200623451882401), (642, 0.0031979451737389254), (3254, 0.0031887420896558037), (16, 0.0031878753787510663), (4151, 0.0031870277391161214), (165, 0.0031847105294594185), (60, 0.0031839908840529296), (403, 0.003180812809364691), (190, 0.003177402749202581), (3409, 0.0031770131069358866), (712, 0.003176003175516641), (3065, 0.0031751617933252364), (611, 0.0031745853679698874), (1370, 0.003174411797810492), (1215, 0.0031692497326925514), (1088, 0.003165797830432582), (566, 0.0031634423368944245), (4156, 0.0031605509604188285), (732, 0.003159932194076067), (1241, 0.003159325415307586), (3471, 0.003154535833662628), (3928, 0.0031517466785442702), (2876, 0.003146582119268719), (1365, 0.0031462017294457156), (195, 0.003145056757636253), (3927, 0.0031447053283221167), (269, 0.0031441745375780676), (1377, 0.0031406714582483766), (796, 0.0031391207333484085), (1078, 0.003138804543791825), (2603, 0.0031360985441911795), (2157, 0.0031346464454604867), (2211, 0.0031316754635120816), (1828, 0.0031314120329416933), (2359, 0.0031312276457310106), (626, 0.0031308606932902616), (4095, 0.0031264772036772898), (2034, 0.0031194483624876145), (1040, 0.0031178777759309872), (924, 0.0031165837611094697), (44, 0.0031157938294610003), (547, 0.003115779881642953), (2070, 0.003114032085941229), (1707, 0.0031140178626388247), (2127, 0.003113031093240052), (2035, 0.0031122887914648957), (3347, 0.0031051872288881425), (441, 0.0031051046460707564), (442, 0.0031049036184005894), (63, 0.0031044925215648177), (1202, 0.003102322462473087), (2526, 0.003100083493108689), (2761, 0.0031000561761056838), (3855, 0.0030960300670271955), (142, 0.003090725510944902), (4311, 0.0030904004076409168), (4610, 0.003088123095019762), (3756, 0.0030859220934948625), (3344, 0.0030847723904443266), (2563, 0.003080820813684149), (3024, 0.003077395645146802), (1356, 0.0030721763828327397), (2758, 0.0030696020060223834), (1950, 0.003066192077477658), (1415, 0.0030592218940306347), (719, 0.00305793828681213), (3301, 0.00305750798382478), (3091, 0.0030562432078031845), (843, 0.003048423406892903), (3645, 0.0030476908894799754), (616, 0.0030435685314820146), (2697, 0.003042514253113839), (1305, 0.0030413934077439275), (3317, 0.00302740201297551), (113, 0.0030208951207924073), (942, 0.0030136412000511047), (1886, 0.003006270103887137), (3875, 0.003000948462573397), (2844, 0.0029984840266366703), (2000, 0.0029966499124793053), (3152, 0.0029916117839882813), (156, 0.0029869499241701332), (309, 0.002982020232450598), (2925, 0.002980082347116356), (1989, 0.0029759498807126537), (1303, 0.0029673578232941532), (4674, 0.002964596853279004), (2010, 0.002954295575150771), (953, 0.0029515563040885765), (2908, 0.002934071530072581), (2474, 0.0029335485449097968), (407, 0.00293223446813527), (1871, 0.002927202168316232), (2766, 0.0029234582444096313), (510, 0.0029208726489794805), (351, 0.0029152236300418427), (1005, 0.0029091227976974434), (3199, 0.0029088507667890603), (271, 0.002904765857248478), (2767, 0.002892815184446345), (2469, 0.002892597140490998), (1417, 0.00288484315888318), (571, 0.002881022128478969), (224, 0.0028797951644234207), (296, 0.002874321410520058), (3626, 0.0028563761152152318), (1403, 0.0028353695294957826), (3983, 0.002830131832584003), (3316, 0.002825916815574635), (1774, 0.002824210292470651), (266, 0.0028241994325202257), (1648, 0.002821318837935089), (929, 0.0028172519455504806), (452, 0.002815477345621292), (641, 0.0027978409701644473), (1471, 0.002789373241155073), (3546, 0.0027661270743429243), (831, 0.0027554955748344667), (2550, 0.0027230844838533395), (1306, 0.002696306584854783), (1351, 0.002684798425001087), (3365, 0.002646155456663902), (4752, 0.0026194257321272723), (243, 0.002606881329573426), (455, 0.002581867520785885), (858, 0.0025768329991686157), (330, 0.002568003551000244), (1509, 0.002556824638315936), (1506, 0.002508782900326023), (202, 0.0024137859526844655), (3835, 0.0024074296842038555), (3328, 0.00239997234062377), (787, 0.002302390586828519), (2538, 0.002284920103984115), (475, 0.0013221278665360844), (0, 0.0), (2, 0.0), (9, 0.0), (13, 0.0), (14, 0.0), (17, 0.0), (20, 0.0), (24, 0.0), (26, 0.0), (35, 0.0), (38, 0.0), (40, 0.0), (42, 0.0), (43, 0.0), (47, 0.0), (50, 0.0), (54, 0.0), (55, 0.0), (56, 0.0), (57, 0.0), (58, 0.0), (59, 0.0), (66, 0.0), (70, 0.0), (72, 0.0), (81, 0.0), (82, 0.0), (83, 0.0), (86, 0.0), (88, 0.0), (89, 0.0), (98, 0.0), (99, 0.0), (100, 0.0), (101, 0.0), (106, 0.0), (110, 0.0), (117, 0.0), (118, 0.0), (123, 0.0), (130, 0.0), (131, 0.0), (134, 0.0), (137, 0.0), (138, 0.0), (139, 0.0), (140, 0.0), (141, 0.0), (143, 0.0), (144, 0.0), (145, 0.0), (146, 0.0), (148, 0.0), (153, 0.0), (155, 0.0), (157, 0.0), (158, 0.0), (159, 0.0), (162, 0.0), (163, 0.0), (164, 0.0), (167, 0.0), (168, 0.0), (172, 0.0), (175, 0.0), (176, 0.0), (177, 0.0), (179, 0.0), (180, 0.0), (182, 0.0), (185, 0.0), (196, 0.0), (201, 0.0), (203, 0.0), (207, 0.0), (209, 0.0), (211, 0.0), (212, 0.0), (213, 0.0), (214, 0.0), (217, 0.0), (219, 0.0), (223, 0.0), (225, 0.0), (226, 0.0), (230, 0.0), (233, 0.0), (235, 0.0), (239, 0.0), (245, 0.0), (246, 0.0), (247, 0.0), (248, 0.0), (250, 0.0), (253, 0.0), (254, 0.0), (262, 0.0), (265, 0.0), (268, 0.0), (272, 0.0), (273, 0.0), (275, 0.0), (278, 0.0), (281, 0.0), (287, 0.0), (288, 0.0), (289, 0.0), (290, 0.0), (292, 0.0), (293, 0.0), (294, 0.0), (295, 0.0), (297, 0.0), (298, 0.0), (300, 0.0), (301, 0.0), (304, 0.0), (305, 0.0), (306, 0.0), (308, 0.0), (312, 0.0), (313, 0.0), (315, 0.0), (317, 0.0), (319, 0.0), (320, 0.0), (321, 0.0), (324, 0.0), (327, 0.0), (328, 0.0), (329, 0.0), (331, 0.0), (332, 0.0), (335, 0.0), (336, 0.0), (337, 0.0), (338, 0.0), (340, 0.0), (341, 0.0), (344, 0.0), (345, 0.0), (346, 0.0), (352, 0.0), (360, 0.0), (361, 0.0), (363, 0.0), (365, 0.0), (366, 0.0), (377, 0.0), (383, 0.0), (384, 0.0), (386, 0.0), (391, 0.0), (393, 0.0), (395, 0.0), (396, 0.0), (398, 0.0), (402, 0.0), (404, 0.0), (411, 0.0), (412, 0.0), (414, 0.0), (415, 0.0), (417, 0.0), (418, 0.0), (420, 0.0), (421, 0.0), (422, 0.0), (424, 0.0), (425, 0.0), (426, 0.0), (432, 0.0), (435, 0.0), (444, 0.0), (445, 0.0), (446, 0.0), (447, 0.0), (451, 0.0), (454, 0.0), (459, 0.0), (461, 0.0), (462, 0.0), (466, 0.0), (468, 0.0), (473, 0.0), (474, 0.0), (476, 0.0), (477, 0.0), (478, 0.0), (485, 0.0), (486, 0.0), (489, 0.0), (494, 0.0), (499, 0.0), (501, 0.0), (507, 0.0), (508, 0.0), (512, 0.0), (513, 0.0), (514, 0.0), (518, 0.0), (520, 0.0), (521, 0.0), (523, 0.0), (524, 0.0), (525, 0.0), (526, 0.0), (527, 0.0), (528, 0.0), (529, 0.0), (530, 0.0), (531, 0.0), (532, 0.0), (535, 0.0), (536, 0.0), (538, 0.0), (539, 0.0), (540, 0.0), (541, 0.0), (544, 0.0), (548, 0.0), (549, 0.0), (550, 0.0), (556, 0.0), (557, 0.0), (559, 0.0), (560, 0.0), (568, 0.0), (569, 0.0), (570, 0.0), (573, 0.0), (574, 0.0), (575, 0.0), (581, 0.0), (582, 0.0), (583, 0.0), (585, 0.0), (586, 0.0), (592, 0.0), (593, 0.0), (595, 0.0), (597, 0.0), (610, 0.0), (615, 0.0), (618, 0.0), (620, 0.0), (621, 0.0), (629, 0.0), (630, 0.0), (631, 0.0), (632, 0.0), (634, 0.0), (635, 0.0), (639, 0.0), (640, 0.0), (645, 0.0), (646, 0.0), (647, 0.0), (648, 0.0), (650, 0.0), (654, 0.0), (658, 0.0), (661, 0.0), (662, 0.0), (664, 0.0), (665, 0.0), (667, 0.0), (668, 0.0), (671, 0.0), (675, 0.0), (677, 0.0), (679, 0.0), (680, 0.0), (682, 0.0), (683, 0.0), (685, 0.0), (690, 0.0), (691, 0.0), (695, 0.0), (699, 0.0), (700, 0.0), (704, 0.0), (708, 0.0), (709, 0.0), (711, 0.0), (713, 0.0), (714, 0.0), (715, 0.0), (717, 0.0), (718, 0.0), (720, 0.0), (723, 0.0), (724, 0.0), (725, 0.0), (726, 0.0), (730, 0.0), (736, 0.0), (737, 0.0), (738, 0.0), (740, 0.0), (741, 0.0), (746, 0.0), (752, 0.0), (753, 0.0), (754, 0.0), (759, 0.0), (764, 0.0), (765, 0.0), (766, 0.0), (767, 0.0), (768, 0.0), (770, 0.0), (771, 0.0), (772, 0.0), (773, 0.0), (775, 0.0), (779, 0.0), (781, 0.0), (782, 0.0), (784, 0.0), (785, 0.0), (786, 0.0), (789, 0.0), (791, 0.0), (793, 0.0), (795, 0.0), (797, 0.0), (801, 0.0), (805, 0.0), (807, 0.0), (809, 0.0), (811, 0.0), (814, 0.0), (819, 0.0), (820, 0.0), (821, 0.0), (822, 0.0), (823, 0.0), (825, 0.0), (827, 0.0), (828, 0.0), (839, 0.0), (840, 0.0), (841, 0.0), (842, 0.0), (845, 0.0), (846, 0.0), (848, 0.0), (849, 0.0), (853, 0.0), (859, 0.0), (862, 0.0), (868, 0.0), (869, 0.0), (874, 0.0), (881, 0.0), (882, 0.0), (883, 0.0), (884, 0.0), (887, 0.0), (889, 0.0), (890, 0.0), (892, 0.0), (893, 0.0), (895, 0.0), (898, 0.0), (899, 0.0), (901, 0.0), (904, 0.0), (905, 0.0), (906, 0.0), (908, 0.0), (909, 0.0), (914, 0.0), (915, 0.0), (917, 0.0), (920, 0.0), (922, 0.0), (926, 0.0), (927, 0.0), (928, 0.0), (933, 0.0), (935, 0.0), (938, 0.0), (941, 0.0), (943, 0.0), (945, 0.0), (948, 0.0), (949, 0.0), (950, 0.0), (954, 0.0), (955, 0.0), (956, 0.0), (960, 0.0), (964, 0.0), (965, 0.0), (970, 0.0), (971, 0.0), (972, 0.0), (973, 0.0), (974, 0.0), (976, 0.0), (978, 0.0), (983, 0.0), (990, 0.0), (994, 0.0), (995, 0.0), (996, 0.0), (1004, 0.0), (1010, 0.0), (1012, 0.0), (1018, 0.0), (1024, 0.0), (1028, 0.0), (1032, 0.0), (1033, 0.0), (1036, 0.0), (1037, 0.0), (1038, 0.0), (1039, 0.0), (1042, 0.0), (1043, 0.0), (1045, 0.0), (1048, 0.0), (1051, 0.0), (1059, 0.0), (1061, 0.0), (1062, 0.0), (1063, 0.0), (1067, 0.0), (1068, 0.0), (1070, 0.0), (1072, 0.0), (1073, 0.0), (1076, 0.0), (1085, 0.0), (1086, 0.0), (1087, 0.0), (1089, 0.0), (1090, 0.0), (1093, 0.0), (1094, 0.0), (1096, 0.0), (1098, 0.0), (1099, 0.0), (1100, 0.0), (1104, 0.0), (1105, 0.0), (1106, 0.0), (1110, 0.0), (1112, 0.0), (1114, 0.0), (1115, 0.0), (1116, 0.0), (1118, 0.0), (1121, 0.0), (1124, 0.0), (1125, 0.0), (1126, 0.0), (1127, 0.0), (1128, 0.0), (1133, 0.0), (1135, 0.0), (1139, 0.0), (1142, 0.0), (1144, 0.0), (1145, 0.0), (1147, 0.0), (1148, 0.0), (1149, 0.0), (1152, 0.0), (1155, 0.0), (1156, 0.0), (1158, 0.0), (1162, 0.0), (1165, 0.0), (1166, 0.0), (1167, 0.0), (1168, 0.0), (1172, 0.0), (1173, 0.0), (1174, 0.0), (1180, 0.0), (1181, 0.0), (1189, 0.0), (1190, 0.0), (1193, 0.0), (1194, 0.0), (1198, 0.0), (1200, 0.0), (1201, 0.0), (1203, 0.0), (1207, 0.0), (1210, 0.0), (1211, 0.0), (1213, 0.0), (1218, 0.0), (1222, 0.0), (1226, 0.0), (1227, 0.0), (1228, 0.0), (1231, 0.0), (1235, 0.0), (1238, 0.0), (1239, 0.0), (1240, 0.0), (1242, 0.0), (1243, 0.0), (1244, 0.0), (1246, 0.0), (1253, 0.0), (1254, 0.0), (1258, 0.0), (1259, 0.0), (1260, 0.0), (1263, 0.0), (1266, 0.0), (1267, 0.0), (1268, 0.0), (1270, 0.0), (1272, 0.0), (1274, 0.0), (1276, 0.0), (1277, 0.0), (1282, 0.0), (1283, 0.0), (1284, 0.0), (1287, 0.0), (1288, 0.0), (1291, 0.0), (1293, 0.0), (1294, 0.0), (1297, 0.0), (1299, 0.0), (1300, 0.0), (1301, 0.0), (1302, 0.0), (1304, 0.0), (1310, 0.0), (1311, 0.0), (1312, 0.0), (1316, 0.0), (1319, 0.0), (1322, 0.0), (1323, 0.0), (1326, 0.0), (1327, 0.0), (1328, 0.0), (1329, 0.0), (1330, 0.0), (1332, 0.0), (1333, 0.0), (1336, 0.0), (1339, 0.0), (1342, 0.0), (1343, 0.0), (1344, 0.0), (1346, 0.0), (1348, 0.0), (1353, 0.0), (1355, 0.0), (1362, 0.0), (1363, 0.0), (1366, 0.0), (1368, 0.0), (1369, 0.0), (1371, 0.0), (1373, 0.0), (1374, 0.0), (1380, 0.0), (1384, 0.0), (1386, 0.0), (1388, 0.0), (1389, 0.0), (1391, 0.0), (1392, 0.0), (1393, 0.0), (1395, 0.0), (1397, 0.0), (1399, 0.0), (1402, 0.0), (1404, 0.0), (1405, 0.0), (1406, 0.0), (1407, 0.0), (1409, 0.0), (1412, 0.0), (1416, 0.0), (1418, 0.0), (1419, 0.0), (1420, 0.0), (1424, 0.0), (1425, 0.0), (1426, 0.0), (1428, 0.0), (1430, 0.0), (1431, 0.0), (1432, 0.0), (1434, 0.0), (1435, 0.0), (1436, 0.0), (1439, 0.0), (1440, 0.0), (1441, 0.0), (1443, 0.0), (1444, 0.0), (1445, 0.0), (1447, 0.0), (1449, 0.0), (1450, 0.0), (1451, 0.0), (1452, 0.0), (1456, 0.0), (1457, 0.0), (1459, 0.0), (1464, 0.0), (1465, 0.0), (1466, 0.0), (1473, 0.0), (1479, 0.0), (1480, 0.0), (1482, 0.0), (1485, 0.0), (1487, 0.0), (1490, 0.0), (1491, 0.0), (1493, 0.0), (1495, 0.0), (1497, 0.0), (1499, 0.0), (1500, 0.0), (1501, 0.0), (1504, 0.0), (1507, 0.0), (1508, 0.0), (1511, 0.0), (1512, 0.0), (1516, 0.0), (1520, 0.0), (1522, 0.0), (1523, 0.0), (1525, 0.0), (1526, 0.0), (1529, 0.0), (1531, 0.0), (1532, 0.0), (1534, 0.0), (1538, 0.0), (1540, 0.0), (1542, 0.0), (1544, 0.0), (1545, 0.0), (1548, 0.0), (1549, 0.0), (1550, 0.0), (1551, 0.0), (1552, 0.0), (1553, 0.0), (1555, 0.0), (1556, 0.0), (1557, 0.0), (1559, 0.0), (1560, 0.0), (1561, 0.0), (1562, 0.0), (1563, 0.0), (1564, 0.0), (1568, 0.0), (1571, 0.0), (1573, 0.0), (1574, 0.0), (1576, 0.0), (1577, 0.0), (1578, 0.0), (1580, 0.0), (1581, 0.0), (1583, 0.0), (1585, 0.0), (1586, 0.0), (1587, 0.0), (1588, 0.0), (1591, 0.0), (1593, 0.0), (1594, 0.0), (1596, 0.0), (1600, 0.0), (1602, 0.0), (1603, 0.0), (1604, 0.0), (1607, 0.0), (1609, 0.0), (1610, 0.0), (1611, 0.0), (1612, 0.0), (1615, 0.0), (1617, 0.0), (1618, 0.0), (1623, 0.0), (1625, 0.0), (1626, 0.0), (1630, 0.0), (1632, 0.0), (1633, 0.0), (1635, 0.0), (1636, 0.0), (1637, 0.0), (1638, 0.0), (1639, 0.0), (1640, 0.0), (1641, 0.0), (1642, 0.0), (1644, 0.0), (1646, 0.0), (1650, 0.0), (1654, 0.0), (1656, 0.0), (1659, 0.0), (1660, 0.0), (1661, 0.0), (1669, 0.0), (1670, 0.0), (1672, 0.0), (1673, 0.0), (1674, 0.0), (1676, 0.0), (1679, 0.0), (1680, 0.0), (1681, 0.0), (1683, 0.0), (1684, 0.0), (1686, 0.0), (1688, 0.0), (1689, 0.0), (1692, 0.0), (1694, 0.0), (1695, 0.0), (1697, 0.0), (1698, 0.0), (1699, 0.0), (1700, 0.0), (1702, 0.0), (1705, 0.0), (1708, 0.0), (1709, 0.0), (1712, 0.0), (1713, 0.0), (1715, 0.0), (1718, 0.0), (1720, 0.0), (1721, 0.0), (1724, 0.0), (1725, 0.0), (1726, 0.0), (1727, 0.0), (1728, 0.0), (1729, 0.0), (1731, 0.0), (1732, 0.0), (1733, 0.0), (1734, 0.0), (1735, 0.0), (1736, 0.0), (1737, 0.0), (1741, 0.0), (1742, 0.0), (1746, 0.0), (1749, 0.0), (1751, 0.0), (1752, 0.0), (1753, 0.0), (1754, 0.0), (1757, 0.0), (1758, 0.0), (1759, 0.0), (1761, 0.0), (1765, 0.0), (1766, 0.0), (1769, 0.0), (1770, 0.0), (1771, 0.0), (1775, 0.0), (1776, 0.0), (1777, 0.0), (1778, 0.0), (1785, 0.0), (1786, 0.0), (1787, 0.0), (1788, 0.0), (1789, 0.0), (1790, 0.0), (1792, 0.0), (1794, 0.0), (1795, 0.0), (1800, 0.0), (1801, 0.0), (1803, 0.0), (1804, 0.0), (1806, 0.0), (1807, 0.0), (1808, 0.0), (1809, 0.0), (1811, 0.0), (1812, 0.0), (1814, 0.0), (1815, 0.0), (1816, 0.0), (1818, 0.0), (1820, 0.0), (1824, 0.0), (1825, 0.0), (1826, 0.0), (1829, 0.0), (1831, 0.0), (1832, 0.0), (1834, 0.0), (1837, 0.0), (1840, 0.0), (1841, 0.0), (1842, 0.0), (1843, 0.0), (1844, 0.0), (1846, 0.0), (1847, 0.0), (1848, 0.0), (1849, 0.0), (1852, 0.0), (1854, 0.0), (1855, 0.0), (1856, 0.0), (1857, 0.0), (1858, 0.0), (1859, 0.0), (1860, 0.0), (1861, 0.0), (1863, 0.0), (1868, 0.0), (1870, 0.0), (1872, 0.0), (1873, 0.0), (1874, 0.0), (1877, 0.0), (1879, 0.0), (1881, 0.0), (1883, 0.0), (1888, 0.0), (1889, 0.0), (1890, 0.0), (1894, 0.0), (1898, 0.0), (1899, 0.0), (1900, 0.0), (1910, 0.0), (1913, 0.0), (1914, 0.0), (1915, 0.0), (1917, 0.0), (1921, 0.0), (1922, 0.0), (1927, 0.0), (1928, 0.0), (1930, 0.0), (1932, 0.0), (1935, 0.0), (1937, 0.0), (1939, 0.0), (1940, 0.0), (1941, 0.0), (1944, 0.0), (1945, 0.0), (1949, 0.0), (1952, 0.0), (1953, 0.0), (1954, 0.0), (1955, 0.0), (1956, 0.0), (1957, 0.0), (1958, 0.0), (1962, 0.0), (1970, 0.0), (1972, 0.0), (1973, 0.0), (1975, 0.0), (1978, 0.0), (1980, 0.0), (1986, 0.0), (1987, 0.0), (1988, 0.0), (1990, 0.0), (1992, 0.0), (1994, 0.0), (1996, 0.0), (1998, 0.0), (1999, 0.0), (2001, 0.0), (2002, 0.0), (2003, 0.0), (2005, 0.0), (2006, 0.0), (2013, 0.0), (2014, 0.0), (2015, 0.0), (2017, 0.0), (2020, 0.0), (2025, 0.0), (2026, 0.0), (2028, 0.0), (2030, 0.0), (2032, 0.0), (2033, 0.0), (2041, 0.0), (2042, 0.0), (2043, 0.0), (2046, 0.0), (2047, 0.0), (2050, 0.0), (2052, 0.0), (2054, 0.0), (2059, 0.0), (2060, 0.0), (2063, 0.0), (2066, 0.0), (2071, 0.0), (2072, 0.0), (2074, 0.0), (2076, 0.0), (2077, 0.0), (2080, 0.0), (2081, 0.0), (2082, 0.0), (2084, 0.0), (2085, 0.0), (2092, 0.0), (2093, 0.0), (2094, 0.0), (2095, 0.0), (2098, 0.0), (2099, 0.0), (2100, 0.0), (2101, 0.0), (2106, 0.0), (2107, 0.0), (2109, 0.0), (2110, 0.0), (2111, 0.0), (2113, 0.0), (2115, 0.0), (2119, 0.0), (2123, 0.0), (2124, 0.0), (2126, 0.0), (2128, 0.0), (2130, 0.0), (2135, 0.0), (2137, 0.0), (2138, 0.0), (2139, 0.0), (2141, 0.0), (2142, 0.0), (2145, 0.0), (2146, 0.0), (2148, 0.0), (2150, 0.0), (2151, 0.0), (2156, 0.0), (2158, 0.0), (2160, 0.0), (2161, 0.0), (2163, 0.0), (2164, 0.0), (2165, 0.0), (2166, 0.0), (2167, 0.0), (2168, 0.0), (2170, 0.0), (2171, 0.0), (2172, 0.0), (2173, 0.0), (2175, 0.0), (2179, 0.0), (2182, 0.0), (2184, 0.0), (2186, 0.0), (2187, 0.0), (2189, 0.0), (2192, 0.0), (2193, 0.0), (2194, 0.0), (2196, 0.0), (2197, 0.0), (2198, 0.0), (2200, 0.0), (2202, 0.0), (2203, 0.0), (2204, 0.0), (2206, 0.0), (2207, 0.0), (2209, 0.0), (2213, 0.0), (2219, 0.0), (2220, 0.0), (2225, 0.0), (2228, 0.0), (2231, 0.0), (2234, 0.0), (2235, 0.0), (2236, 0.0), (2238, 0.0), (2239, 0.0), (2241, 0.0), (2243, 0.0), (2244, 0.0), (2245, 0.0), (2246, 0.0), (2247, 0.0), (2248, 0.0), (2249, 0.0), (2252, 0.0), (2253, 0.0), (2256, 0.0), (2258, 0.0), (2259, 0.0), (2261, 0.0), (2262, 0.0), (2263, 0.0), (2264, 0.0), (2267, 0.0), (2270, 0.0), (2272, 0.0), (2273, 0.0), (2274, 0.0), (2275, 0.0), (2276, 0.0), (2281, 0.0), (2282, 0.0), (2284, 0.0), (2285, 0.0), (2288, 0.0), (2290, 0.0), (2291, 0.0), (2292, 0.0), (2293, 0.0), (2296, 0.0), (2298, 0.0), (2299, 0.0), (2303, 0.0), (2304, 0.0), (2305, 0.0), (2306, 0.0), (2307, 0.0), (2308, 0.0), (2309, 0.0), (2310, 0.0), (2312, 0.0), (2315, 0.0), (2317, 0.0), (2322, 0.0), (2324, 0.0), (2325, 0.0), (2327, 0.0), (2328, 0.0), (2329, 0.0), (2332, 0.0), (2333, 0.0), (2335, 0.0), (2336, 0.0), (2339, 0.0), (2340, 0.0), (2341, 0.0), (2342, 0.0), (2343, 0.0), (2345, 0.0), (2346, 0.0), (2351, 0.0), (2352, 0.0), (2353, 0.0), (2356, 0.0), (2358, 0.0), (2363, 0.0), (2364, 0.0), (2365, 0.0), (2368, 0.0), (2369, 0.0), (2370, 0.0), (2371, 0.0), (2373, 0.0), (2376, 0.0), (2377, 0.0), (2378, 0.0), (2380, 0.0), (2381, 0.0), (2383, 0.0), (2384, 0.0), (2387, 0.0), (2389, 0.0), (2392, 0.0), (2395, 0.0), (2396, 0.0), (2398, 0.0), (2401, 0.0), (2404, 0.0), (2408, 0.0), (2409, 0.0), (2410, 0.0), (2414, 0.0), (2417, 0.0), (2418, 0.0), (2419, 0.0), (2424, 0.0), (2425, 0.0), (2426, 0.0), (2429, 0.0), (2431, 0.0), (2433, 0.0), (2435, 0.0), (2440, 0.0), (2444, 0.0), (2445, 0.0), (2446, 0.0), (2449, 0.0), (2452, 0.0), (2454, 0.0), (2455, 0.0), (2456, 0.0), (2462, 0.0), (2463, 0.0), (2464, 0.0), (2468, 0.0), (2470, 0.0), (2472, 0.0), (2476, 0.0), (2480, 0.0), (2481, 0.0), (2483, 0.0), (2485, 0.0), (2486, 0.0), (2487, 0.0), (2491, 0.0), (2498, 0.0), (2499, 0.0), (2503, 0.0), (2504, 0.0), (2506, 0.0), (2507, 0.0), (2508, 0.0), (2510, 0.0), (2513, 0.0), (2514, 0.0), (2515, 0.0), (2516, 0.0), (2517, 0.0), (2518, 0.0), (2519, 0.0), (2523, 0.0), (2524, 0.0), (2525, 0.0), (2532, 0.0), (2533, 0.0), (2536, 0.0), (2537, 0.0), (2542, 0.0), (2543, 0.0), (2545, 0.0), (2546, 0.0), (2547, 0.0), (2551, 0.0), (2552, 0.0), (2557, 0.0), (2561, 0.0), (2564, 0.0), (2565, 0.0), (2566, 0.0), (2567, 0.0), (2569, 0.0), (2572, 0.0), (2574, 0.0), (2576, 0.0), (2577, 0.0), (2581, 0.0), (2582, 0.0), (2583, 0.0), (2586, 0.0), (2587, 0.0), (2589, 0.0), (2590, 0.0), (2595, 0.0), (2596, 0.0), (2597, 0.0), (2600, 0.0), (2604, 0.0), (2608, 0.0), (2610, 0.0), (2613, 0.0), (2615, 0.0), (2616, 0.0), (2617, 0.0), (2619, 0.0), (2620, 0.0), (2626, 0.0), (2627, 0.0), (2628, 0.0), (2630, 0.0), (2635, 0.0), (2636, 0.0), (2639, 0.0), (2640, 0.0), (2641, 0.0), (2646, 0.0), (2649, 0.0), (2651, 0.0), (2654, 0.0), (2656, 0.0), (2658, 0.0), (2659, 0.0), (2663, 0.0), (2667, 0.0), (2669, 0.0), (2670, 0.0), (2672, 0.0), (2673, 0.0), (2676, 0.0), (2677, 0.0), (2679, 0.0), (2683, 0.0), (2685, 0.0), (2686, 0.0), (2690, 0.0), (2693, 0.0), (2694, 0.0), (2699, 0.0), (2700, 0.0), (2701, 0.0), (2703, 0.0), (2704, 0.0), (2707, 0.0), (2710, 0.0), (2717, 0.0), (2718, 0.0), (2719, 0.0), (2721, 0.0), (2722, 0.0), (2723, 0.0), (2725, 0.0), (2726, 0.0), (2727, 0.0), (2728, 0.0), (2730, 0.0), (2732, 0.0), (2733, 0.0), (2734, 0.0), (2735, 0.0), (2736, 0.0), (2737, 0.0), (2739, 0.0), (2742, 0.0), (2750, 0.0), (2751, 0.0), (2752, 0.0), (2753, 0.0), (2759, 0.0), (2762, 0.0), (2763, 0.0), (2765, 0.0), (2773, 0.0), (2780, 0.0), (2781, 0.0), (2783, 0.0), (2785, 0.0), (2787, 0.0), (2788, 0.0), (2792, 0.0), (2793, 0.0), (2794, 0.0), (2799, 0.0), (2801, 0.0), (2805, 0.0), (2806, 0.0), (2807, 0.0), (2810, 0.0), (2814, 0.0), (2816, 0.0), (2818, 0.0), (2819, 0.0), (2820, 0.0), (2823, 0.0), (2825, 0.0), (2829, 0.0), (2833, 0.0), (2835, 0.0), (2836, 0.0), (2839, 0.0), (2841, 0.0), (2842, 0.0), (2847, 0.0), (2849, 0.0), (2851, 0.0), (2852, 0.0), (2853, 0.0), (2855, 0.0), (2856, 0.0), (2858, 0.0), (2861, 0.0), (2863, 0.0), (2864, 0.0), (2865, 0.0), (2866, 0.0), (2867, 0.0), (2868, 0.0), (2869, 0.0), (2873, 0.0), (2875, 0.0), (2877, 0.0), (2880, 0.0), (2882, 0.0), (2884, 0.0), (2885, 0.0), (2891, 0.0), (2895, 0.0), (2897, 0.0), (2900, 0.0), (2902, 0.0), (2905, 0.0), (2906, 0.0), (2909, 0.0), (2912, 0.0), (2913, 0.0), (2918, 0.0), (2921, 0.0), (2922, 0.0), (2923, 0.0), (2928, 0.0), (2929, 0.0), (2930, 0.0), (2935, 0.0), (2936, 0.0), (2938, 0.0), (2939, 0.0), (2940, 0.0), (2941, 0.0), (2942, 0.0), (2947, 0.0), (2948, 0.0), (2951, 0.0), (2952, 0.0), (2953, 0.0), (2954, 0.0), (2957, 0.0), (2959, 0.0), (2960, 0.0), (2962, 0.0), (2963, 0.0), (2964, 0.0), (2967, 0.0), (2968, 0.0), (2970, 0.0), (2971, 0.0), (2973, 0.0), (2978, 0.0), (2979, 0.0), (2983, 0.0), (2984, 0.0), (2985, 0.0), (2987, 0.0), (2990, 0.0), (2991, 0.0), (2992, 0.0), (2993, 0.0), (2994, 0.0), (2997, 0.0), (3000, 0.0), (3002, 0.0), (3003, 0.0), (3005, 0.0), (3006, 0.0), (3007, 0.0), (3008, 0.0), (3009, 0.0), (3010, 0.0), (3011, 0.0), (3016, 0.0), (3017, 0.0), (3020, 0.0), (3023, 0.0), (3029, 0.0), (3030, 0.0), (3031, 0.0), (3033, 0.0), (3034, 0.0), (3035, 0.0), (3038, 0.0), (3039, 0.0), (3041, 0.0), (3042, 0.0), (3046, 0.0), (3049, 0.0), (3052, 0.0), (3053, 0.0), (3054, 0.0), (3055, 0.0), (3057, 0.0), (3058, 0.0), (3060, 0.0), (3061, 0.0), (3064, 0.0), (3070, 0.0), (3077, 0.0), (3078, 0.0), (3082, 0.0), (3085, 0.0), (3087, 0.0), (3088, 0.0), (3090, 0.0), (3092, 0.0), (3093, 0.0), (3095, 0.0), (3098, 0.0), (3099, 0.0), (3102, 0.0), (3103, 0.0), (3104, 0.0), (3106, 0.0), (3107, 0.0), (3109, 0.0), (3110, 0.0), (3113, 0.0), (3115, 0.0), (3117, 0.0), (3118, 0.0), (3119, 0.0), (3124, 0.0), (3126, 0.0), (3128, 0.0), (3129, 0.0), (3130, 0.0), (3135, 0.0), (3136, 0.0), (3138, 0.0), (3139, 0.0), (3143, 0.0), (3144, 0.0), (3145, 0.0), (3149, 0.0), (3150, 0.0), (3155, 0.0), (3157, 0.0), (3159, 0.0), (3162, 0.0), (3163, 0.0), (3164, 0.0), (3167, 0.0), (3168, 0.0), (3172, 0.0), (3173, 0.0), (3174, 0.0), (3175, 0.0), (3176, 0.0), (3185, 0.0), (3186, 0.0), (3188, 0.0), (3189, 0.0), (3190, 0.0), (3192, 0.0), (3197, 0.0), (3202, 0.0), (3203, 0.0), (3204, 0.0), (3205, 0.0), (3206, 0.0), (3207, 0.0), (3208, 0.0), (3209, 0.0), (3211, 0.0), (3212, 0.0), (3213, 0.0), (3215, 0.0), (3216, 0.0), (3217, 0.0), (3222, 0.0), (3223, 0.0), (3224, 0.0), (3229, 0.0), (3230, 0.0), (3236, 0.0), (3239, 0.0), (3243, 0.0), (3244, 0.0), (3245, 0.0), (3249, 0.0), (3250, 0.0), (3251, 0.0), (3252, 0.0), (3253, 0.0), (3255, 0.0), (3256, 0.0), (3260, 0.0), (3261, 0.0), (3263, 0.0), (3264, 0.0), (3266, 0.0), (3267, 0.0), (3269, 0.0), (3271, 0.0), (3272, 0.0), (3277, 0.0), (3280, 0.0), (3285, 0.0), (3287, 0.0), (3288, 0.0), (3289, 0.0), (3290, 0.0), (3295, 0.0), (3299, 0.0), (3306, 0.0), (3307, 0.0), (3309, 0.0), (3310, 0.0), (3312, 0.0), (3313, 0.0), (3319, 0.0), (3320, 0.0), (3322, 0.0), (3324, 0.0), (3329, 0.0), (3333, 0.0), (3334, 0.0), (3335, 0.0), (3337, 0.0), (3338, 0.0), (3339, 0.0), (3340, 0.0), (3341, 0.0), (3343, 0.0), (3345, 0.0), (3348, 0.0), (3350, 0.0), (3354, 0.0), (3356, 0.0), (3358, 0.0), (3366, 0.0), (3369, 0.0), (3371, 0.0), (3372, 0.0), (3373, 0.0), (3376, 0.0), (3378, 0.0), (3381, 0.0), (3382, 0.0), (3383, 0.0), (3384, 0.0), (3387, 0.0), (3390, 0.0), (3392, 0.0), (3395, 0.0), (3396, 0.0), (3397, 0.0), (3398, 0.0), (3400, 0.0), (3401, 0.0), (3404, 0.0), (3410, 0.0), (3411, 0.0), (3412, 0.0), (3415, 0.0), (3418, 0.0), (3419, 0.0), (3420, 0.0), (3423, 0.0), (3424, 0.0), (3426, 0.0), (3429, 0.0), (3430, 0.0), (3431, 0.0), (3432, 0.0), (3434, 0.0), (3438, 0.0), (3440, 0.0), (3442, 0.0), (3444, 0.0), (3446, 0.0), (3448, 0.0), (3451, 0.0), (3454, 0.0), (3455, 0.0), (3456, 0.0), (3457, 0.0), (3458, 0.0), (3459, 0.0), (3461, 0.0), (3462, 0.0), (3464, 0.0), (3465, 0.0), (3466, 0.0), (3470, 0.0), (3472, 0.0), (3473, 0.0), (3476, 0.0), (3478, 0.0), (3481, 0.0), (3482, 0.0), (3485, 0.0), (3486, 0.0), (3488, 0.0), (3489, 0.0), (3490, 0.0), (3491, 0.0), (3494, 0.0), (3497, 0.0), (3499, 0.0), (3505, 0.0), (3507, 0.0), (3508, 0.0), (3509, 0.0), (3510, 0.0), (3517, 0.0), (3518, 0.0), (3519, 0.0), (3522, 0.0), (3523, 0.0), (3529, 0.0), (3531, 0.0), (3535, 0.0), (3536, 0.0), (3537, 0.0), (3538, 0.0), (3540, 0.0), (3543, 0.0), (3544, 0.0), (3545, 0.0), (3548, 0.0), (3549, 0.0), (3550, 0.0), (3554, 0.0), (3555, 0.0), (3561, 0.0), (3562, 0.0), (3565, 0.0), (3566, 0.0), (3567, 0.0), (3568, 0.0), (3570, 0.0), (3572, 0.0), (3573, 0.0), (3574, 0.0), (3578, 0.0), (3581, 0.0), (3582, 0.0), (3583, 0.0), (3584, 0.0), (3585, 0.0), (3586, 0.0), (3587, 0.0), (3588, 0.0), (3592, 0.0), (3593, 0.0), (3596, 0.0), (3599, 0.0), (3600, 0.0), (3602, 0.0), (3603, 0.0), (3606, 0.0), (3607, 0.0), (3608, 0.0), (3609, 0.0), (3610, 0.0), (3611, 0.0), (3616, 0.0), (3617, 0.0), (3621, 0.0), (3622, 0.0), (3628, 0.0), (3629, 0.0), (3630, 0.0), (3631, 0.0), (3632, 0.0), (3633, 0.0), (3636, 0.0), (3642, 0.0), (3644, 0.0), (3647, 0.0), (3648, 0.0), (3649, 0.0), (3650, 0.0), (3652, 0.0), (3658, 0.0), (3659, 0.0), (3661, 0.0), (3662, 0.0), (3663, 0.0), (3665, 0.0), (3668, 0.0), (3670, 0.0), (3671, 0.0), (3672, 0.0), (3676, 0.0), (3677, 0.0), (3678, 0.0), (3679, 0.0), (3681, 0.0), (3682, 0.0), (3683, 0.0), (3684, 0.0), (3686, 0.0), (3687, 0.0), (3691, 0.0), (3697, 0.0), (3698, 0.0), (3700, 0.0), (3701, 0.0), (3702, 0.0), (3703, 0.0), (3708, 0.0), (3710, 0.0), (3711, 0.0), (3712, 0.0), (3713, 0.0), (3715, 0.0), (3717, 0.0), (3719, 0.0), (3721, 0.0), (3722, 0.0), (3723, 0.0), (3725, 0.0), (3726, 0.0), (3729, 0.0), (3731, 0.0), (3732, 0.0), (3733, 0.0), (3735, 0.0), (3736, 0.0), (3737, 0.0), (3738, 0.0), (3741, 0.0), (3746, 0.0), (3748, 0.0), (3750, 0.0), (3752, 0.0), (3753, 0.0), (3757, 0.0), (3758, 0.0), (3759, 0.0), (3760, 0.0), (3761, 0.0), (3762, 0.0), (3764, 0.0), (3768, 0.0), (3769, 0.0), (3770, 0.0), (3774, 0.0), (3775, 0.0), (3776, 0.0), (3779, 0.0), (3781, 0.0), (3782, 0.0), (3785, 0.0), (3786, 0.0), (3788, 0.0), (3789, 0.0), (3791, 0.0), (3792, 0.0), (3793, 0.0), (3794, 0.0), (3796, 0.0), (3800, 0.0), (3804, 0.0), (3805, 0.0), (3806, 0.0), (3808, 0.0), (3810, 0.0), (3812, 0.0), (3814, 0.0), (3815, 0.0), (3816, 0.0), (3817, 0.0), (3818, 0.0), (3820, 0.0), (3821, 0.0), (3823, 0.0), (3824, 0.0), (3825, 0.0), (3830, 0.0), (3831, 0.0), (3833, 0.0), (3836, 0.0), (3837, 0.0), (3838, 0.0), (3841, 0.0), (3842, 0.0), (3844, 0.0), (3846, 0.0), (3847, 0.0), (3848, 0.0), (3849, 0.0), (3851, 0.0), (3852, 0.0), (3853, 0.0), (3857, 0.0), (3858, 0.0), (3859, 0.0), (3860, 0.0), (3861, 0.0), (3863, 0.0), (3864, 0.0), (3865, 0.0), (3870, 0.0), (3872, 0.0), (3874, 0.0), (3877, 0.0), (3878, 0.0), (3879, 0.0), (3881, 0.0), (3885, 0.0), (3887, 0.0), (3891, 0.0), (3894, 0.0), (3896, 0.0), (3899, 0.0), (3905, 0.0), (3909, 0.0), (3911, 0.0), (3912, 0.0), (3914, 0.0), (3916, 0.0), (3918, 0.0), (3921, 0.0), (3926, 0.0), (3929, 0.0), (3930, 0.0), (3931, 0.0), (3933, 0.0), (3934, 0.0), (3935, 0.0), (3936, 0.0), (3938, 0.0), (3939, 0.0), (3940, 0.0), (3942, 0.0), (3943, 0.0), (3944, 0.0), (3945, 0.0), (3946, 0.0), (3947, 0.0), (3948, 0.0), (3949, 0.0), (3950, 0.0), (3951, 0.0), (3958, 0.0), (3961, 0.0), (3963, 0.0), (3964, 0.0), (3967, 0.0), (3969, 0.0), (3970, 0.0), (3971, 0.0), (3976, 0.0), (3978, 0.0), (3979, 0.0), (3980, 0.0), (3981, 0.0), (3985, 0.0), (3986, 0.0), (3987, 0.0), (3988, 0.0), (3989, 0.0), (3991, 0.0), (3993, 0.0), (3995, 0.0), (3996, 0.0), (3999, 0.0), (4000, 0.0), (4001, 0.0), (4002, 0.0), (4004, 0.0), (4006, 0.0), (4009, 0.0), (4010, 0.0), (4012, 0.0), (4013, 0.0), (4017, 0.0), (4019, 0.0), (4021, 0.0), (4023, 0.0), (4026, 0.0), (4027, 0.0), (4028, 0.0), (4029, 0.0), (4030, 0.0), (4031, 0.0), (4032, 0.0), (4034, 0.0), (4035, 0.0), (4037, 0.0), (4039, 0.0), (4040, 0.0), (4042, 0.0), (4043, 0.0), (4044, 0.0), (4045, 0.0), (4047, 0.0), (4048, 0.0), (4049, 0.0), (4050, 0.0), (4052, 0.0), (4055, 0.0), (4057, 0.0), (4058, 0.0), (4059, 0.0), (4061, 0.0), (4062, 0.0), (4064, 0.0), (4065, 0.0), (4071, 0.0), (4072, 0.0), (4073, 0.0), (4075, 0.0), (4078, 0.0), (4080, 0.0), (4083, 0.0), (4084, 0.0), (4086, 0.0), (4088, 0.0), (4089, 0.0), (4090, 0.0), (4093, 0.0), (4094, 0.0), (4096, 0.0), (4097, 0.0), (4099, 0.0), (4102, 0.0), (4103, 0.0), (4104, 0.0), (4105, 0.0), (4106, 0.0), (4107, 0.0), (4109, 0.0), (4112, 0.0), (4115, 0.0), (4118, 0.0), (4119, 0.0), (4120, 0.0), (4121, 0.0), (4122, 0.0), (4125, 0.0), (4126, 0.0), (4127, 0.0), (4129, 0.0), (4131, 0.0), (4132, 0.0), (4134, 0.0), (4136, 0.0), (4140, 0.0), (4142, 0.0), (4145, 0.0), (4146, 0.0), (4147, 0.0), (4149, 0.0), (4150, 0.0), (4155, 0.0), (4157, 0.0), (4158, 0.0), (4161, 0.0), (4162, 0.0), (4166, 0.0), (4167, 0.0), (4169, 0.0), (4170, 0.0), (4172, 0.0), (4173, 0.0), (4174, 0.0), (4175, 0.0), (4177, 0.0), (4179, 0.0), (4180, 0.0), (4184, 0.0), (4185, 0.0), (4186, 0.0), (4188, 0.0), (4190, 0.0), (4191, 0.0), (4193, 0.0), (4195, 0.0), (4196, 0.0), (4197, 0.0), (4198, 0.0), (4199, 0.0), (4200, 0.0), (4201, 0.0), (4204, 0.0), (4206, 0.0), (4207, 0.0), (4208, 0.0), (4209, 0.0), (4211, 0.0), (4212, 0.0), (4213, 0.0), (4214, 0.0), (4216, 0.0), (4218, 0.0), (4219, 0.0), (4220, 0.0), (4221, 0.0), (4222, 0.0), (4223, 0.0), (4224, 0.0), (4225, 0.0), (4226, 0.0), (4227, 0.0), (4228, 0.0), (4229, 0.0), (4230, 0.0), (4232, 0.0), (4233, 0.0), (4234, 0.0), (4235, 0.0), (4236, 0.0), (4237, 0.0), (4239, 0.0), (4241, 0.0), (4242, 0.0), (4245, 0.0), (4246, 0.0), (4251, 0.0), (4252, 0.0), (4253, 0.0), (4254, 0.0), (4256, 0.0), (4258, 0.0), (4260, 0.0), (4262, 0.0), (4263, 0.0), (4265, 0.0), (4267, 0.0), (4270, 0.0), (4271, 0.0), (4272, 0.0), (4273, 0.0), (4274, 0.0), (4275, 0.0), (4277, 0.0), (4278, 0.0), (4279, 0.0), (4280, 0.0), (4281, 0.0), (4289, 0.0), (4290, 0.0), (4291, 0.0), (4292, 0.0), (4294, 0.0), (4296, 0.0), (4297, 0.0), (4298, 0.0), (4300, 0.0), (4301, 0.0), (4303, 0.0), (4305, 0.0), (4306, 0.0), (4307, 0.0), (4308, 0.0), (4310, 0.0), (4313, 0.0), (4314, 0.0), (4315, 0.0), (4316, 0.0), (4317, 0.0), (4318, 0.0), (4320, 0.0), (4322, 0.0), (4323, 0.0), (4324, 0.0), (4325, 0.0), (4326, 0.0), (4327, 0.0), (4328, 0.0), (4329, 0.0), (4331, 0.0), (4332, 0.0), (4335, 0.0), (4337, 0.0), (4338, 0.0), (4340, 0.0), (4341, 0.0), (4342, 0.0), (4343, 0.0), (4347, 0.0), (4348, 0.0), (4349, 0.0), (4351, 0.0), (4352, 0.0), (4353, 0.0), (4354, 0.0), (4355, 0.0), (4358, 0.0), (4359, 0.0), (4361, 0.0), (4363, 0.0), (4366, 0.0), (4367, 0.0), (4370, 0.0), (4372, 0.0), (4375, 0.0), (4376, 0.0), (4380, 0.0), (4381, 0.0), (4386, 0.0), (4389, 0.0), (4390, 0.0), (4392, 0.0), (4393, 0.0), (4395, 0.0), (4396, 0.0), (4397, 0.0), (4398, 0.0), (4399, 0.0), (4400, 0.0), (4404, 0.0), (4405, 0.0), (4407, 0.0), (4408, 0.0), (4409, 0.0), (4410, 0.0), (4413, 0.0), (4414, 0.0), (4415, 0.0), (4416, 0.0), (4417, 0.0), (4418, 0.0), (4421, 0.0), (4423, 0.0), (4424, 0.0), (4425, 0.0), (4426, 0.0), (4427, 0.0), (4428, 0.0), (4431, 0.0), (4433, 0.0), (4436, 0.0), (4437, 0.0), (4438, 0.0), (4439, 0.0), (4440, 0.0), (4441, 0.0), (4442, 0.0), (4445, 0.0), (4447, 0.0), (4449, 0.0), (4450, 0.0), (4451, 0.0), (4452, 0.0), (4454, 0.0), (4455, 0.0), (4456, 0.0), (4457, 0.0), (4458, 0.0), (4459, 0.0), (4460, 0.0), (4461, 0.0), (4462, 0.0), (4463, 0.0), (4464, 0.0), (4465, 0.0), (4469, 0.0), (4471, 0.0), (4474, 0.0), (4476, 0.0), (4478, 0.0), (4481, 0.0), (4482, 0.0), (4483, 0.0), (4486, 0.0), (4491, 0.0), (4492, 0.0), (4496, 0.0), (4497, 0.0), (4498, 0.0), (4499, 0.0), (4500, 0.0), (4505, 0.0), (4506, 0.0), (4508, 0.0), (4509, 0.0), (4512, 0.0), (4513, 0.0), (4514, 0.0), (4515, 0.0), (4518, 0.0), (4519, 0.0), (4524, 0.0), (4525, 0.0), (4526, 0.0), (4527, 0.0), (4531, 0.0), (4532, 0.0), (4534, 0.0), (4537, 0.0), (4538, 0.0), (4539, 0.0), (4540, 0.0), (4541, 0.0), (4543, 0.0), (4544, 0.0), (4548, 0.0), (4549, 0.0), (4550, 0.0), (4552, 0.0), (4553, 0.0), (4557, 0.0), (4558, 0.0), (4559, 0.0), (4560, 0.0), (4561, 0.0), (4564, 0.0), (4565, 0.0), (4567, 0.0), (4568, 0.0), (4569, 0.0), (4570, 0.0), (4572, 0.0), (4574, 0.0), (4576, 0.0), (4577, 0.0), (4578, 0.0), (4579, 0.0), (4580, 0.0), (4582, 0.0), (4583, 0.0), (4585, 0.0), (4586, 0.0), (4587, 0.0), (4592, 0.0), (4595, 0.0), (4596, 0.0), (4597, 0.0), (4599, 0.0), (4600, 0.0), (4602, 0.0), (4604, 0.0), (4605, 0.0), (4606, 0.0), (4607, 0.0), (4608, 0.0), (4609, 0.0), (4611, 0.0), (4612, 0.0), (4613, 0.0), (4614, 0.0), (4615, 0.0), (4616, 0.0), (4618, 0.0), (4620, 0.0), (4621, 0.0), (4623, 0.0), (4627, 0.0), (4630, 0.0), (4631, 0.0), (4633, 0.0), (4634, 0.0), (4635, 0.0), (4639, 0.0), (4642, 0.0), (4644, 0.0), (4645, 0.0), (4646, 0.0), (4647, 0.0), (4648, 0.0), (4649, 0.0), (4651, 0.0), (4652, 0.0), (4653, 0.0), (4654, 0.0), (4655, 0.0), (4656, 0.0), (4659, 0.0), (4661, 0.0), (4662, 0.0), (4663, 0.0), (4664, 0.0), (4665, 0.0), (4666, 0.0), (4671, 0.0), (4672, 0.0), (4675, 0.0), (4678, 0.0), (4679, 0.0), (4680, 0.0), (4681, 0.0), (4682, 0.0), (4684, 0.0), (4685, 0.0), (4686, 0.0), (4687, 0.0), (4689, 0.0), (4690, 0.0), (4691, 0.0), (4692, 0.0), (4693, 0.0), (4694, 0.0), (4695, 0.0), (4698, 0.0), (4700, 0.0), (4702, 0.0), (4703, 0.0), (4704, 0.0), (4705, 0.0), (4707, 0.0), (4708, 0.0), (4709, 0.0), (4711, 0.0), (4715, 0.0), (4716, 0.0), (4717, 0.0), (4719, 0.0), (4720, 0.0), (4721, 0.0), (4724, 0.0), (4726, 0.0), (4727, 0.0), (4728, 0.0), (4729, 0.0), (4732, 0.0), (4735, 0.0), (4736, 0.0), (4737, 0.0), (4738, 0.0), (4741, 0.0), (4742, 0.0), (4743, 0.0), (4744, 0.0), (4745, 0.0), (4746, 0.0), (4747, 0.0), (4748, 0.0), (4749, 0.0), (4750, 0.0), (4751, 0.0), (4753, 0.0), (4754, 0.0), (4755, 0.0), (4756, 0.0), (4758, 0.0), (4759, 0.0)]\n"
          ]
        }
      ]
    },
    {
      "cell_type": "code",
      "source": [
        "print('Top 30 MoviesSuggested For You ; \\n')\n",
        "i=1\n",
        "for movie in Sorted_Similar_Movies:\n",
        "  index=movie[0]\n",
        "  title_from_index = df[df.index==index]['Movie_Title'].values[0]\n",
        "  if (i<31):\n",
        "    print(i,'.',title_from_index)\n",
        "    i+=1\n"
      ],
      "metadata": {
        "id": "vjxNChX7w4HR",
        "outputId": "cf56aac1-3dbb-47a5-ffa7-8a8c109f6752",
        "colab": {
          "base_uri": "https://localhost:8080/"
        }
      },
      "execution_count": null,
      "outputs": [
        {
          "output_type": "stream",
          "name": "stdout",
          "text": [
            "Top 30 MoviesSuggested For You ; \n",
            "\n",
            "1 . Primer\n",
            "2 . Hot Tub Time Machine\n",
            "3 . Project Almanac\n",
            "4 . Timecop\n",
            "5 . Time Changer\n",
            "6 . Men in Black 3\n",
            "7 . Timeline\n",
            "8 . The Time Machine\n",
            "9 . Teenage Mutant Ninja Turtles III\n",
            "10 . A Sound of Thunder\n",
            "11 . The Sticky Fingers of Time\n",
            "12 . The Hours\n",
            "13 . The Visitors II: The Corridors of Time\n",
            "14 . Somewhere in Time\n",
            "15 . Enter Nowhere\n",
            "16 . Time Bandits\n",
            "17 . Timecrimes\n",
            "18 . The Butterfly Effect\n",
            "19 . About Time\n",
            "20 . Star Trek IV: The Voyage Home\n",
            "21 . Beastmaster 2: Through the Portal of Time\n",
            "22 . Bang Bang Baby\n",
            "23 . Gone Girl\n",
            "24 . Crazy, Stupid, Love.\n",
            "25 . Friday the 13th Part VII: The New Blood\n",
            "26 . X-Men: Days of Future Past\n",
            "27 . Underworld: Rise of the Lycans\n",
            "28 . Star Wars\n",
            "29 . A Cinderella Story\n",
            "30 . Warlock\n"
          ]
        }
      ]
    },
    {
      "cell_type": "markdown",
      "source": [
        "**Top 10 Movie Recommendation System**"
      ],
      "metadata": {
        "id": "EjyWOWXT2GSE"
      }
    },
    {
      "cell_type": "code",
      "source": [
        "Movie_Name = input('Enter your Favourite movie name : ')\n",
        "list_of_all_titles=df['Movie_Title'].tolist()\n",
        "find_close_match=difflib.get_close_matches(Movie_Name, list_of_all_titles)\n",
        "Close_Match = find_close_match[0]\n",
        "Index_of_Movie = df[df.Movie_Title == Close_Match]['Movie_ID'].values[0]\n",
        "Recommendation_Score = list(enumerate(Similarity_Score[Index_of_Movie]))\n",
        "Sorted_Similar_Movies = sorted(Recommendation_Score, key=lambda x:x[1],reverse = True)\n",
        "print('Top 10 MoviesSuggested For You ; \\n')\n",
        "i=1\n",
        "for movie in Sorted_Similar_Movies:\n",
        "  index=movie[0]\n",
        "  title_from_index = df[df.index==index]['Movie_Title'].values[0]\n",
        "  if (i<11):\n",
        "    print(i,'.',title_from_index)\n",
        "    i+=1\n"
      ],
      "metadata": {
        "id": "WBJOzBWJwWQR",
        "outputId": "60672bbd-c015-4070-cbd2-90c5c4920b3d",
        "colab": {
          "base_uri": "https://localhost:8080/"
        }
      },
      "execution_count": null,
      "outputs": [
        {
          "output_type": "stream",
          "name": "stdout",
          "text": [
            "Enter your Favourite movie name : avatar\n",
            "Top 10 MoviesSuggested For You ; \n",
            "\n",
            "1 . Niagara\n",
            "2 . Some Like It Hot\n",
            "3 . The Kentucky Fried Movie\n",
            "4 . The Juror\n",
            "5 . Enough\n",
            "6 . Duel in the Sun\n",
            "7 . Superman III\n",
            "8 . Eye for an Eye\n",
            "9 . The Misfits\n",
            "10 . Beyond the Black Rainbow\n"
          ]
        }
      ]
    }
  ]
}